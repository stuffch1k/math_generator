{
 "cells": [
  {
   "cell_type": "code",
   "execution_count": 2,
   "metadata": {},
   "outputs": [],
   "source": [
    "import io\n",
    "import spb\n",
    "import numpy as np\n",
    "import sympy as sp\n",
    "import scipy as sc\n",
    "import sympy.plotting as smp\n",
    "from math import *\n",
    "from random import *\n",
    "from sympy import S, real_roots\n",
    "from sympy.abc import x, y"
   ]
  },
  {
   "cell_type": "markdown",
   "metadata": {},
   "source": [
    "конвертация матрицы в для отправки"
   ]
  },
  {
   "cell_type": "code",
   "execution_count": 3,
   "metadata": {},
   "outputs": [
    {
     "data": {
      "text/plain": [
       "{'data': [[1, 0, -2], [-2, 6, 5]]}"
      ]
     },
     "execution_count": 3,
     "metadata": {},
     "output_type": "execute_result"
    }
   ],
   "source": [
    "matrix = np.random.randint(-3,10,size=(2,3))\n",
    "dic = {\"data\": matrix.tolist()}\n",
    "dic"
   ]
  },
  {
   "cell_type": "markdown",
   "metadata": {},
   "source": [
    "конвертация массива в матрицу"
   ]
  },
  {
   "cell_type": "code",
   "execution_count": 4,
   "metadata": {},
   "outputs": [
    {
     "data": {
      "text/plain": [
       "matrix([[ 1,  0, -2],\n",
       "        [-2,  6,  5]])"
      ]
     },
     "execution_count": 4,
     "metadata": {},
     "output_type": "execute_result"
    }
   ],
   "source": [
    "np.asmatrix(dic['data'])"
   ]
  },
  {
   "cell_type": "markdown",
   "metadata": {},
   "source": [
    "определитель"
   ]
  },
  {
   "cell_type": "code",
   "execution_count": 5,
   "metadata": {},
   "outputs": [
    {
     "data": {
      "text/plain": [
       "(-104.0, -103.99999999999999)"
      ]
     },
     "execution_count": 5,
     "metadata": {},
     "output_type": "execute_result"
    }
   ],
   "source": [
    "matrix = np.random.randint(-3,10,size=(3,3))\n",
    "np.around(np.linalg.det(matrix), 1 ), np.linalg.det(matrix)"
   ]
  },
  {
   "cell_type": "markdown",
   "metadata": {},
   "source": [
    "транспонирование"
   ]
  },
  {
   "cell_type": "code",
   "execution_count": 6,
   "metadata": {},
   "outputs": [
    {
     "data": {
      "text/plain": [
       "array([[ 7,  0,  3],\n",
       "       [ 2, -1,  3],\n",
       "       [ 7,  6,  5]])"
      ]
     },
     "execution_count": 6,
     "metadata": {},
     "output_type": "execute_result"
    }
   ],
   "source": [
    "matrix.transpose()"
   ]
  },
  {
   "cell_type": "markdown",
   "metadata": {},
   "source": [
    "Ранг матрицы"
   ]
  },
  {
   "cell_type": "code",
   "execution_count": 7,
   "metadata": {},
   "outputs": [
    {
     "data": {
      "text/plain": [
       "3"
      ]
     },
     "execution_count": 7,
     "metadata": {},
     "output_type": "execute_result"
    }
   ],
   "source": [
    "np.linalg.matrix_rank(matrix)"
   ]
  },
  {
   "cell_type": "markdown",
   "metadata": {},
   "source": [
    "обратная матрица"
   ]
  },
  {
   "cell_type": "code",
   "execution_count": 8,
   "metadata": {},
   "outputs": [
    {
     "data": {
      "text/plain": [
       "array([[-3, -2,  5],\n",
       "       [-4,  5, -1],\n",
       "       [ 2, -9, -6]])"
      ]
     },
     "execution_count": 8,
     "metadata": {},
     "output_type": "execute_result"
    }
   ],
   "source": [
    "a = np.random.randint(-9, 10, size=(3,3))\n",
    "while (np.linalg.det(a) == 0):\n",
    "  a = np.random.randint(-9, 10, size=(3,3))\n",
    "a"
   ]
  },
  {
   "cell_type": "code",
   "execution_count": 9,
   "metadata": {},
   "outputs": [
    {
     "data": {
      "text/plain": [
       "array([[-0.1, -0.2, -0.1],\n",
       "       [-0.1,  0. , -0.1],\n",
       "       [ 0.1, -0.1, -0.1]])"
      ]
     },
     "execution_count": 9,
     "metadata": {},
     "output_type": "execute_result"
    }
   ],
   "source": [
    "InvA = np.around(np.linalg.inv(a), 1)\n",
    "InvA"
   ]
  },
  {
   "cell_type": "markdown",
   "metadata": {},
   "source": [
    "Сумма матриц"
   ]
  },
  {
   "cell_type": "code",
   "execution_count": 10,
   "metadata": {},
   "outputs": [
    {
     "data": {
      "text/plain": [
       "2"
      ]
     },
     "execution_count": 10,
     "metadata": {},
     "output_type": "execute_result"
    }
   ],
   "source": [
    "matrix = np.random.randint(10, size=(4, 4))\n",
    "row_count = matrix.shape[0]\n",
    "columns_count = matrix.shape[1]\n",
    "\n",
    "row_index = np.random.randint(0,row_count, size=(1,1))[0][0]\n",
    "column_index = np.random.randint(0,columns_count, size=(1,1))[0][0]\n",
    "answer = matrix[row_index][column_index]\n",
    "answer"
   ]
  },
  {
   "cell_type": "markdown",
   "metadata": {},
   "source": [
    "Умножение числа на матрицу"
   ]
  },
  {
   "cell_type": "code",
   "execution_count": 11,
   "metadata": {},
   "outputs": [
    {
     "data": {
      "text/plain": [
       "array([[56, 24, 24,  0],\n",
       "       [40, 48, 24, 16],\n",
       "       [ 8,  0, 56, 24],\n",
       "       [40, 32, 24,  8]])"
      ]
     },
     "execution_count": 11,
     "metadata": {},
     "output_type": "execute_result"
    }
   ],
   "source": [
    "matrix = np.random.randint(10, size=(4, 4))\n",
    "number = np.random.randint(1, 10, size=(1,1))[0][0]\n",
    "\n",
    "answer = matrix * number\n",
    "answer"
   ]
  },
  {
   "cell_type": "markdown",
   "metadata": {},
   "source": [
    "Умножение матриц"
   ]
  },
  {
   "cell_type": "code",
   "execution_count": 12,
   "metadata": {},
   "outputs": [
    {
     "data": {
      "text/plain": [
       "(array([[ 6, -4],\n",
       "        [ 5,  6]]),\n",
       " array([[ 3, -7],\n",
       "        [ 2, -5]]),\n",
       " array([[ 10, -22],\n",
       "        [ 27, -65]]))"
      ]
     },
     "execution_count": 12,
     "metadata": {},
     "output_type": "execute_result"
    }
   ],
   "source": [
    "matrix1 = np.random.randint(-9, 10, size=(2,2))\n",
    "matrix2 = np.random.randint(-9, 10, size=(2,2))\n",
    "\n",
    "\n",
    "matrix1,matrix2,np.dot(matrix1, matrix2)"
   ]
  },
  {
   "cell_type": "markdown",
   "metadata": {},
   "source": [
    "Генерация невырожденной матрицы"
   ]
  },
  {
   "cell_type": "code",
   "execution_count": 13,
   "metadata": {},
   "outputs": [],
   "source": [
    "def generateNonsingularMatrix(min_value, max_value, rows_count, columns_count):\n",
    "  a = np.random.randint(min_value, max_value, size=(rows_count, columns_count))\n",
    "  while (np.linalg.det(a) == 0):\n",
    "    a = np.random.randint(min_value, max_value, size=(rows_count, columns_count))\n",
    "\n",
    "  return a"
   ]
  },
  {
   "cell_type": "markdown",
   "metadata": {},
   "source": [
    "Уравнение с определителем"
   ]
  },
  {
   "cell_type": "code",
   "execution_count": 14,
   "metadata": {},
   "outputs": [
    {
     "name": "stdout",
     "output_type": "stream",
     "text": [
      "{'task': 'Какое значение должно стоять на месте x, чтобы соблюдалось равенство?', 'data': {'matrix': [['-7', '7', '6'], ['4', '4', '-1'], ['1', '1', 'x']], 'determinant': 154.0}, 'answer': -3}\n"
     ]
    }
   ],
   "source": [
    "def GenerateDeterminantEquationTask():\n",
    "  matrix = generateNonsingularMatrix(-9, 10, 3, 3)\n",
    "  determinant = np.around(np.linalg.det(matrix))\n",
    "\n",
    "  row_count = matrix.shape[0]\n",
    "  columns_count = matrix.shape[1]\n",
    "\n",
    "  row_index = np.random.randint(0,row_count, size=(1,1))[0][0]\n",
    "  column_index = np.random.randint(0,columns_count, size=(1,1))[0][0]\n",
    "  random_elem = matrix[row_index][column_index]\n",
    "\n",
    "  new_matrix = np.where(matrix == random_elem, \"x\", matrix)\n",
    "  task = \"Какое значение должно стоять на месте x, чтобы соблюдалось равенство?\" \n",
    "\n",
    "  dic = {\n",
    "    \"task\":task,\n",
    "    \"data\": {\"matrix\": new_matrix.tolist(), \"determinant\": determinant},\n",
    "    \"answer\": int(random_elem)}\n",
    "  return dic\n",
    "\n",
    "print(GenerateDeterminantEquationTask())"
   ]
  },
  {
   "cell_type": "markdown",
   "metadata": {},
   "source": [
    "Матричные уравнения"
   ]
  },
  {
   "cell_type": "code",
   "execution_count": 38,
   "metadata": {},
   "outputs": [
    {
     "name": "stdout",
     "output_type": "stream",
     "text": [
      "{'task': 'Решите уравнение вида A*X = B. Ответ округлите до 3х знаков после запятой', 'data': {'A': [[0, -7, 9], [0, 4, -2], [-3, 5, -7]], 'B': [[4, -1, 8], [9, 9, 9], [-2, 7, 7]]}, 'answer': [[-0.97, -2.606, -5.061], [4.045, 3.591, 4.409], [3.591, 2.682, 4.318]]}\n"
     ]
    }
   ],
   "source": [
    "def GenerateSolveMatrixEquationTask():\n",
    "  switch = randint(0, 1)\n",
    "\n",
    "  if switch == 0:\n",
    "    a = generateNonsingularMatrix(-9, 10, 3, 3)\n",
    "    b = generateNonsingularMatrix(-9, 10, 3, 3)\n",
    "    a1 = np.linalg.inv(a)\n",
    "    answer = np.around(np.dot(a1, b), 3)\n",
    "    task = \"Решите уравнение вида A*X = B. Ответ округлите до 3х знаков после запятой\"\n",
    "  else:\n",
    "    a = generateNonsingularMatrix(-9, 10, 3, 3)\n",
    "    b = generateNonsingularMatrix(-9, 10, 3, 3)\n",
    "    a1 = np.linalg.inv(a)\n",
    "    answer = np.around(np.dot(b,a1), 3)\n",
    "    task = \"Решите уравнение вида X*A = B. Ответ округлите до 3х знаков после запятой\"\n",
    "    \n",
    "  dic = {\n",
    "  \"task\":task,\n",
    "  \"data\": {\"A\": a.tolist(), \"B\": b.tolist()},\n",
    "  \"answer\": answer.tolist()}\n",
    "  return dic\n",
    "\n",
    "print(GenerateSolveMatrixEquationTask())"
   ]
  },
  {
   "cell_type": "code",
   "execution_count": 16,
   "metadata": {},
   "outputs": [
    {
     "name": "stdout",
     "output_type": "stream",
     "text": [
      "{'task': 'Решите уравнение вида A·X·B = C. Ответ округлите до 3х знаков после запятой', 'data': {'A': [[-4, -6, 3], [0, -1, -9], [-2, -2, -1]], 'B': [[6, -4, 5], [6, -1, 4], [-3, -4, -7]], 'C': [[5, 4, 4], [-1, 2, 4], [-1, 5, 9]]}, 'answer': [[-1.471, 2.847, 1.809], [1.069, -2.011, -1.044], [-0.186, 0.355, 0.206]]}\n"
     ]
    }
   ],
   "source": [
    "def GenerateSolveDoubleMatrixEquationTask():\n",
    "  task = \"Решите уравнение вида A·X·B = C. Ответ округлите до 3х знаков после запятой\"\n",
    "  a = generateNonsingularMatrix(-9, 10, 3, 3)\n",
    "  b = generateNonsingularMatrix(-9, 10, 3, 3)\n",
    "  c = generateNonsingularMatrix(-9, 10, 3, 3)\n",
    "  a1 = np.linalg.inv(a)\n",
    "  b1 = np.linalg.inv(b)\n",
    "  x = np.dot(a1,c)\n",
    "  answer = np.around(np.dot(x, b1), 3)\n",
    "  dic = {\n",
    "  \"task\":task,\n",
    "  \"data\": {\"A\": a.tolist(), \"B\": b.tolist(), \"C\": c.tolist()},\n",
    "  \"answer\": answer.tolist()}\n",
    "  return dic\n",
    "\n",
    "print(GenerateSolveDoubleMatrixEquationTask())"
   ]
  },
  {
   "cell_type": "markdown",
   "metadata": {},
   "source": [
    "Ранг матрицы"
   ]
  },
  {
   "cell_type": "code",
   "execution_count": 17,
   "metadata": {},
   "outputs": [
    {
     "name": "stdout",
     "output_type": "stream",
     "text": [
      "{'task': 'Определите ранг матрицы', 'data': [[-9, 2, 8], [-2, -9, 4], [2, 8, -7]], 'answer': 3}\n"
     ]
    }
   ],
   "source": [
    "def GenerateFindMatrixRankTask():\n",
    "  switch = np.random.randint(0, 2, size=(1,1))[0][0]\n",
    "  task = \"Определите ранг матрицы\"\n",
    "\n",
    "  if switch == 0:\n",
    "    matrix = np.random.randint(-9, 10, size=(3,3))\n",
    "    answer = np.linalg.matrix_rank(matrix)\n",
    "      \n",
    "  else:\n",
    "    matrix = np.random.randint(-9, 10, size=(2,3))\n",
    "    factor1, factor2 = 0, 0\n",
    "    while factor1 == 0 or factor2 == 0:\n",
    "        factor1 = np.random.randint(-3, 4, size=(1,1))[0][0]\n",
    "        factor2 = np.random.randint(-3, 4, size=(1,1))[0][0]\n",
    "\n",
    "    matrix = np.vstack([matrix, factor1 * matrix[0] + factor2*matrix[1]])\n",
    "    np.random.shuffle(matrix)\n",
    "    answer = np.linalg.matrix_rank(matrix)\n",
    "  \n",
    "  dic = {\n",
    "  \"task\":task,\n",
    "  \"data\": matrix.tolist(),\n",
    "  \"answer\": answer.item()}\n",
    "  return dic\n",
    "\n",
    "print(GenerateFindMatrixRankTask())"
   ]
  },
  {
   "cell_type": "markdown",
   "metadata": {},
   "source": [
    "Система линейных уравнений"
   ]
  },
  {
   "cell_type": "code",
   "execution_count": 18,
   "metadata": {},
   "outputs": [
    {
     "name": "stdout",
     "output_type": "stream",
     "text": [
      "(array([[ 7,  4,  1],\n",
      "       [ 5,  1, -3],\n",
      "       [ 8,  1, -3]]), array([[16],\n",
      "       [18],\n",
      "       [19]]), array([[ 0.33333333],\n",
      "       [ 4.41025641],\n",
      "       [-3.97435897]]))\n"
     ]
    }
   ],
   "source": [
    "def generateSLU(x_count, equation_count, min_value, max_value):\n",
    "  a = np.random.randint(min_value, max_value, size=(equation_count, x_count))\n",
    "  while (np.linalg.det(a) == 0):\n",
    "    a = np.random.randint(min_value, max_value, size=(equation_count, x_count))\n",
    "\n",
    "  b = np.random.randint(min_value, max_value, size=(x_count, 1))\n",
    "  x = np.random.randint(1, size=(x_count, 1))\n",
    "\n",
    "  while((a.dot(x) != b).any()):\n",
    "    a = np.random.randint(min_value, max_value, size=(equation_count, x_count))\n",
    "    while (np.linalg.det(a) == 0):\n",
    "      a = np.random.randint(min_value, max_value, size=(equation_count, x_count))\n",
    "\n",
    "    b = np.random.randint(min_value, max_value, size=(x_count, 1))\n",
    "    x = np.linalg.solve(a, b)\n",
    "  return (a,b,x)\n",
    "\n",
    "print(generateSLU(3,3,-5, 21))"
   ]
  },
  {
   "cell_type": "code",
   "execution_count": 19,
   "metadata": {},
   "outputs": [
    {
     "name": "stdout",
     "output_type": "stream",
     "text": [
      "{'task': 'Решите систему линейных уравнений. Ответ округлите до 3х знаков после запятой', 'data': {'first_equation': '8*x + 12*y + 15*z = 10', 'second_equation': '10*x + 12*y + 3*z = 4', 'third_equation': '3*x + 7*y + 6*z = 4'}, 'answer': [[0.2], [0.0], [0.5]]}\n"
     ]
    }
   ],
   "source": [
    "def GenerateSolveLinearEquationTask():\n",
    "  a, b, x = generateSLU(3, 3, -5, 21)\n",
    "  first_equation = f\"{a[0][0]}*x + {a[0][1]}*y + {a[0][2]}*z = {b[0].item()}\"\n",
    "  second_equation = f\"{a[1][0]}*x + {a[1][1]}*y + {a[1][2]}*z = {b[1].item()}\"\n",
    "  third_equation = f\"{a[2][0]}*x + {a[2][1]}*y + {a[2][2]}*z = {b[2].item()}\"\n",
    "  task = \"Решите систему линейных уравнений. Ответ округлите до 3х знаков после запятой\"  \n",
    "  answer = np.around(x,1).tolist()\n",
    "  dic = {\n",
    "  \"task\":task,\n",
    "  \"data\": {\"first_equation\": first_equation, \"second_equation\": second_equation, \"third_equation\" : third_equation},\n",
    "  \"answer\": answer}\n",
    "  return dic\n",
    "\n",
    "print(GenerateSolveLinearEquationTask())"
   ]
  },
  {
   "cell_type": "markdown",
   "metadata": {},
   "source": [
    "Скалярное произведение векторов"
   ]
  },
  {
   "cell_type": "code",
   "execution_count": 20,
   "metadata": {},
   "outputs": [
    {
     "name": "stdout",
     "output_type": "stream",
     "text": [
      "{'task': 'Вычислите скалярное произведение векторов A и B.', 'data': {'A': [-8, -13, -19], 'B': [8, -18, -6]}, 'answer': 284}\n"
     ]
    }
   ],
   "source": [
    "def GenerateScalarVectorMultiplicationTask():\n",
    "  a = np.random.randint(-20, 21, size=(1,3))[0]\n",
    "  b = np.random.randint(-20, 21, size=(1,3))[0]\n",
    "  task = \"Вычислите скалярное произведение векторов A и B.\"\n",
    "  answer = a @ b\n",
    "  dic = {\n",
    "    \"task\": task,\n",
    "    \"data\": {\"A\": a.tolist(), \"B\": b.tolist()},\n",
    "    \"answer\": answer}\n",
    "  return dic\n",
    "\n",
    "print(GenerateScalarVectorMultiplicationTask())"
   ]
  },
  {
   "cell_type": "markdown",
   "metadata": {},
   "source": [
    "Векторное произведение векторов"
   ]
  },
  {
   "cell_type": "code",
   "execution_count": 21,
   "metadata": {},
   "outputs": [
    {
     "name": "stdout",
     "output_type": "stream",
     "text": [
      "{'task': 'Вычислите векторное произведение векторов А и В.', 'data': {'A': [-3, 3, 15], 'B': [8, 0, -19]}, 'answer': [-57, 62, -23]}\n"
     ]
    }
   ],
   "source": [
    "def GenerateVectorVectorMultiplicationTask():\n",
    "  a = np.random.randint(-20, 21, size=(1,3))\n",
    "  b = np.random.randint(-20, 21, size=(1,3))\n",
    "\n",
    "  combined = np.vstack([a, b])\n",
    "  xy = combined[:2, :2]\n",
    "  yz = combined[:2, 1:3]\n",
    "  xz = combined[:2, [0, 2]]\n",
    "  answer = np.array([int(np.linalg.det(yz)), -1 * int(np.linalg.det(xz)), int(np.linalg.det(xy))])\n",
    "  task = \"Вычислите векторное произведение векторов А и В.\"\n",
    "  dic = {\n",
    "    \"task\": task,\n",
    "    \"data\": {\"A\": a.tolist()[0], \"B\": b.tolist()[0]},\n",
    "    \"answer\": answer.tolist()}\n",
    "  return dic\n",
    "\n",
    "print(GenerateVectorVectorMultiplicationTask())\n"
   ]
  },
  {
   "cell_type": "markdown",
   "metadata": {},
   "source": [
    "Длина Вектора"
   ]
  },
  {
   "cell_type": "code",
   "execution_count": 22,
   "metadata": {},
   "outputs": [
    {
     "name": "stdout",
     "output_type": "stream",
     "text": [
      "{'task': 'Вычислите длинну вектора, полученную в результате векторного произведения A и B', 'data': {'A': [-11, 3, -20], 'B': [11, -6, -19]}, 'answer': 465.3}\n"
     ]
    }
   ],
   "source": [
    "\n",
    "def GenerateVectorVectorMultiplicationModuleTask():\n",
    "  temp = GenerateVectorVectorMultiplicationTask()\n",
    "  a = temp[\"data\"][\"A\"]\n",
    "  b = temp[\"data\"][\"B\"]\n",
    "  vector = np.array(temp[\"answer\"])\n",
    "  answer = np.around(sqrt(vector[0]**2 + vector[1]**2 + vector[2]**2 ), 1)\n",
    "  task = \"Вычислите длинну вектора, полученную в результате векторного произведения A и B\"\n",
    "  dic = {\n",
    "    \"task\": task,\n",
    "    \"data\": {\"A\": a, \"B\": b},\n",
    "    \"answer\": answer.tolist()}\n",
    "  return dic\n",
    "\n",
    "\n",
    "print(GenerateVectorVectorMultiplicationModuleTask())"
   ]
  },
  {
   "cell_type": "markdown",
   "metadata": {},
   "source": [
    "Смешанное произведение векторов"
   ]
  },
  {
   "cell_type": "code",
   "execution_count": 23,
   "metadata": {},
   "outputs": [
    {
     "name": "stdout",
     "output_type": "stream",
     "text": [
      "{'task': 'Вычислите смешанное произведение векторов A, B и C', 'data': {'A': [19, 4, 20], 'B': [-20, -16, -8], 'C': [1, 3, 13]}, 'answer': -3368.0}\n"
     ]
    }
   ],
   "source": [
    "def GenerateMixedVectorMultiplicationTask():\n",
    "  a = np.random.randint(-20, 21, size=(1,3))\n",
    "  b = np.random.randint(-20, 21, size=(1,3))\n",
    "  c = np.random.randint(-20, 21, size=(1,3))\n",
    "\n",
    "  combined = np.vstack([a, b, c])\n",
    "  answer = np.around(np.linalg.det(combined))\n",
    "  task = \"Вычислите смешанное произведение векторов A, B и C\"\n",
    "  dic = {\n",
    "    \"task\": task,\n",
    "    \"data\": {\"A\": a.tolist()[0], \"B\": b.tolist()[0], \"C\": c.tolist()[0]},\n",
    "    \"answer\": answer}\n",
    "  return dic\n",
    "\n",
    "print(GenerateMixedVectorMultiplicationTask())\n"
   ]
  },
  {
   "cell_type": "markdown",
   "metadata": {},
   "source": [
    "Коллинеарность векторов"
   ]
  },
  {
   "cell_type": "code",
   "execution_count": 24,
   "metadata": {},
   "outputs": [
    {
     "name": "stdout",
     "output_type": "stream",
     "text": [
      "{'task': 'Являются ли вектор A и вектор B коллинеарными? В ответе указать Да или Нет.', 'data': {'A': [16, 13, -15], 'B': [-9, -4, -13]}, 'ansver': 'Нет'}\n"
     ]
    }
   ],
   "source": [
    "def GenerateIsCollinearVectorsTask():\n",
    "  switch = np.random.randint(0, 2, size=(1,1))[0][0]\n",
    "\n",
    "  if switch == 0:\n",
    "    a = np.random.randint(-20, 21, size=(1,3))[0]\n",
    "    b = np.random.randint(-20, 21, size=(1,3))[0]\n",
    "  else:\n",
    "    fraction = np.random.randint(-3, 5, size=(1,1))[0][0]\n",
    "    a = np.random.randint(-20, 21, size=(1,3))[0]\n",
    "    b = fraction * a\n",
    "\n",
    "  first,second,third = a[0]/b[0],a[1]/b[1],a[2]/b[2]\n",
    "\n",
    "  task = \"Являются ли вектор A и вектор B коллинеарными? В ответе указать Да или Нет.\"\n",
    "  ansver = \"Да\" if np.equal(first,second) and np.equal(first,third) else \"Нет\"\n",
    "\n",
    "  dic = {\n",
    "    \"task\": task,\n",
    "    \"data\": {\"A\": a.tolist(), \"B\": b.tolist()},\n",
    "    \"ansver\": ansver}\n",
    "\n",
    "  return dic\n",
    "\n",
    "print(GenerateIsCollinearVectorsTask())"
   ]
  },
  {
   "cell_type": "markdown",
   "metadata": {},
   "source": [
    "Компланарность векторов"
   ]
  },
  {
   "cell_type": "code",
   "execution_count": 25,
   "metadata": {},
   "outputs": [
    {
     "name": "stdout",
     "output_type": "stream",
     "text": [
      "[[6 6 6]\n",
      " [9 6 5]\n",
      " [6 6 6]]\n"
     ]
    }
   ],
   "source": [
    "def generateSingularMatrix(min_value, max_value, rows_count, columns_count):\n",
    "  a = np.random.randint(min_value, max_value, size=(rows_count, columns_count))\n",
    "  while (np.linalg.det(a) != 0):\n",
    "    a = np.random.randint(min_value, max_value, size=(rows_count, columns_count))\n",
    "  return a\n",
    "\n",
    "print(generateSingularMatrix(1, 10, 3, 3))"
   ]
  },
  {
   "cell_type": "code",
   "execution_count": 26,
   "metadata": {},
   "outputs": [
    {
     "name": "stdout",
     "output_type": "stream",
     "text": [
      "{'task': 'Являются ли векторы A B и C компланарными? В ответе указать Да или Нет.', 'data': {'A': [-9, 2, 15], 'B': [2, -5, 9], 'C': [4, 13, -20]}, 'answer': 'Нет'}\n"
     ]
    }
   ],
   "source": [
    "def GenerateIsComplanarVectorsTask():\n",
    "  switch = np.random.randint(0, 2, size=(1,1))[0][0]\n",
    "\n",
    "  if switch == 0:\n",
    "    data = generateNonsingularMatrix(-20, 21, 3, 3)\n",
    "  else:\n",
    "    data = generateSingularMatrix(-20, 21, 3, 3)\n",
    "  \n",
    "  task = \"Являются ли векторы A B и C компланарными? В ответе указать Да или Нет.\"\n",
    "  answer = \"Да\" if switch != 0 else \"Нет\"\n",
    "\n",
    "  dic = {\n",
    "    \"task\": task,\n",
    "    \"data\": {\"A\": data[0].tolist(), \"B\":data[1].tolist(), \"C\": data[2].tolist()},\n",
    "    \"answer\": answer}\n",
    "  \n",
    "  return dic\n",
    "\n",
    "print(GenerateIsComplanarVectorsTask())\n",
    "    "
   ]
  },
  {
   "cell_type": "markdown",
   "metadata": {},
   "source": [
    "Поиск уравнения прямой"
   ]
  },
  {
   "cell_type": "code",
   "execution_count": 27,
   "metadata": {},
   "outputs": [
    {
     "name": "stdout",
     "output_type": "stream",
     "text": [
      "{'task': 'Составить уравнение прямой, проходящей через две точки:  A(-3,3)  и  B(-2,7)', 'data': {}, 'answer': -4*x + y - 15}\n"
     ]
    }
   ],
   "source": [
    "def GenerateFindLineEquationByPointsTask():\n",
    "    A1,A2 = randint(-9, 9),randint(-9, 9)\n",
    "    B1,B2 = randint(-9, 9),randint(-9, 9)\n",
    "\n",
    "    A, B = sp.Point(A1, A2), sp.Point(B1, B2)\n",
    "    L = sp.Line(A, B)\n",
    "\n",
    "    task = f\"Составить уравнение прямой, проходящей через две точки:  A({A1},{A2})  и  B({B1},{B2})\"\n",
    "    answer = L.equation()\n",
    "\n",
    "    dic = {\n",
    "    \"task\": task,\n",
    "    \"data\": {}, #Нужно ли тут что - то на фронт возвращать? все данные уже в задаче.\n",
    "    \"answer\": answer}\n",
    "    return dic\n",
    "\n",
    "print(GenerateFindLineEquationByPointsTask())"
   ]
  },
  {
   "cell_type": "markdown",
   "metadata": {},
   "source": [
    "Поиск уравнения паралельного вектора, проходящего через точку."
   ]
  },
  {
   "cell_type": "code",
   "execution_count": 11,
   "metadata": {},
   "outputs": [
    {
     "name": "stdout",
     "output_type": "stream",
     "text": [
      "{'task': 'Известно, что прямая  L  проходит через начало координат и точку  B(-4,-6). Записать уравнение прямой, проходящей через точку  A(-3,-4)  параллельно прямой  L', 'data': {}, 'answer': 6*x - 4*y + 2}\n"
     ]
    }
   ],
   "source": [
    "def GenerateFindParalelLineEquationTask():\n",
    "    A1,A2 = randint(-9, 9),randint(-9, 9)\n",
    "    A = sp.Point(A1,A2)\n",
    "    B1,B2 = randint(-9, 9),randint(-9, 9)\n",
    "    L1 = sp.Line((0, 0), (B1, B2))\n",
    "\n",
    "    L2 = L1.parallel_line(A)\n",
    "    task = f\"Известно, что прямая  L  проходит через начало координат и точку  B({B1},{B2}). Записать уравнение прямой, проходящей через точку  A({A1},{A2})  параллельно прямой  L\"\n",
    "    answer = L2.equation()\n",
    "\n",
    "    dic = {\n",
    "        \"task\": task,\n",
    "        \"data\": {}, #Нужно ли тут что - то на фронт возвращать? все данные уже в таске.\n",
    "        \"answer\": answer}\n",
    "    \n",
    "    return dic\n",
    "\n",
    "print(GenerateFindParalelLineEquationTask())"
   ]
  },
  {
   "cell_type": "code",
   "execution_count": 29,
   "metadata": {},
   "outputs": [
    {
     "name": "stdout",
     "output_type": "stream",
     "text": [
      "{'task': 'Составить уравнение прямой, проходящей через точку А(8,1), параллельную прямой BC, если B(4,-9), C(-3,6)', 'data': {}, 'answer': -15*x - 7*y + 127}\n"
     ]
    }
   ],
   "source": [
    "def GenerateFindParalelLineEquationByPointsTask():\n",
    "    A1,A2 = randint(-9, 9),randint(-9, 9)\n",
    "    B1,B2 = randint(-9, 9),randint(-9, 9)\n",
    "    C1,C2 = randint(-9, 9),randint(-9, 9)\n",
    "    A = sp.Point(A1,A2)\n",
    "    L1 = sp.Line((B1, B2), (C1, C2))\n",
    "\n",
    "    L2 = L1.parallel_line(A)\n",
    "    task = f\"Составить уравнение прямой, проходящей через точку А({A1},{A2}), параллельную прямой BC, если B({B1},{B2}), C({C1},{C2})\"\n",
    "    answer = L2.equation()\n",
    "\n",
    "    dic = {\n",
    "    \"task\": task,\n",
    "    \"data\": {}, #Нужно ли тут что - то на фронт возвращать? все данные уже в задаче.\n",
    "    \"answer\": answer}\n",
    "\n",
    "    return dic\n",
    "    \n",
    "print(GenerateFindParalelLineEquationByPointsTask())"
   ]
  },
  {
   "cell_type": "markdown",
   "metadata": {},
   "source": [
    "Поиск точки пересечения прямых"
   ]
  },
  {
   "cell_type": "code",
   "execution_count": 30,
   "metadata": {},
   "outputs": [
    {
     "name": "stdout",
     "output_type": "stream",
     "text": [
      "{'task': 'Найти точку пересечения прямых L1 и L2, если известно, что прямая L1 проходит через точки А(9,8) и B(9,-4), а прямая L2 проходит через точки C(-4,-4) и D(9,-9)', 'data': {}, 'answer': [9, -9]}\n"
     ]
    }
   ],
   "source": [
    "def GenerateFindCrossPointOfTwoLinesTask():\n",
    "    A1,A2 = randint(-9, 9),randint(-9, 9)\n",
    "    B1,B2 = randint(-9, 9),randint(-9, 9)\n",
    "    C1,C2 = randint(-9, 9),randint(-9, 9)\n",
    "    D1,D2 = randint(-9, 9),randint(-9, 9)\n",
    "\n",
    "    L1 = sp.Line((A1, A2), (B1, B2))\n",
    "    L2 = sp.Line((C1, C2), (D1, D2))\n",
    "\n",
    "    task = f\"Найти точку пересечения прямых L1 и L2, если известно, что прямая L1 проходит через точки А({A1},{A2}) и B({B1},{B2}), а прямая L2 проходит через точки C({C1},{C2}) и D({D1},{D2})\"\n",
    "    answer = list(L1.intersection(L2)[0].coordinates)\n",
    "\n",
    "    dic = {\n",
    "    \"task\": task,\n",
    "    \"data\": {}, #Нужно ли тут что - то на фронт возвращать? все данные уже в задаче.\n",
    "    \"answer\": answer}\n",
    "    return dic\n",
    "\n",
    "\n",
    "print(GenerateFindCrossPointOfTwoLinesTask())"
   ]
  },
  {
   "cell_type": "markdown",
   "metadata": {},
   "source": [
    "Поиск расстояния от точки до прямой"
   ]
  },
  {
   "cell_type": "code",
   "execution_count": 31,
   "metadata": {},
   "outputs": [
    {
     "name": "stdout",
     "output_type": "stream",
     "text": [
      "{'task': 'Известно, что прямая L проходит через точки A(0,-6) и B(2,5). Из точки C(5,0) на прямую L опущен перпендикуляр, который касается её в точке D. Определить длину отрезка CD. Пример формы ответа: 3*sqrt(26)/13', 'data': {}, 'answer': 43*sqrt(5)/25}\n"
     ]
    }
   ],
   "source": [
    "def GenerateFindDicstanceFromLineToPointTask():\n",
    "    A1,A2 = randint(-9, 9),randint(-9, 9)\n",
    "    B1,B2 = randint(-9, 9),randint(-9, 9)\n",
    "    C1,C2 = randint(-9, 9),randint(-9, 9)\n",
    "\n",
    "    C = sp.Point(C1, C2)\n",
    "    L1 = sp.Line((A1, A2), (B1, B2))\n",
    "\n",
    "    task = f\"Известно, что прямая L проходит через точки A({A1},{A2}) и B({B1},{B2}). Из точки C({C1},{C2}) на прямую L опущен перпендикуляр, который касается её в точке D. Определить длину отрезка CD. Пример формы ответа: 3*sqrt(26)/13\"\n",
    "    answer = L1.perpendicular_segment(C).length\n",
    "\n",
    "    dic = {\n",
    "    \"task\": task,\n",
    "    \"data\": {}, #Нужно ли тут что - то на фронт возвращать? все данные уже в задаче.\n",
    "    \"answer\": answer}\n",
    "    return dic\n",
    "\n",
    "print(GenerateFindDicstanceFromLineToPointTask())"
   ]
  },
  {
   "cell_type": "markdown",
   "metadata": {},
   "source": [
    "Уравнение плоскости по трем точкам"
   ]
  },
  {
   "cell_type": "code",
   "execution_count": 32,
   "metadata": {},
   "outputs": [
    {
     "name": "stdout",
     "output_type": "stream",
     "text": [
      "{'task': 'Записать уравнение плоскости, проходящей через точки A(0,5,0), B(8,-8,8), C(9,-8,-9). Пример формы записи ответа: 38*x - 136*y - 126*z - 574', 'data': {}, 'answer': 221*x + 144*y + 13*z - 720}\n"
     ]
    }
   ],
   "source": [
    "def GenerateFindPlaneEquationByThreePointsTask():\n",
    "    A1,A2,A3 = randint(-9, 9),randint(-9, 9),randint(-9, 9)\n",
    "    B1,B2,B3 = randint(-9, 9),randint(-9, 9),randint(-9, 9)\n",
    "    C1,C2,C3 = randint(-9, 9),randint(-9, 9),randint(-9, 9)\n",
    "\n",
    "    alpha = sp.Plane(sp.Point3D(A1, A2, A3), sp.Point3D(B1, B2, B3), sp.Point3D(C1, C2, C3))\n",
    "\n",
    "    task = f\"Записать уравнение плоскости, проходящей через точки A({A1},{A2},{A3}), B({B1},{B2},{B3}), C({C1},{C2},{C3}). Пример формы записи ответа: 38*x - 136*y - 126*z - 574\"\n",
    "    answer = alpha.equation()\n",
    "\n",
    "    dic = {\n",
    "    \"task\": task,\n",
    "    \"data\": {}, #Нужно ли тут что - то на фронт возвращать? все данные уже в задаче.\n",
    "    \"answer\": answer}\n",
    "    return dic\n",
    "\n",
    "print(GenerateFindPlaneEquationByThreePointsTask())"
   ]
  },
  {
   "cell_type": "markdown",
   "metadata": {},
   "source": [
    "Уравнение прямой по нормальному вектору и точке"
   ]
  },
  {
   "cell_type": "code",
   "execution_count": 33,
   "metadata": {},
   "outputs": [
    {
     "name": "stdout",
     "output_type": "stream",
     "text": [
      "{'task': 'Записать уравнение плоскости a, которая проходит через точку M(-7,1,7) и перпендикулярна вектору n =(3,0,2). Пример записи ответа: -3*x - 8*y - 8*z + 85', 'data': {}, 'answer': 3*x + 2*z + 7}\n"
     ]
    }
   ],
   "source": [
    "def GenerateFindPlaneEquationByPointAndNormalVector():\n",
    "    A1,A2,A3 = randint(-9, 9),randint(-9, 9),randint(-9, 9)\n",
    "    B1,B2,B3 = randint(-9, 9),randint(-9, 9),randint(-9, 9)\n",
    "\n",
    "    alpha = sp.Plane(sp.Point3D(A1, A2, A3), normal_vector =(B1, B2, B3))\n",
    "\n",
    "    task = f\"Записать уравнение плоскости a, которая проходит через точку M({A1},{A2},{A3}) и перпендикулярна вектору n =({B1},{B2},{B3}). Пример записи ответа: -3*x - 8*y - 8*z + 85\"\n",
    "    answer = alpha.equation()\n",
    "\n",
    "    dic = {\n",
    "    \"task\": task,\n",
    "    \"data\": {}, #Нужно ли тут что - то на фронт возвращать? все данные уже в задаче.\n",
    "    \"answer\": answer}\n",
    "    return dic\n",
    "\n",
    "print(GenerateFindPlaneEquationByPointAndNormalVector())"
   ]
  },
  {
   "cell_type": "markdown",
   "metadata": {},
   "source": [
    "Уравнение параллельной плоскости"
   ]
  },
  {
   "cell_type": "code",
   "execution_count": 34,
   "metadata": {},
   "outputs": [
    {
     "name": "stdout",
     "output_type": "stream",
     "text": [
      "{'task': 'Плоскость α проходит через точку M(7,8,-3) и перепендикулярна вектору n =(7,-1,-1). Найти уравнение плоскости β, параллельной α и проходящей через точку P(3,-4,5)', 'data': {}, 'answer': 7*x - y - z - 20}\n"
     ]
    }
   ],
   "source": [
    "def GenerateFindParallelPlaneEquationTask():\n",
    "  A1,A2,A3 = randint(-9, 9),randint(-9, 9),randint(-9, 9)\n",
    "  B1,B2,B3 = randint(-9, 9),randint(-9, 9),randint(-9, 9)\n",
    "  P1,P2,P3 = randint(-9, 9),randint(-9, 9),randint(-9, 9)\n",
    "\n",
    "  task = f\"Плоскость α проходит через точку M({A1},{A2},{A3}) и перепендикулярна вектору n =({B1},{B2},{B3}). Найти уравнение плоскости β, параллельной α и проходящей через точку P({P1},{P2},{P3})\"\n",
    "  \n",
    "  alpha = sp.Plane(sp.Point3D(A1, A2, A3), normal_vector =(B1, B2, B3))\n",
    "\n",
    "  parallelPlane = alpha.parallel_plane(sp.Point3D(P1,P2,P3))\n",
    "  answer = parallelPlane.equation()\n",
    "\n",
    "  dic = {\n",
    "    \"task\": task,\n",
    "    \"data\": {}, #Нужно ли тут что - то на фронт возвращать? все данные уже в задаче.\n",
    "    \"answer\": answer}\n",
    "  \n",
    "  return dic\n",
    "\n",
    "print(GenerateFindParallelPlaneEquationTask())"
   ]
  },
  {
   "cell_type": "markdown",
   "metadata": {},
   "source": [
    "Уравнение перпендикулярной плоскости"
   ]
  },
  {
   "cell_type": "code",
   "execution_count": 35,
   "metadata": {},
   "outputs": [
    {
     "name": "stdout",
     "output_type": "stream",
     "text": [
      "{'task': 'Плоскость α имеет нормальный вектор n =(0,-2,5) и проходит через точку P(8,8,-2). Найти уравнение плоскости, перпендикулярной α и проходящей через точки A(5,4,-4) и B(-1,8,4))', 'data': {}, 'answer': 36*x + 30*y + 12*z - 252}\n"
     ]
    }
   ],
   "source": [
    "def GenerateFindOrtPlaneEquationTask():\n",
    "    A1,A2,A3 = randint(-9, 9),randint(-9, 9),randint(-9, 9)\n",
    "    B1,B2,B3 = randint(-9, 9),randint(-9, 9),randint(-9, 9)\n",
    "    P1,P2,P3 = randint(-9, 9),randint(-9, 9),randint(-9, 9)\n",
    "    N1,N2,N3 = randint(-9, 9),randint(-9, 9),randint(-9, 9)\n",
    "\n",
    "    task = f\"Плоскость α имеет нормальный вектор n =({N1},{N2},{N3}) и проходит через точку P({P1},{P2},{P3}). Найти уравнение плоскости, перпендикулярной α и проходящей через точки A({A1},{A2},{A3}) и B({B1},{B2},{B3}))\"\n",
    "\n",
    "    alpha = sp.Plane(sp.Point3D(P1, P2, P3), normal_vector =(N1, N2, N3))\n",
    "    A,B = sp.Point3D(A1,A2,A3), sp.Point3D(B1,B2,B3)\n",
    "\n",
    "    ortPlane = alpha.perpendicular_plane(A,B)\n",
    "    answer = ortPlane.equation()\n",
    "\n",
    "    dic = {\n",
    "    \"task\": task,\n",
    "    \"data\": {}, #Нужно ли тут что - то на фронт возвращать? все данные уже в задаче.\n",
    "    \"answer\": answer}\n",
    "    return dic\n",
    "\n",
    "print(GenerateFindOrtPlaneEquationTask())"
   ]
  },
  {
   "cell_type": "markdown",
   "metadata": {},
   "source": [
    "Проекция точки на прямую"
   ]
  },
  {
   "cell_type": "code",
   "execution_count": 36,
   "metadata": {},
   "outputs": [
    {
     "name": "stdout",
     "output_type": "stream",
     "text": [
      "{'task': 'Известно, что прямая L проходит через точку N(0,1,9) и точку M(2,-9,-5). Найти координаты проекции точки A(-6,7,6) на прямую L', 'data': {}, 'answer': (-1/5, 2, 52/5)}\n"
     ]
    }
   ],
   "source": [
    "def GeneratePointProjectionOnLineTask():\n",
    "    A1,A2,A3 = randint(-9, 9),randint(-9, 9),randint(-9, 9)\n",
    "    N1,N2,N3 = randint(-9, 9),randint(-9, 9),randint(-9, 9)\n",
    "    M1,M2,M3 = randint(-9, 9),randint(-9, 9),randint(-9, 9)\n",
    "\n",
    "    task = f\"Известно, что прямая L проходит через точку N({N1},{N2},{N3}) и точку M({M1},{M2},{M3}). Найти координаты проекции точки A({A1},{A2},{A3}) на прямую L\"\n",
    "\n",
    "    A = sp.Point(A1,A2,A3)\n",
    "    line = sp.Line((N1,N2,N3),(M1,M2,M3))\n",
    "    answer = line.projection(A).coordinates\n",
    "\n",
    "    dic = {\n",
    "    \"task\": task,\n",
    "    \"data\": {}, \n",
    "    \"answer\": answer}\n",
    "    return dic\n",
    "\n",
    "print(GeneratePointProjectionOnLineTask())"
   ]
  },
  {
   "cell_type": "markdown",
   "metadata": {},
   "source": [
    "Проекция точки на плоскость"
   ]
  },
  {
   "cell_type": "code",
   "execution_count": 37,
   "metadata": {},
   "outputs": [
    {
     "name": "stdout",
     "output_type": "stream",
     "text": [
      "{'task': 'Известно, что плоскость α проходит через точку P(2,3,8)  и перпендикулярна вектору n =(-7,-6,-7). Найти координаты проекции точки A(-2,2,8) на плоскость α', 'data': {}, 'answer': (-15/67, 236/67, 655/67)}\n"
     ]
    }
   ],
   "source": [
    "def GeneratePointProjectionOnPlainTask():\n",
    "    A1,A2,A3 = randint(-9, 9),randint(-9, 9),randint(-9, 9)\n",
    "    N1,N2,N3 = randint(-9, 9),randint(-9, 9),randint(-9, 9)\n",
    "    P1,P2,P3 = randint(-9, 9),randint(-9, 9),randint(-9, 9)\n",
    "\n",
    "    task = f\"Известно, что плоскость α проходит через точку P({P1},{P2},{P3})  и перпендикулярна вектору n =({N1},{N2},{N3}). Найти координаты проекции точки A({A1},{A2},{A3}) на плоскость α\"\n",
    "    \n",
    "    A = sp.Point(A1, A2, A3)\n",
    "\n",
    "    alpha = sp.Plane(sp.Point3D(P1, P2, P3), normal_vector =(N1, N2, N3))\n",
    "    answer = alpha.projection(A).coordinates\n",
    "    \n",
    "    dic = {\n",
    "    \"task\": task,\n",
    "    \"data\": {}, \n",
    "    \"answer\": answer}\n",
    "    return dic\n",
    "\n",
    "print(GeneratePointProjectionOnPlainTask())"
   ]
  },
  {
   "cell_type": "code",
   "execution_count": 181,
   "metadata": {},
   "outputs": [
    {
     "name": "stdout",
     "output_type": "stream",
     "text": [
      "{'task': '', 'data': {'img': '<?xml version=\"1.0\" encoding=\"utf-8\" standalone=\"no\"?>\\n<!DOCTYPE svg PUBLIC \"-//W3C//DTD SVG 1.1//EN\"\\n  \"http://www.w3.org/Graphics/SVG/1.1/DTD/svg11.dtd\">\\n<svg xmlns:xlink=\"http://www.w3.org/1999/xlink\" width=\"460.8pt\" height=\"345.6pt\" viewBox=\"0 0 460.8 345.6\" xmlns=\"http://www.w3.org/2000/svg\" version=\"1.1\">\\n <metadata>\\n  <rdf:RDF xmlns:dc=\"http://purl.org/dc/elements/1.1/\" xmlns:cc=\"http://creativecommons.org/ns#\" xmlns:rdf=\"http://www.w3.org/1999/02/22-rdf-syntax-ns#\">\\n   <cc:Work>\\n    <dc:type rdf:resource=\"http://purl.org/dc/dcmitype/StillImage\"/>\\n    <dc:date>2024-05-29T21:56:01.077117</dc:date>\\n    <dc:format>image/svg+xml</dc:format>\\n    <dc:creator>\\n     <cc:Agent>\\n      <dc:title>Matplotlib v3.6.0, https://matplotlib.org/</dc:title>\\n     </cc:Agent>\\n    </dc:creator>\\n   </cc:Work>\\n  </rdf:RDF>\\n </metadata>\\n <defs>\\n  <style type=\"text/css\">*{stroke-linejoin: round; stroke-linecap: butt}</style>\\n </defs>\\n <g id=\"figure_1\">\\n  <g id=\"patch_1\">\\n   <path d=\"M 0 345.6 \\nL 460.8 345.6 \\nL 460.8 0 \\nL 0 0 \\nz\\n\" style=\"fill: #ffffff\"/>\\n  </g>\\n  <g id=\"axes_1\">\\n   <g id=\"patch_2\">\\n    <path d=\"M 103.104 307.584 \\nL 369.216 307.584 \\nL 369.216 41.472 \\nL 103.104 41.472 \\nz\\n\" style=\"fill: #ffffff\"/>\\n   </g>\\n   <g id=\"matplotlib.axis_1\">\\n    <g id=\"xtick_1\">\\n     <g id=\"line2d_1\">\\n      <path d=\"M 103.104 307.584 \\nL 103.104 41.472 \\n\" clip-path=\"url(#p4b8c9c26ff)\" style=\"fill: none; stroke: #bfbfbf; stroke-width: 0.75; stroke-linecap: square\"/>\\n     </g>\\n     <g id=\"line2d_2\">\\n      <defs>\\n       <path id=\"mb096152a54\" d=\"M 0 0 \\nL 0 3.5 \\n\" style=\"stroke: #000000; stroke-width: 0.8\"/>\\n      </defs>\\n      <g>\\n       <use xlink:href=\"#mb096152a54\" x=\"103.104\" y=\"174.528\" style=\"stroke: #000000; stroke-width: 0.8\"/>\\n      </g>\\n     </g>\\n     <g id=\"text_1\">\\n      <!-- −10.0 -->\\n      <g transform=\"translate(87.781344 189.126437) scale(0.1 -0.1)\">\\n       <defs>\\n        <path id=\"DejaVuSans-2212\" d=\"M 678 2272 \\nL 4684 2272 \\nL 4684 1741 \\nL 678 1741 \\nL 678 2272 \\nz\\n\" transform=\"scale(0.015625)\"/>\\n        <path id=\"DejaVuSans-31\" d=\"M 794 531 \\nL 1825 531 \\nL 1825 4091 \\nL 703 3866 \\nL 703 4441 \\nL 1819 4666 \\nL 2450 4666 \\nL 2450 531 \\nL 3481 531 \\nL 3481 0 \\nL 794 0 \\nL 794 531 \\nz\\n\" transform=\"scale(0.015625)\"/>\\n        <path id=\"DejaVuSans-30\" d=\"M 2034 4250 \\nQ 1547 4250 1301 3770 \\nQ 1056 3291 1056 2328 \\nQ 1056 1369 1301 889 \\nQ 1547 409 2034 409 \\nQ 2525 409 2770 889 \\nQ 3016 1369 3016 2328 \\nQ 3016 3291 2770 3770 \\nQ 2525 4250 2034 4250 \\nz\\nM 2034 4750 \\nQ 2819 4750 3233 4129 \\nQ 3647 3509 3647 2328 \\nQ 3647 1150 3233 529 \\nQ 2819 -91 2034 -91 \\nQ 1250 -91 836 529 \\nQ 422 1150 422 2328 \\nQ 422 3509 836 4129 \\nQ 1250 4750 2034 4750 \\nz\\n\" transform=\"scale(0.015625)\"/>\\n        <path id=\"DejaVuSans-2e\" d=\"M 684 794 \\nL 1344 794 \\nL 1344 0 \\nL 684 0 \\nL 684 794 \\nz\\n\" transform=\"scale(0.015625)\"/>\\n       </defs>\\n       <use xlink:href=\"#DejaVuSans-2212\"/>\\n       <use xlink:href=\"#DejaVuSans-31\" x=\"83.789062\"/>\\n       <use xlink:href=\"#DejaVuSans-30\" x=\"147.412109\"/>\\n       <use xlink:href=\"#DejaVuSans-2e\" x=\"211.035156\"/>\\n       <use xlink:href=\"#DejaVuSans-30\" x=\"242.822266\"/>\\n      </g>\\n     </g>\\n    </g>\\n    <g id=\"xtick_2\">\\n     <g id=\"line2d_3\">\\n      <path d=\"M 136.368 307.584 \\nL 136.368 41.472 \\n\" clip-path=\"url(#p4b8c9c26ff)\" style=\"fill: none; stroke: #bfbfbf; stroke-width: 0.75; stroke-linecap: square\"/>\\n     </g>\\n     <g id=\"line2d_4\">\\n      <g>\\n       <use xlink:href=\"#mb096152a54\" x=\"136.368\" y=\"174.528\" style=\"stroke: #000000; stroke-width: 0.8\"/>\\n      </g>\\n     </g>\\n     <g id=\"text_2\">\\n      <!-- −7.5 -->\\n      <g transform=\"translate(124.226594 189.126437) scale(0.1 -0.1)\">\\n       <defs>\\n        <path id=\"DejaVuSans-37\" d=\"M 525 4666 \\nL 3525 4666 \\nL 3525 4397 \\nL 1831 0 \\nL 1172 0 \\nL 2766 4134 \\nL 525 4134 \\nL 525 4666 \\nz\\n\" transform=\"scale(0.015625)\"/>\\n        <path id=\"DejaVuSans-35\" d=\"M 691 4666 \\nL 3169 4666 \\nL 3169 4134 \\nL 1269 4134 \\nL 1269 2991 \\nQ 1406 3038 1543 3061 \\nQ 1681 3084 1819 3084 \\nQ 2600 3084 3056 2656 \\nQ 3513 2228 3513 1497 \\nQ 3513 744 3044 326 \\nQ 2575 -91 1722 -91 \\nQ 1428 -91 1123 -41 \\nQ 819 9 494 109 \\nL 494 744 \\nQ 775 591 1075 516 \\nQ 1375 441 1709 441 \\nQ 2250 441 2565 725 \\nQ 2881 1009 2881 1497 \\nQ 2881 1984 2565 2268 \\nQ 2250 2553 1709 2553 \\nQ 1456 2553 1204 2497 \\nQ 953 2441 691 2322 \\nL 691 4666 \\nz\\n\" transform=\"scale(0.015625)\"/>\\n       </defs>\\n       <use xlink:href=\"#DejaVuSans-2212\"/>\\n       <use xlink:href=\"#DejaVuSans-37\" x=\"83.789062\"/>\\n       <use xlink:href=\"#DejaVuSans-2e\" x=\"147.412109\"/>\\n       <use xlink:href=\"#DejaVuSans-35\" x=\"179.199219\"/>\\n      </g>\\n     </g>\\n    </g>\\n    <g id=\"xtick_3\">\\n     <g id=\"line2d_5\">\\n      <path d=\"M 169.632 307.584 \\nL 169.632 41.472 \\n\" clip-path=\"url(#p4b8c9c26ff)\" style=\"fill: none; stroke: #bfbfbf; stroke-width: 0.75; stroke-linecap: square\"/>\\n     </g>\\n     <g id=\"line2d_6\">\\n      <g>\\n       <use xlink:href=\"#mb096152a54\" x=\"169.632\" y=\"174.528\" style=\"stroke: #000000; stroke-width: 0.8\"/>\\n      </g>\\n     </g>\\n     <g id=\"text_3\">\\n      <!-- −5.0 -->\\n      <g transform=\"translate(157.490594 189.126437) scale(0.1 -0.1)\">\\n       <use xlink:href=\"#DejaVuSans-2212\"/>\\n       <use xlink:href=\"#DejaVuSans-35\" x=\"83.789062\"/>\\n       <use xlink:href=\"#DejaVuSans-2e\" x=\"147.412109\"/>\\n       <use xlink:href=\"#DejaVuSans-30\" x=\"179.199219\"/>\\n      </g>\\n     </g>\\n    </g>\\n    <g id=\"xtick_4\">\\n     <g id=\"line2d_7\">\\n      <path d=\"M 202.896 307.584 \\nL 202.896 41.472 \\n\" clip-path=\"url(#p4b8c9c26ff)\" style=\"fill: none; stroke: #bfbfbf; stroke-width: 0.75; stroke-linecap: square\"/>\\n     </g>\\n     <g id=\"line2d_8\">\\n      <g>\\n       <use xlink:href=\"#mb096152a54\" x=\"202.896\" y=\"174.528\" style=\"stroke: #000000; stroke-width: 0.8\"/>\\n      </g>\\n     </g>\\n     <g id=\"text_4\">\\n      <!-- −2.5 -->\\n      <g transform=\"translate(190.754594 189.126437) scale(0.1 -0.1)\">\\n       <defs>\\n        <path id=\"DejaVuSans-32\" d=\"M 1228 531 \\nL 3431 531 \\nL 3431 0 \\nL 469 0 \\nL 469 531 \\nQ 828 903 1448 1529 \\nQ 2069 2156 2228 2338 \\nQ 2531 2678 2651 2914 \\nQ 2772 3150 2772 3378 \\nQ 2772 3750 2511 3984 \\nQ 2250 4219 1831 4219 \\nQ 1534 4219 1204 4116 \\nQ 875 4013 500 3803 \\nL 500 4441 \\nQ 881 4594 1212 4672 \\nQ 1544 4750 1819 4750 \\nQ 2544 4750 2975 4387 \\nQ 3406 4025 3406 3419 \\nQ 3406 3131 3298 2873 \\nQ 3191 2616 2906 2266 \\nQ 2828 2175 2409 1742 \\nQ 1991 1309 1228 531 \\nz\\n\" transform=\"scale(0.015625)\"/>\\n       </defs>\\n       <use xlink:href=\"#DejaVuSans-2212\"/>\\n       <use xlink:href=\"#DejaVuSans-32\" x=\"83.789062\"/>\\n       <use xlink:href=\"#DejaVuSans-2e\" x=\"147.412109\"/>\\n       <use xlink:href=\"#DejaVuSans-35\" x=\"179.199219\"/>\\n      </g>\\n     </g>\\n    </g>\\n    <g id=\"xtick_5\">\\n     <g id=\"line2d_9\">\\n      <path d=\"M 236.16 307.584 \\nL 236.16 41.472 \\n\" clip-path=\"url(#p4b8c9c26ff)\" style=\"fill: none; stroke: #bfbfbf; stroke-width: 0.75; stroke-linecap: square\"/>\\n     </g>\\n     <g id=\"line2d_10\">\\n      <g>\\n       <use xlink:href=\"#mb096152a54\" x=\"236.16\" y=\"174.528\" style=\"stroke: #000000; stroke-width: 0.8\"/>\\n      </g>\\n     </g>\\n     <g id=\"text_5\">\\n      <!-- 0.0 -->\\n      <g transform=\"translate(228.208438 189.126437) scale(0.1 -0.1)\">\\n       <use xlink:href=\"#DejaVuSans-30\"/>\\n       <use xlink:href=\"#DejaVuSans-2e\" x=\"63.623047\"/>\\n       <use xlink:href=\"#DejaVuSans-30\" x=\"95.410156\"/>\\n      </g>\\n     </g>\\n    </g>\\n    <g id=\"xtick_6\">\\n     <g id=\"line2d_11\">\\n      <path d=\"M 269.424 307.584 \\nL 269.424 41.472 \\n\" clip-path=\"url(#p4b8c9c26ff)\" style=\"fill: none; stroke: #bfbfbf; stroke-width: 0.75; stroke-linecap: square\"/>\\n     </g>\\n     <g id=\"line2d_12\">\\n      <g>\\n       <use xlink:href=\"#mb096152a54\" x=\"269.424\" y=\"174.528\" style=\"stroke: #000000; stroke-width: 0.8\"/>\\n      </g>\\n     </g>\\n     <g id=\"text_6\">\\n      <!-- 2.5 -->\\n      <g transform=\"translate(261.472438 189.126437) scale(0.1 -0.1)\">\\n       <use xlink:href=\"#DejaVuSans-32\"/>\\n       <use xlink:href=\"#DejaVuSans-2e\" x=\"63.623047\"/>\\n       <use xlink:href=\"#DejaVuSans-35\" x=\"95.410156\"/>\\n      </g>\\n     </g>\\n    </g>\\n    <g id=\"xtick_7\">\\n     <g id=\"line2d_13\">\\n      <path d=\"M 302.688 307.584 \\nL 302.688 41.472 \\n\" clip-path=\"url(#p4b8c9c26ff)\" style=\"fill: none; stroke: #bfbfbf; stroke-width: 0.75; stroke-linecap: square\"/>\\n     </g>\\n     <g id=\"line2d_14\">\\n      <g>\\n       <use xlink:href=\"#mb096152a54\" x=\"302.688\" y=\"174.528\" style=\"stroke: #000000; stroke-width: 0.8\"/>\\n      </g>\\n     </g>\\n     <g id=\"text_7\">\\n      <!-- 5.0 -->\\n      <g transform=\"translate(294.736437 189.126437) scale(0.1 -0.1)\">\\n       <use xlink:href=\"#DejaVuSans-35\"/>\\n       <use xlink:href=\"#DejaVuSans-2e\" x=\"63.623047\"/>\\n       <use xlink:href=\"#DejaVuSans-30\" x=\"95.410156\"/>\\n      </g>\\n     </g>\\n    </g>\\n    <g id=\"xtick_8\">\\n     <g id=\"line2d_15\">\\n      <path d=\"M 335.952 307.584 \\nL 335.952 41.472 \\n\" clip-path=\"url(#p4b8c9c26ff)\" style=\"fill: none; stroke: #bfbfbf; stroke-width: 0.75; stroke-linecap: square\"/>\\n     </g>\\n     <g id=\"line2d_16\">\\n      <g>\\n       <use xlink:href=\"#mb096152a54\" x=\"335.952\" y=\"174.528\" style=\"stroke: #000000; stroke-width: 0.8\"/>\\n      </g>\\n     </g>\\n     <g id=\"text_8\">\\n      <!-- 7.5 -->\\n      <g transform=\"translate(328.000437 189.126437) scale(0.1 -0.1)\">\\n       <use xlink:href=\"#DejaVuSans-37\"/>\\n       <use xlink:href=\"#DejaVuSans-2e\" x=\"63.623047\"/>\\n       <use xlink:href=\"#DejaVuSans-35\" x=\"95.410156\"/>\\n      </g>\\n     </g>\\n    </g>\\n    <g id=\"xtick_9\">\\n     <g id=\"line2d_17\">\\n      <path d=\"M 369.216 307.584 \\nL 369.216 41.472 \\n\" clip-path=\"url(#p4b8c9c26ff)\" style=\"fill: none; stroke: #bfbfbf; stroke-width: 0.75; stroke-linecap: square\"/>\\n     </g>\\n     <g id=\"line2d_18\">\\n      <g>\\n       <use xlink:href=\"#mb096152a54\" x=\"369.216\" y=\"174.528\" style=\"stroke: #000000; stroke-width: 0.8\"/>\\n      </g>\\n     </g>\\n     <g id=\"text_9\">\\n      <!-- 10.0 -->\\n      <g transform=\"translate(358.083188 189.126437) scale(0.1 -0.1)\">\\n       <use xlink:href=\"#DejaVuSans-31\"/>\\n       <use xlink:href=\"#DejaVuSans-30\" x=\"63.623047\"/>\\n       <use xlink:href=\"#DejaVuSans-2e\" x=\"127.246094\"/>\\n       <use xlink:href=\"#DejaVuSans-30\" x=\"159.033203\"/>\\n      </g>\\n     </g>\\n    </g>\\n    <g id=\"text_10\">\\n     <!-- $x$ -->\\n     <g transform=\"translate(233.16 202.804562) scale(0.1 -0.1)\">\\n      <defs>\\n       <path id=\"DejaVuSans-Oblique-78\" d=\"M 3841 3500 \\nL 2234 1784 \\nL 3219 0 \\nL 2559 0 \\nL 1819 1388 \\nL 531 0 \\nL -166 0 \\nL 1556 1844 \\nL 641 3500 \\nL 1300 3500 \\nL 1972 2234 \\nL 3144 3500 \\nL 3841 3500 \\nz\\n\" transform=\"scale(0.015625)\"/>\\n      </defs>\\n      <use xlink:href=\"#DejaVuSans-Oblique-78\" transform=\"translate(0 0.3125)\"/>\\n     </g>\\n    </g>\\n   </g>\\n   <g id=\"matplotlib.axis_2\">\\n    <g id=\"ytick_1\">\\n     <g id=\"line2d_19\">\\n      <path d=\"M 103.104 307.584 \\nL 369.216 307.584 \\n\" clip-path=\"url(#p4b8c9c26ff)\" style=\"fill: none; stroke: #bfbfbf; stroke-width: 0.75; stroke-linecap: square\"/>\\n     </g>\\n     <g id=\"line2d_20\">\\n      <defs>\\n       <path id=\"m13cd835c71\" d=\"M 0 0 \\nL -3.5 0 \\n\" style=\"stroke: #000000; stroke-width: 0.8\"/>\\n      </defs>\\n      <g>\\n       <use xlink:href=\"#m13cd835c71\" x=\"236.16\" y=\"307.584\" style=\"stroke: #000000; stroke-width: 0.8\"/>\\n      </g>\\n     </g>\\n     <g id=\"text_11\">\\n      <!-- −10.0 -->\\n      <g transform=\"translate(198.514688 311.383219) scale(0.1 -0.1)\">\\n       <use xlink:href=\"#DejaVuSans-2212\"/>\\n       <use xlink:href=\"#DejaVuSans-31\" x=\"83.789062\"/>\\n       <use xlink:href=\"#DejaVuSans-30\" x=\"147.412109\"/>\\n       <use xlink:href=\"#DejaVuSans-2e\" x=\"211.035156\"/>\\n       <use xlink:href=\"#DejaVuSans-30\" x=\"242.822266\"/>\\n      </g>\\n     </g>\\n    </g>\\n    <g id=\"ytick_2\">\\n     <g id=\"line2d_21\">\\n      <path d=\"M 103.104 274.32 \\nL 369.216 274.32 \\n\" clip-path=\"url(#p4b8c9c26ff)\" style=\"fill: none; stroke: #bfbfbf; stroke-width: 0.75; stroke-linecap: square\"/>\\n     </g>\\n     <g id=\"line2d_22\">\\n      <g>\\n       <use xlink:href=\"#m13cd835c71\" x=\"236.16\" y=\"274.32\" style=\"stroke: #000000; stroke-width: 0.8\"/>\\n      </g>\\n     </g>\\n     <g id=\"text_12\">\\n      <!-- −7.5 -->\\n      <g transform=\"translate(204.877188 278.119219) scale(0.1 -0.1)\">\\n       <use xlink:href=\"#DejaVuSans-2212\"/>\\n       <use xlink:href=\"#DejaVuSans-37\" x=\"83.789062\"/>\\n       <use xlink:href=\"#DejaVuSans-2e\" x=\"147.412109\"/>\\n       <use xlink:href=\"#DejaVuSans-35\" x=\"179.199219\"/>\\n      </g>\\n     </g>\\n    </g>\\n    <g id=\"ytick_3\">\\n     <g id=\"line2d_23\">\\n      <path d=\"M 103.104 241.056 \\nL 369.216 241.056 \\n\" clip-path=\"url(#p4b8c9c26ff)\" style=\"fill: none; stroke: #bfbfbf; stroke-width: 0.75; stroke-linecap: square\"/>\\n     </g>\\n     <g id=\"line2d_24\">\\n      <g>\\n       <use xlink:href=\"#m13cd835c71\" x=\"236.16\" y=\"241.056\" style=\"stroke: #000000; stroke-width: 0.8\"/>\\n      </g>\\n     </g>\\n     <g id=\"text_13\">\\n      <!-- −5.0 -->\\n      <g transform=\"translate(204.877188 244.855219) scale(0.1 -0.1)\">\\n       <use xlink:href=\"#DejaVuSans-2212\"/>\\n       <use xlink:href=\"#DejaVuSans-35\" x=\"83.789062\"/>\\n       <use xlink:href=\"#DejaVuSans-2e\" x=\"147.412109\"/>\\n       <use xlink:href=\"#DejaVuSans-30\" x=\"179.199219\"/>\\n      </g>\\n     </g>\\n    </g>\\n    <g id=\"ytick_4\">\\n     <g id=\"line2d_25\">\\n      <path d=\"M 103.104 207.792 \\nL 369.216 207.792 \\n\" clip-path=\"url(#p4b8c9c26ff)\" style=\"fill: none; stroke: #bfbfbf; stroke-width: 0.75; stroke-linecap: square\"/>\\n     </g>\\n     <g id=\"line2d_26\">\\n      <g>\\n       <use xlink:href=\"#m13cd835c71\" x=\"236.16\" y=\"207.792\" style=\"stroke: #000000; stroke-width: 0.8\"/>\\n      </g>\\n     </g>\\n     <g id=\"text_14\">\\n      <!-- −2.5 -->\\n      <g transform=\"translate(204.877188 211.591219) scale(0.1 -0.1)\">\\n       <use xlink:href=\"#DejaVuSans-2212\"/>\\n       <use xlink:href=\"#DejaVuSans-32\" x=\"83.789062\"/>\\n       <use xlink:href=\"#DejaVuSans-2e\" x=\"147.412109\"/>\\n       <use xlink:href=\"#DejaVuSans-35\" x=\"179.199219\"/>\\n      </g>\\n     </g>\\n    </g>\\n    <g id=\"ytick_5\">\\n     <g id=\"line2d_27\">\\n      <path d=\"M 103.104 174.528 \\nL 369.216 174.528 \\n\" clip-path=\"url(#p4b8c9c26ff)\" style=\"fill: none; stroke: #bfbfbf; stroke-width: 0.75; stroke-linecap: square\"/>\\n     </g>\\n     <g id=\"line2d_28\">\\n      <g>\\n       <use xlink:href=\"#m13cd835c71\" x=\"236.16\" y=\"174.528\" style=\"stroke: #000000; stroke-width: 0.8\"/>\\n      </g>\\n     </g>\\n     <g id=\"text_15\">\\n      <!-- 0.0 -->\\n      <g transform=\"translate(213.256875 178.327219) scale(0.1 -0.1)\">\\n       <use xlink:href=\"#DejaVuSans-30\"/>\\n       <use xlink:href=\"#DejaVuSans-2e\" x=\"63.623047\"/>\\n       <use xlink:href=\"#DejaVuSans-30\" x=\"95.410156\"/>\\n      </g>\\n     </g>\\n    </g>\\n    <g id=\"ytick_6\">\\n     <g id=\"line2d_29\">\\n      <path d=\"M 103.104 141.264 \\nL 369.216 141.264 \\n\" clip-path=\"url(#p4b8c9c26ff)\" style=\"fill: none; stroke: #bfbfbf; stroke-width: 0.75; stroke-linecap: square\"/>\\n     </g>\\n     <g id=\"line2d_30\">\\n      <g>\\n       <use xlink:href=\"#m13cd835c71\" x=\"236.16\" y=\"141.264\" style=\"stroke: #000000; stroke-width: 0.8\"/>\\n      </g>\\n     </g>\\n     <g id=\"text_16\">\\n      <!-- 2.5 -->\\n      <g transform=\"translate(213.256875 145.063219) scale(0.1 -0.1)\">\\n       <use xlink:href=\"#DejaVuSans-32\"/>\\n       <use xlink:href=\"#DejaVuSans-2e\" x=\"63.623047\"/>\\n       <use xlink:href=\"#DejaVuSans-35\" x=\"95.410156\"/>\\n      </g>\\n     </g>\\n    </g>\\n    <g id=\"ytick_7\">\\n     <g id=\"line2d_31\">\\n      <path d=\"M 103.104 108 \\nL 369.216 108 \\n\" clip-path=\"url(#p4b8c9c26ff)\" style=\"fill: none; stroke: #bfbfbf; stroke-width: 0.75; stroke-linecap: square\"/>\\n     </g>\\n     <g id=\"line2d_32\">\\n      <g>\\n       <use xlink:href=\"#m13cd835c71\" x=\"236.16\" y=\"108\" style=\"stroke: #000000; stroke-width: 0.8\"/>\\n      </g>\\n     </g>\\n     <g id=\"text_17\">\\n      <!-- 5.0 -->\\n      <g transform=\"translate(213.256875 111.799219) scale(0.1 -0.1)\">\\n       <use xlink:href=\"#DejaVuSans-35\"/>\\n       <use xlink:href=\"#DejaVuSans-2e\" x=\"63.623047\"/>\\n       <use xlink:href=\"#DejaVuSans-30\" x=\"95.410156\"/>\\n      </g>\\n     </g>\\n    </g>\\n    <g id=\"ytick_8\">\\n     <g id=\"line2d_33\">\\n      <path d=\"M 103.104 74.736 \\nL 369.216 74.736 \\n\" clip-path=\"url(#p4b8c9c26ff)\" style=\"fill: none; stroke: #bfbfbf; stroke-width: 0.75; stroke-linecap: square\"/>\\n     </g>\\n     <g id=\"line2d_34\">\\n      <g>\\n       <use xlink:href=\"#m13cd835c71\" x=\"236.16\" y=\"74.736\" style=\"stroke: #000000; stroke-width: 0.8\"/>\\n      </g>\\n     </g>\\n     <g id=\"text_18\">\\n      <!-- 7.5 -->\\n      <g transform=\"translate(213.256875 78.535219) scale(0.1 -0.1)\">\\n       <use xlink:href=\"#DejaVuSans-37\"/>\\n       <use xlink:href=\"#DejaVuSans-2e\" x=\"63.623047\"/>\\n       <use xlink:href=\"#DejaVuSans-35\" x=\"95.410156\"/>\\n      </g>\\n     </g>\\n    </g>\\n    <g id=\"ytick_9\">\\n     <g id=\"line2d_35\">\\n      <path d=\"M 103.104 41.472 \\nL 369.216 41.472 \\n\" clip-path=\"url(#p4b8c9c26ff)\" style=\"fill: none; stroke: #bfbfbf; stroke-width: 0.75; stroke-linecap: square\"/>\\n     </g>\\n     <g id=\"line2d_36\">\\n      <g>\\n       <use xlink:href=\"#m13cd835c71\" x=\"236.16\" y=\"41.472\" style=\"stroke: #000000; stroke-width: 0.8\"/>\\n      </g>\\n     </g>\\n     <g id=\"text_19\">\\n      <!-- 10.0 -->\\n      <g transform=\"translate(206.894375 45.271219) scale(0.1 -0.1)\">\\n       <use xlink:href=\"#DejaVuSans-31\"/>\\n       <use xlink:href=\"#DejaVuSans-30\" x=\"63.623047\"/>\\n       <use xlink:href=\"#DejaVuSans-2e\" x=\"127.246094\"/>\\n       <use xlink:href=\"#DejaVuSans-30\" x=\"159.033203\"/>\\n      </g>\\n     </g>\\n    </g>\\n    <g id=\"text_20\">\\n     <!-- $y$ -->\\n     <g transform=\"translate(192.414688 177.528) rotate(-90) scale(0.1 -0.1)\">\\n      <defs>\\n       <path id=\"DejaVuSans-Oblique-79\" d=\"M 1588 -325 \\nQ 1188 -997 936 -1164 \\nQ 684 -1331 294 -1331 \\nL -159 -1331 \\nL -63 -850 \\nL 269 -850 \\nQ 509 -850 678 -719 \\nQ 847 -588 1056 -206 \\nL 1234 128 \\nL 459 3500 \\nL 1069 3500 \\nL 1650 819 \\nL 3256 3500 \\nL 3859 3500 \\nL 1588 -325 \\nz\\n\" transform=\"scale(0.015625)\"/>\\n      </defs>\\n      <use xlink:href=\"#DejaVuSans-Oblique-79\" transform=\"translate(0 0.3125)\"/>\\n     </g>\\n    </g>\\n   </g>\\n   <g id=\"PathCollection_1\">\\n    <path d=\"M 269.76 253.981636 \\nL 268.648253 253.824 \\nL 267.072 253.5888 \\nL 264.384 253.046978 \\nL 261.696 252.364423 \\nL 259.008 251.541135 \\nL 257.878353 251.136 \\nL 256.32 250.546236 \\nL 253.632 249.380446 \\nL 251.724963 248.448 \\nL 250.944 248.043818 \\nL 248.256 246.495467 \\nL 247.096877 245.76 \\nL 245.568 244.72967 \\nL 243.315808 243.072 \\nL 242.88 242.729992 \\nL 240.192 240.442522 \\nL 240.128196 240.384 \\nL 237.504 237.806332 \\nL 237.39924 237.696 \\nL 235.028008 235.008 \\nL 234.816 234.747808 \\nL 232.962594 232.32 \\nL 232.128 231.128259 \\nL 231.142334 229.632 \\nL 229.531129 226.944 \\nL 229.44 226.775262 \\nL 228.155671 224.256 \\nL 226.935906 221.568 \\nL 226.752 221.105645 \\nL 225.913693 218.88 \\nL 225.043837 216.192 \\nL 224.316579 213.504 \\nL 224.064 212.342751 \\nL 223.748651 210.816 \\nL 223.328862 208.128 \\nL 223.04449 205.44 \\nL 222.895532 202.752 \\nL 222.881991 200.064 \\nL 223.003865 197.376 \\nL 223.261155 194.688 \\nL 223.65386 192 \\nL 224.064 189.912492 \\nL 224.18824 189.312 \\nL 224.886977 186.624 \\nL 225.728314 183.936 \\nL 226.71225 181.248 \\nL 226.752 181.153154 \\nL 227.899671 178.56 \\nL 229.239906 175.872 \\nL 229.44 175.511224 \\nL 230.807331 173.184 \\nL 232.128 171.142415 \\nL 232.572538 170.496 \\nL 234.590657 167.808 \\nL 234.816 167.531126 \\nL 236.910513 165.12 \\nL 237.504 164.485951 \\nL 239.565366 162.432 \\nL 240.192 161.849525 \\nL 242.633426 159.744 \\nL 242.88 159.544725 \\nL 245.568 157.541404 \\nL 246.279329 157.056 \\nL 248.256 155.786954 \\nL 250.69055 154.368 \\nL 250.944 154.228532 \\nL 253.632 152.899549 \\nL 256.32 151.720733 \\nL 256.426441 151.68 \\nL 259.008 150.744356 \\nL 261.696 149.912356 \\nL 264.384 149.222578 \\nL 265.515927 148.992 \\nL 267.072 148.690951 \\nL 269.76 148.305986 \\nL 272.448 148.056096 \\nL 275.136 147.941282 \\nL 277.824 147.961544 \\nL 280.512 148.11688 \\nL 283.2 148.407292 \\nL 285.888 148.83278 \\nL 286.651489 148.992 \\nL 288.576 149.414578 \\nL 291.264 150.147022 \\nL 293.952 151.021689 \\nL 295.692151 151.68 \\nL 296.64 152.05861 \\nL 299.328 153.282476 \\nL 301.451593 154.368 \\nL 302.016 154.673581 \\nL 304.704 156.287972 \\nL 305.868097 157.056 \\nL 307.392 158.124649 \\nL 309.511151 159.744 \\nL 310.08 160.20786 \\nL 312.600128 162.432 \\nL 312.768 162.590814 \\nL 315.2525 165.12 \\nL 315.456 165.343219 \\nL 317.554725 167.808 \\nL 318.144 168.558212 \\nL 319.571844 170.496 \\nL 320.832 172.363112 \\nL 321.353731 173.184 \\nL 322.905404 175.872 \\nL 323.52 177.056306 \\nL 324.257349 178.56 \\nL 325.427332 181.248 \\nL 326.208 183.301496 \\nL 326.43662 183.936 \\nL 327.264777 186.624 \\nL 327.952568 189.312 \\nL 328.499994 192 \\nL 328.896 194.615007 \\nL 328.906505 194.688 \\nL 329.159964 197.376 \\nL 329.280024 200.064 \\nL 329.266684 202.752 \\nL 329.119944 205.44 \\nL 328.896 207.5888 \\nL 328.836871 208.128 \\nL 328.401738 210.816 \\nL 327.826239 213.504 \\nL 327.110375 216.192 \\nL 326.254145 218.88 \\nL 326.208 219.004462 \\nL 325.205183 221.568 \\nL 324.00558 224.256 \\nL 323.52 225.224492 \\nL 322.607608 226.944 \\nL 321.024588 229.632 \\nL 320.832 229.929557 \\nL 319.189033 232.32 \\nL 318.144 233.714817 \\nL 317.11116 235.008 \\nL 315.456 236.922174 \\nL 314.739596 237.696 \\nL 312.768 239.674587 \\nL 312.007337 240.384 \\nL 310.08 242.062442 \\nL 308.825323 243.072 \\nL 307.392 244.15367 \\nL 305.072545 245.76 \\nL 304.704 246.000309 \\nL 302.016 247.595818 \\nL 300.423397 248.448 \\nL 299.328 249.00175 \\nL 296.64 250.212093 \\nL 294.301158 251.136 \\nL 293.952 251.266706 \\nL 291.264 252.132214 \\nL 288.576 252.856988 \\nL 285.888 253.44103 \\nL 283.565867 253.824 \\nL 283.2 253.881337 \\nL 280.512 254.16886 \\nL 277.824 254.322651 \\nL 275.136 254.34271 \\nL 272.448 254.229039 \\nL 269.76 253.981636 \\nz\\n\" clip-path=\"url(#p4b8c9c26ff)\" style=\"fill: none; stroke: #1f77b4; stroke-width: 1.5\"/>\\n   </g>\\n   <g id=\"PathCollection_2\">\\n    <path d=\"M 270.75456 41.472 \\nL 270.21696 44.16 \\nL 269.76 46.4448 \\nL 269.67936 46.848 \\nL 269.14176 49.536 \\nL 268.60416 52.224 \\nL 268.06656 54.912 \\nL 267.52896 57.6 \\nL 267.072 59.8848 \\nL 266.99136 60.288 \\nL 266.45376 62.976 \\nL 265.91616 65.664 \\nL 265.37856 68.352 \\nL 264.84096 71.04 \\nL 264.384 73.3248 \\nL 264.30336 73.728 \\nL 263.76576 76.416 \\nL 263.22816 79.104 \\nL 262.69056 81.792 \\nL 262.15296 84.48 \\nL 261.696 86.7648 \\nL 261.61536 87.168 \\nL 261.07776 89.856 \\nL 260.54016 92.544 \\nL 260.00256 95.232 \\nL 259.46496 97.92 \\nL 259.008 100.2048 \\nL 258.92736 100.608 \\nL 258.38976 103.296 \\nL 257.85216 105.984 \\nL 257.31456 108.672 \\nL 256.77696 111.36 \\nL 256.32 113.6448 \\nL 256.23936 114.048 \\nL 255.70176 116.736 \\nL 255.16416 119.424 \\nL 254.62656 122.112 \\nL 254.08896 124.8 \\nL 253.632 127.0848 \\nL 253.55136 127.488 \\nL 253.01376 130.176 \\nL 252.47616 132.864 \\nL 251.93856 135.552 \\nL 251.40096 138.24 \\nL 250.944 140.5248 \\nL 250.86336 140.928 \\nL 250.32576 143.616 \\nL 249.78816 146.304 \\nL 249.25056 148.992 \\nL 248.71296 151.68 \\nL 248.256 153.9648 \\nL 248.17536 154.368 \\nL 247.63776 157.056 \\nL 247.10016 159.744 \\nL 246.56256 162.432 \\nL 246.02496 165.12 \\nL 245.568 167.4048 \\nL 245.48736 167.808 \\nL 244.94976 170.496 \\nL 244.41216 173.184 \\nL 243.87456 175.872 \\nL 243.33696 178.56 \\nL 242.88 180.8448 \\nL 242.79936 181.248 \\nL 242.26176 183.936 \\nL 241.72416 186.624 \\nL 241.18656 189.312 \\nL 240.64896 192 \\nL 240.192 194.2848 \\nL 240.11136 194.688 \\nL 239.57376 197.376 \\nL 239.03616 200.064 \\nL 238.49856 202.752 \\nL 237.96096 205.44 \\nL 237.504 207.7248 \\nL 237.42336 208.128 \\nL 236.88576 210.816 \\nL 236.34816 213.504 \\nL 235.81056 216.192 \\nL 235.27296 218.88 \\nL 234.816 221.1648 \\nL 234.73536 221.568 \\nL 234.19776 224.256 \\nL 233.66016 226.944 \\nL 233.12256 229.632 \\nL 232.58496 232.32 \\nL 232.128 234.6048 \\nL 232.04736 235.008 \\nL 231.50976 237.696 \\nL 230.97216 240.384 \\nL 230.43456 243.072 \\nL 229.89696 245.76 \\nL 229.44 248.0448 \\nL 229.35936 248.448 \\nL 228.82176 251.136 \\nL 228.28416 253.824 \\nL 227.74656 256.512 \\nL 227.20896 259.2 \\nL 226.752 261.4848 \\nL 226.67136 261.888 \\nL 226.13376 264.576 \\nL 225.59616 267.264 \\nL 225.05856 269.952 \\nL 224.52096 272.64 \\nL 224.064 274.9248 \\nL 223.98336 275.328 \\nL 223.44576 278.016 \\nL 222.90816 280.704 \\nL 222.37056 283.392 \\nL 221.83296 286.08 \\nL 221.376 288.3648 \\nL 221.29536 288.768 \\nL 220.75776 291.456 \\nL 220.22016 294.144 \\nL 219.68256 296.832 \\nL 219.14496 299.52 \\nL 218.688 301.8048 \\nL 218.60736 302.208 \\nL 218.06976 304.896 \\nL 217.53216 307.584 \\n\" clip-path=\"url(#p4b8c9c26ff)\" style=\"fill: none; stroke: #ff7f0e; stroke-width: 1.5\"/>\\n   </g>\\n   <g id=\"line2d_37\">\\n    <defs>\\n     <path id=\"me407f0fe73\" d=\"M 0 3 \\nC 0.795609 3 1.55874 2.683901 2.12132 2.12132 \\nC 2.683901 1.55874 3 0.795609 3 0 \\nC 3 -0.795609 2.683901 -1.55874 2.12132 -2.12132 \\nC 1.55874 -2.683901 0.795609 -3 0 -3 \\nC -0.795609 -3 -1.55874 -2.683901 -2.12132 -2.12132 \\nC -2.683901 -1.55874 -3 -0.795609 -3 0 \\nC -3 0.795609 -2.683901 1.55874 -2.12132 2.12132 \\nC -1.55874 2.683901 -0.795609 3 0 3 \\nz\\n\" style=\"stroke: #2ca02c\"/>\\n    </defs>\\n    <g clip-path=\"url(#p4b8c9c26ff)\">\\n     <use xlink:href=\"#me407f0fe73\" x=\"232.663495\" y=\"231.927327\" style=\"fill: #2ca02c; stroke: #2ca02c\"/>\\n    </g>\\n   </g>\\n   <g id=\"line2d_38\">\\n    <defs>\\n     <path id=\"m1ae971d23d\" d=\"M 0 3 \\nC 0.795609 3 1.55874 2.683901 2.12132 2.12132 \\nC 2.683901 1.55874 3 0.795609 3 0 \\nC 3 -0.795609 2.683901 -1.55874 2.12132 -2.12132 \\nC 1.55874 -2.683901 0.795609 -3 0 -3 \\nC -0.795609 -3 -1.55874 -2.683901 -2.12132 -2.12132 \\nC -2.683901 -1.55874 -3 -0.795609 -3 0 \\nC -3 0.795609 -2.683901 1.55874 -2.12132 2.12132 \\nC -1.55874 2.683901 -0.795609 3 0 3 \\nz\\n\" style=\"stroke: #d62728\"/>\\n    </defs>\\n    <g clip-path=\"url(#p4b8c9c26ff)\">\\n     <use xlink:href=\"#m1ae971d23d\" x=\"247.844567\" y=\"156.021965\" style=\"fill: #d62728; stroke: #d62728\"/>\\n    </g>\\n   </g>\\n   <g id=\"patch_3\">\\n    <path d=\"M 236.16 307.584 \\nL 236.16 41.472 \\n\" style=\"fill: none; stroke: #000000; stroke-width: 0.8; stroke-linejoin: miter; stroke-linecap: square\"/>\\n   </g>\\n   <g id=\"patch_4\">\\n    <path d=\"M 103.104 174.528 \\nL 369.216 174.528 \\n\" style=\"fill: none; stroke: #000000; stroke-width: 0.8; stroke-linejoin: miter; stroke-linecap: square\"/>\\n   </g>\\n   <g id=\"legend_1\">\\n    <g id=\"patch_5\">\\n     <path d=\"M 209.316 109.726688 \\nL 362.216 109.726688 \\nQ 364.216 109.726688 364.216 107.726688 \\nL 364.216 48.472 \\nQ 364.216 46.472 362.216 46.472 \\nL 209.316 46.472 \\nQ 207.316 46.472 207.316 48.472 \\nL 207.316 107.726688 \\nQ 207.316 109.726688 209.316 109.726688 \\nz\\n\" style=\"fill: #ffffff; opacity: 0.8; stroke: #cccccc; stroke-linejoin: miter\"/>\\n    </g>\\n    <g id=\"line2d_39\">\\n     <path d=\"M 211.316 56.072 \\nL 221.316 56.072 \\nL 231.316 56.072 \\n\" style=\"fill: none; stroke: #1f77b4; stroke-width: 1.5; stroke-linecap: square\"/>\\n    </g>\\n    <g id=\"text_21\">\\n     <!-- $x^{2} - 6 x + y^{2} + 4 y - 3 = 0$ -->\\n     <g transform=\"translate(239.316 59.572) scale(0.1 -0.1)\">\\n      <defs>\\n       <path id=\"DejaVuSans-36\" d=\"M 2113 2584 \\nQ 1688 2584 1439 2293 \\nQ 1191 2003 1191 1497 \\nQ 1191 994 1439 701 \\nQ 1688 409 2113 409 \\nQ 2538 409 2786 701 \\nQ 3034 994 3034 1497 \\nQ 3034 2003 2786 2293 \\nQ 2538 2584 2113 2584 \\nz\\nM 3366 4563 \\nL 3366 3988 \\nQ 3128 4100 2886 4159 \\nQ 2644 4219 2406 4219 \\nQ 1781 4219 1451 3797 \\nQ 1122 3375 1075 2522 \\nQ 1259 2794 1537 2939 \\nQ 1816 3084 2150 3084 \\nQ 2853 3084 3261 2657 \\nQ 3669 2231 3669 1497 \\nQ 3669 778 3244 343 \\nQ 2819 -91 2113 -91 \\nQ 1303 -91 875 529 \\nQ 447 1150 447 2328 \\nQ 447 3434 972 4092 \\nQ 1497 4750 2381 4750 \\nQ 2619 4750 2861 4703 \\nQ 3103 4656 3366 4563 \\nz\\n\" transform=\"scale(0.015625)\"/>\\n       <path id=\"DejaVuSans-2b\" d=\"M 2944 4013 \\nL 2944 2272 \\nL 4684 2272 \\nL 4684 1741 \\nL 2944 1741 \\nL 2944 0 \\nL 2419 0 \\nL 2419 1741 \\nL 678 1741 \\nL 678 2272 \\nL 2419 2272 \\nL 2419 4013 \\nL 2944 4013 \\nz\\n\" transform=\"scale(0.015625)\"/>\\n       <path id=\"DejaVuSans-34\" d=\"M 2419 4116 \\nL 825 1625 \\nL 2419 1625 \\nL 2419 4116 \\nz\\nM 2253 4666 \\nL 3047 4666 \\nL 3047 1625 \\nL 3713 1625 \\nL 3713 1100 \\nL 3047 1100 \\nL 3047 0 \\nL 2419 0 \\nL 2419 1100 \\nL 313 1100 \\nL 313 1709 \\nL 2253 4666 \\nz\\n\" transform=\"scale(0.015625)\"/>\\n       <path id=\"DejaVuSans-33\" d=\"M 2597 2516 \\nQ 3050 2419 3304 2112 \\nQ 3559 1806 3559 1356 \\nQ 3559 666 3084 287 \\nQ 2609 -91 1734 -91 \\nQ 1441 -91 1130 -33 \\nQ 819 25 488 141 \\nL 488 750 \\nQ 750 597 1062 519 \\nQ 1375 441 1716 441 \\nQ 2309 441 2620 675 \\nQ 2931 909 2931 1356 \\nQ 2931 1769 2642 2001 \\nQ 2353 2234 1838 2234 \\nL 1294 2234 \\nL 1294 2753 \\nL 1863 2753 \\nQ 2328 2753 2575 2939 \\nQ 2822 3125 2822 3475 \\nQ 2822 3834 2567 4026 \\nQ 2313 4219 1838 4219 \\nQ 1578 4219 1281 4162 \\nQ 984 4106 628 3988 \\nL 628 4550 \\nQ 988 4650 1302 4700 \\nQ 1616 4750 1894 4750 \\nQ 2613 4750 3031 4423 \\nQ 3450 4097 3450 3541 \\nQ 3450 3153 3228 2886 \\nQ 3006 2619 2597 2516 \\nz\\n\" transform=\"scale(0.015625)\"/>\\n       <path id=\"DejaVuSans-3d\" d=\"M 678 2906 \\nL 4684 2906 \\nL 4684 2381 \\nL 678 2381 \\nL 678 2906 \\nz\\nM 678 1631 \\nL 4684 1631 \\nL 4684 1100 \\nL 678 1100 \\nL 678 1631 \\nz\\n\" transform=\"scale(0.015625)\"/>\\n      </defs>\\n      <use xlink:href=\"#DejaVuSans-Oblique-78\" transform=\"translate(0 0.765625)\"/>\\n      <use xlink:href=\"#DejaVuSans-32\" transform=\"translate(63.645833 39.046875) scale(0.7)\"/>\\n      <use xlink:href=\"#DejaVuSans-2212\" transform=\"translate(130.398763 0.765625)\"/>\\n      <use xlink:href=\"#DejaVuSans-36\" transform=\"translate(233.670247 0.765625)\"/>\\n      <use xlink:href=\"#DejaVuSans-Oblique-78\" transform=\"translate(297.293294 0.765625)\"/>\\n      <use xlink:href=\"#DejaVuSans-2b\" transform=\"translate(375.955404 0.765625)\"/>\\n      <use xlink:href=\"#DejaVuSans-Oblique-79\" transform=\"translate(479.226888 0.765625)\"/>\\n      <use xlink:href=\"#DejaVuSans-32\" transform=\"translate(542.872721 39.046875) scale(0.7)\"/>\\n      <use xlink:href=\"#DejaVuSans-2b\" transform=\"translate(609.625651 0.765625)\"/>\\n      <use xlink:href=\"#DejaVuSans-34\" transform=\"translate(712.897135 0.765625)\"/>\\n      <use xlink:href=\"#DejaVuSans-Oblique-79\" transform=\"translate(776.520182 0.765625)\"/>\\n      <use xlink:href=\"#DejaVuSans-2212\" transform=\"translate(855.182292 0.765625)\"/>\\n      <use xlink:href=\"#DejaVuSans-33\" transform=\"translate(958.453776 0.765625)\"/>\\n      <use xlink:href=\"#DejaVuSans-3d\" transform=\"translate(1041.559245 0.765625)\"/>\\n      <use xlink:href=\"#DejaVuSans-30\" transform=\"translate(1144.830729 0.765625)\"/>\\n     </g>\\n    </g>\\n    <g id=\"line2d_40\">\\n     <path d=\"M 211.316 70.770438 \\nL 221.316 70.770438 \\nL 231.316 70.770438 \\n\" style=\"fill: none; stroke: #ff7f0e; stroke-width: 1.5; stroke-linecap: square\"/>\\n    </g>\\n    <g id=\"text_22\">\\n     <!-- $5 x - y - 3 = 0$ -->\\n     <g transform=\"translate(239.316 74.270438) scale(0.1 -0.1)\">\\n      <use xlink:href=\"#DejaVuSans-35\" transform=\"translate(0 0.78125)\"/>\\n      <use xlink:href=\"#DejaVuSans-Oblique-78\" transform=\"translate(63.623047 0.78125)\"/>\\n      <use xlink:href=\"#DejaVuSans-2212\" transform=\"translate(142.285156 0.78125)\"/>\\n      <use xlink:href=\"#DejaVuSans-Oblique-79\" transform=\"translate(245.556641 0.78125)\"/>\\n      <use xlink:href=\"#DejaVuSans-2212\" transform=\"translate(324.21875 0.78125)\"/>\\n      <use xlink:href=\"#DejaVuSans-33\" transform=\"translate(427.490234 0.78125)\"/>\\n      <use xlink:href=\"#DejaVuSans-3d\" transform=\"translate(510.595703 0.78125)\"/>\\n      <use xlink:href=\"#DejaVuSans-30\" transform=\"translate(613.867188 0.78125)\"/>\\n     </g>\\n    </g>\\n    <g id=\"line2d_41\">\\n     <g>\\n      <use xlink:href=\"#me407f0fe73\" x=\"221.316\" y=\"85.468875\" style=\"fill: #2ca02c; stroke: #2ca02c\"/>\\n     </g>\\n    </g>\\n    <g id=\"text_23\">\\n     <!-- A -->\\n     <g transform=\"translate(239.316 88.968875) scale(0.1 -0.1)\">\\n      <defs>\\n       <path id=\"DejaVuSans-41\" d=\"M 2188 4044 \\nL 1331 1722 \\nL 3047 1722 \\nL 2188 4044 \\nz\\nM 1831 4666 \\nL 2547 4666 \\nL 4325 0 \\nL 3669 0 \\nL 3244 1197 \\nL 1141 1197 \\nL 716 0 \\nL 50 0 \\nL 1831 4666 \\nz\\n\" transform=\"scale(0.015625)\"/>\\n      </defs>\\n      <use xlink:href=\"#DejaVuSans-41\"/>\\n     </g>\\n    </g>\\n    <g id=\"line2d_42\">\\n     <g>\\n      <use xlink:href=\"#m1ae971d23d\" x=\"221.316\" y=\"100.147\" style=\"fill: #d62728; stroke: #d62728\"/>\\n     </g>\\n    </g>\\n    <g id=\"text_24\">\\n     <!-- B -->\\n     <g transform=\"translate(239.316 103.647) scale(0.1 -0.1)\">\\n      <defs>\\n       <path id=\"DejaVuSans-42\" d=\"M 1259 2228 \\nL 1259 519 \\nL 2272 519 \\nQ 2781 519 3026 730 \\nQ 3272 941 3272 1375 \\nQ 3272 1813 3026 2020 \\nQ 2781 2228 2272 2228 \\nL 1259 2228 \\nz\\nM 1259 4147 \\nL 1259 2741 \\nL 2194 2741 \\nQ 2656 2741 2882 2914 \\nQ 3109 3088 3109 3444 \\nQ 3109 3797 2882 3972 \\nQ 2656 4147 2194 4147 \\nL 1259 4147 \\nz\\nM 628 4666 \\nL 2241 4666 \\nQ 2963 4666 3353 4366 \\nQ 3744 4066 3744 3513 \\nQ 3744 3084 3544 2831 \\nQ 3344 2578 2956 2516 \\nQ 3422 2416 3680 2098 \\nQ 3938 1781 3938 1306 \\nQ 3938 681 3513 340 \\nQ 3088 0 2303 0 \\nL 628 0 \\nL 628 4666 \\nz\\n\" transform=\"scale(0.015625)\"/>\\n      </defs>\\n      <use xlink:href=\"#DejaVuSans-42\"/>\\n     </g>\\n    </g>\\n   </g>\\n  </g>\\n </g>\\n <defs>\\n  <clipPath id=\"p4b8c9c26ff\">\\n   <rect x=\"103.104\" y=\"41.472\" width=\"266.112\" height=\"266.112\"/>\\n  </clipPath>\\n </defs>\\n</svg>\\n'}, 'answer': [{x: 4/13 - sqrt(55)/13, y: -5*sqrt(55)/13 - 19/13}, {x: 4/13 + sqrt(55)/13, y: -19/13 + 5*sqrt(55)/13}]}\n"
     ]
    },
    {
     "data": {
      "image/png": "[encoded data removed]",
      "text/plain": [
       "<Figure size 640x480 with 1 Axes>"
      ]
     },
     "metadata": {},
     "output_type": "display_data"
    }
   ],
   "source": [
    "def GenerateFindCircleAndLineCrossPointsTask():\n",
    "\n",
    "    result = []\n",
    "    while len(result) == 0:\n",
    "        a, c = randint(*choice([(2,4),(-4,-2)])), randint(*choice([(2,4),(-4,-2)]))\n",
    "        r = randint(2,4)\n",
    "        A, C = 1, 1\n",
    "        B = -2*a\n",
    "        D = -2*c\n",
    "        Q = a**2 + c**2 - r**2\n",
    "        x, y = sp.symbols(\"x y\", real=True)\n",
    "    \n",
    "        circle = sp.Eq(A*x**2 + C*y**2 + B*x + D*y + Q, 0)\n",
    "\n",
    "        lx0, lx1, ly1 = randint(-5, 5), randint(-5, 5), 1\n",
    "        \n",
    "        line = sp.Eq(lx1*x - ly1*y - lx0, 0)\n",
    "\n",
    "        result = sp.solve([circle, line], [x, y], dict=True)\n",
    "\n",
    "    #print('координаты точки пересчения А: ', result[0][x], result[0][y])\n",
    "    #print('координаты точки пересчения B: ', result[1][x], result[1][y])\n",
    "\n",
    "    ranges = (x, -10, 10), (y, -10, 10)\n",
    "    \n",
    "    plot_base = spb.graphics(\n",
    "        spb.implicit_2d(circle, *ranges),\n",
    "        spb.implicit_2d(line, *ranges),\n",
    "        rendering_kw={\"marker\": \"ro\", \"markerfacecolor\": None},\n",
    "        backend=spb.MB,\n",
    "        axis_center=(0.0, 0.0),\n",
    "        #legend=False,\n",
    "        show=False,\n",
    "        aspect = \"equal\",\n",
    "    )\n",
    "    plot_anotation = spb.plot_list(\n",
    "        ([result[0][x]], [result[0][y]], \"A\"),\n",
    "        (result[1][x], result[1][y], \"B\"),\n",
    "        rendering_kw={\"marker\": \"o\", \"markerfacecolor\": None},\n",
    "        scatter=True, show=False\n",
    "    )\n",
    "    \n",
    "    plot = plot_base + plot_anotation\n",
    "    #plot.show()\n",
    "\n",
    "    buffer = io.StringIO()\n",
    "    plot.save(buffer, format = \"svg\")\n",
    "\n",
    "\n",
    "    task = f\"\"\n",
    "    answer = result\n",
    "\n",
    "    dic = {\n",
    "    \"task\": task,\n",
    "    \"data\": {'img': buffer.getvalue()}, \n",
    "    \"answer\": answer}\n",
    "    return dic\n",
    "\n",
    "print(GenerateFindCircleAndLineCrossPointsTask())"
   ]
  },
  {
   "cell_type": "code",
   "execution_count": 239,
   "metadata": {},
   "outputs": [
    {
     "name": "stdout",
     "output_type": "stream",
     "text": [
      "{'task': '', 'data': {'img': '<?xml version=\"1.0\" encoding=\"utf-8\" standalone=\"no\"?>\\n<!DOCTYPE svg PUBLIC \"-//W3C//DTD SVG 1.1//EN\"\\n  \"http://www.w3.org/Graphics/SVG/1.1/DTD/svg11.dtd\">\\n<svg xmlns:xlink=\"http://www.w3.org/1999/xlink\" width=\"460.8pt\" height=\"345.6pt\" viewBox=\"0 0 460.8 345.6\" xmlns=\"http://www.w3.org/2000/svg\" version=\"1.1\">\\n <metadata>\\n  <rdf:RDF xmlns:dc=\"http://purl.org/dc/elements/1.1/\" xmlns:cc=\"http://creativecommons.org/ns#\" xmlns:rdf=\"http://www.w3.org/1999/02/22-rdf-syntax-ns#\">\\n   <cc:Work>\\n    <dc:type rdf:resource=\"http://purl.org/dc/dcmitype/StillImage\"/>\\n    <dc:date>2024-05-29T22:16:08.852518</dc:date>\\n    <dc:format>image/svg+xml</dc:format>\\n    <dc:creator>\\n     <cc:Agent>\\n      <dc:title>Matplotlib v3.6.0, https://matplotlib.org/</dc:title>\\n     </cc:Agent>\\n    </dc:creator>\\n   </cc:Work>\\n  </rdf:RDF>\\n </metadata>\\n <defs>\\n  <style type=\"text/css\">*{stroke-linejoin: round; stroke-linecap: butt}</style>\\n </defs>\\n <g id=\"figure_1\">\\n  <g id=\"patch_1\">\\n   <path d=\"M 0 345.6 \\nL 460.8 345.6 \\nL 460.8 0 \\nL 0 0 \\nz\\n\" style=\"fill: #ffffff\"/>\\n  </g>\\n  <g id=\"axes_1\">\\n   <g id=\"patch_2\">\\n    <path d=\"M 103.104 307.584 \\nL 369.216 307.584 \\nL 369.216 41.472 \\nL 103.104 41.472 \\nz\\n\" style=\"fill: #ffffff\"/>\\n   </g>\\n   <g id=\"matplotlib.axis_1\">\\n    <g id=\"xtick_1\">\\n     <g id=\"line2d_1\">\\n      <path d=\"M 103.104 307.584 \\nL 103.104 41.472 \\n\" clip-path=\"url(#p1a881f4f81)\" style=\"fill: none; stroke: #bfbfbf; stroke-width: 0.75; stroke-linecap: square\"/>\\n     </g>\\n     <g id=\"line2d_2\">\\n      <defs>\\n       <path id=\"md2d209edd6\" d=\"M 0 0 \\nL 0 3.5 \\n\" style=\"stroke: #000000; stroke-width: 0.8\"/>\\n      </defs>\\n      <g>\\n       <use xlink:href=\"#md2d209edd6\" x=\"103.104\" y=\"174.528\" style=\"stroke: #000000; stroke-width: 0.8\"/>\\n      </g>\\n     </g>\\n     <g id=\"text_1\">\\n      <!-- −10.0 -->\\n      <g transform=\"translate(87.781344 189.126437) scale(0.1 -0.1)\">\\n       <defs>\\n        <path id=\"DejaVuSans-2212\" d=\"M 678 2272 \\nL 4684 2272 \\nL 4684 1741 \\nL 678 1741 \\nL 678 2272 \\nz\\n\" transform=\"scale(0.015625)\"/>\\n        <path id=\"DejaVuSans-31\" d=\"M 794 531 \\nL 1825 531 \\nL 1825 4091 \\nL 703 3866 \\nL 703 4441 \\nL 1819 4666 \\nL 2450 4666 \\nL 2450 531 \\nL 3481 531 \\nL 3481 0 \\nL 794 0 \\nL 794 531 \\nz\\n\" transform=\"scale(0.015625)\"/>\\n        <path id=\"DejaVuSans-30\" d=\"M 2034 4250 \\nQ 1547 4250 1301 3770 \\nQ 1056 3291 1056 2328 \\nQ 1056 1369 1301 889 \\nQ 1547 409 2034 409 \\nQ 2525 409 2770 889 \\nQ 3016 1369 3016 2328 \\nQ 3016 3291 2770 3770 \\nQ 2525 4250 2034 4250 \\nz\\nM 2034 4750 \\nQ 2819 4750 3233 4129 \\nQ 3647 3509 3647 2328 \\nQ 3647 1150 3233 529 \\nQ 2819 -91 2034 -91 \\nQ 1250 -91 836 529 \\nQ 422 1150 422 2328 \\nQ 422 3509 836 4129 \\nQ 1250 4750 2034 4750 \\nz\\n\" transform=\"scale(0.015625)\"/>\\n        <path id=\"DejaVuSans-2e\" d=\"M 684 794 \\nL 1344 794 \\nL 1344 0 \\nL 684 0 \\nL 684 794 \\nz\\n\" transform=\"scale(0.015625)\"/>\\n       </defs>\\n       <use xlink:href=\"#DejaVuSans-2212\"/>\\n       <use xlink:href=\"#DejaVuSans-31\" x=\"83.789062\"/>\\n       <use xlink:href=\"#DejaVuSans-30\" x=\"147.412109\"/>\\n       <use xlink:href=\"#DejaVuSans-2e\" x=\"211.035156\"/>\\n       <use xlink:href=\"#DejaVuSans-30\" x=\"242.822266\"/>\\n      </g>\\n     </g>\\n    </g>\\n    <g id=\"xtick_2\">\\n     <g id=\"line2d_3\">\\n      <path d=\"M 136.368 307.584 \\nL 136.368 41.472 \\n\" clip-path=\"url(#p1a881f4f81)\" style=\"fill: none; stroke: #bfbfbf; stroke-width: 0.75; stroke-linecap: square\"/>\\n     </g>\\n     <g id=\"line2d_4\">\\n      <g>\\n       <use xlink:href=\"#md2d209edd6\" x=\"136.368\" y=\"174.528\" style=\"stroke: #000000; stroke-width: 0.8\"/>\\n      </g>\\n     </g>\\n     <g id=\"text_2\">\\n      <!-- −7.5 -->\\n      <g transform=\"translate(124.226594 189.126437) scale(0.1 -0.1)\">\\n       <defs>\\n        <path id=\"DejaVuSans-37\" d=\"M 525 4666 \\nL 3525 4666 \\nL 3525 4397 \\nL 1831 0 \\nL 1172 0 \\nL 2766 4134 \\nL 525 4134 \\nL 525 4666 \\nz\\n\" transform=\"scale(0.015625)\"/>\\n        <path id=\"DejaVuSans-35\" d=\"M 691 4666 \\nL 3169 4666 \\nL 3169 4134 \\nL 1269 4134 \\nL 1269 2991 \\nQ 1406 3038 1543 3061 \\nQ 1681 3084 1819 3084 \\nQ 2600 3084 3056 2656 \\nQ 3513 2228 3513 1497 \\nQ 3513 744 3044 326 \\nQ 2575 -91 1722 -91 \\nQ 1428 -91 1123 -41 \\nQ 819 9 494 109 \\nL 494 744 \\nQ 775 591 1075 516 \\nQ 1375 441 1709 441 \\nQ 2250 441 2565 725 \\nQ 2881 1009 2881 1497 \\nQ 2881 1984 2565 2268 \\nQ 2250 2553 1709 2553 \\nQ 1456 2553 1204 2497 \\nQ 953 2441 691 2322 \\nL 691 4666 \\nz\\n\" transform=\"scale(0.015625)\"/>\\n       </defs>\\n       <use xlink:href=\"#DejaVuSans-2212\"/>\\n       <use xlink:href=\"#DejaVuSans-37\" x=\"83.789062\"/>\\n       <use xlink:href=\"#DejaVuSans-2e\" x=\"147.412109\"/>\\n       <use xlink:href=\"#DejaVuSans-35\" x=\"179.199219\"/>\\n      </g>\\n     </g>\\n    </g>\\n    <g id=\"xtick_3\">\\n     <g id=\"line2d_5\">\\n      <path d=\"M 169.632 307.584 \\nL 169.632 41.472 \\n\" clip-path=\"url(#p1a881f4f81)\" style=\"fill: none; stroke: #bfbfbf; stroke-width: 0.75; stroke-linecap: square\"/>\\n     </g>\\n     <g id=\"line2d_6\">\\n      <g>\\n       <use xlink:href=\"#md2d209edd6\" x=\"169.632\" y=\"174.528\" style=\"stroke: #000000; stroke-width: 0.8\"/>\\n      </g>\\n     </g>\\n     <g id=\"text_3\">\\n      <!-- −5.0 -->\\n      <g transform=\"translate(157.490594 189.126437) scale(0.1 -0.1)\">\\n       <use xlink:href=\"#DejaVuSans-2212\"/>\\n       <use xlink:href=\"#DejaVuSans-35\" x=\"83.789062\"/>\\n       <use xlink:href=\"#DejaVuSans-2e\" x=\"147.412109\"/>\\n       <use xlink:href=\"#DejaVuSans-30\" x=\"179.199219\"/>\\n      </g>\\n     </g>\\n    </g>\\n    <g id=\"xtick_4\">\\n     <g id=\"line2d_7\">\\n      <path d=\"M 202.896 307.584 \\nL 202.896 41.472 \\n\" clip-path=\"url(#p1a881f4f81)\" style=\"fill: none; stroke: #bfbfbf; stroke-width: 0.75; stroke-linecap: square\"/>\\n     </g>\\n     <g id=\"line2d_8\">\\n      <g>\\n       <use xlink:href=\"#md2d209edd6\" x=\"202.896\" y=\"174.528\" style=\"stroke: #000000; stroke-width: 0.8\"/>\\n      </g>\\n     </g>\\n     <g id=\"text_4\">\\n      <!-- −2.5 -->\\n      <g transform=\"translate(190.754594 189.126437) scale(0.1 -0.1)\">\\n       <defs>\\n        <path id=\"DejaVuSans-32\" d=\"M 1228 531 \\nL 3431 531 \\nL 3431 0 \\nL 469 0 \\nL 469 531 \\nQ 828 903 1448 1529 \\nQ 2069 2156 2228 2338 \\nQ 2531 2678 2651 2914 \\nQ 2772 3150 2772 3378 \\nQ 2772 3750 2511 3984 \\nQ 2250 4219 1831 4219 \\nQ 1534 4219 1204 4116 \\nQ 875 4013 500 3803 \\nL 500 4441 \\nQ 881 4594 1212 4672 \\nQ 1544 4750 1819 4750 \\nQ 2544 4750 2975 4387 \\nQ 3406 4025 3406 3419 \\nQ 3406 3131 3298 2873 \\nQ 3191 2616 2906 2266 \\nQ 2828 2175 2409 1742 \\nQ 1991 1309 1228 531 \\nz\\n\" transform=\"scale(0.015625)\"/>\\n       </defs>\\n       <use xlink:href=\"#DejaVuSans-2212\"/>\\n       <use xlink:href=\"#DejaVuSans-32\" x=\"83.789062\"/>\\n       <use xlink:href=\"#DejaVuSans-2e\" x=\"147.412109\"/>\\n       <use xlink:href=\"#DejaVuSans-35\" x=\"179.199219\"/>\\n      </g>\\n     </g>\\n    </g>\\n    <g id=\"xtick_5\">\\n     <g id=\"line2d_9\">\\n      <path d=\"M 236.16 307.584 \\nL 236.16 41.472 \\n\" clip-path=\"url(#p1a881f4f81)\" style=\"fill: none; stroke: #bfbfbf; stroke-width: 0.75; stroke-linecap: square\"/>\\n     </g>\\n     <g id=\"line2d_10\">\\n      <g>\\n       <use xlink:href=\"#md2d209edd6\" x=\"236.16\" y=\"174.528\" style=\"stroke: #000000; stroke-width: 0.8\"/>\\n      </g>\\n     </g>\\n     <g id=\"text_5\">\\n      <!-- 0.0 -->\\n      <g transform=\"translate(228.208438 189.126437) scale(0.1 -0.1)\">\\n       <use xlink:href=\"#DejaVuSans-30\"/>\\n       <use xlink:href=\"#DejaVuSans-2e\" x=\"63.623047\"/>\\n       <use xlink:href=\"#DejaVuSans-30\" x=\"95.410156\"/>\\n      </g>\\n     </g>\\n    </g>\\n    <g id=\"xtick_6\">\\n     <g id=\"line2d_11\">\\n      <path d=\"M 269.424 307.584 \\nL 269.424 41.472 \\n\" clip-path=\"url(#p1a881f4f81)\" style=\"fill: none; stroke: #bfbfbf; stroke-width: 0.75; stroke-linecap: square\"/>\\n     </g>\\n     <g id=\"line2d_12\">\\n      <g>\\n       <use xlink:href=\"#md2d209edd6\" x=\"269.424\" y=\"174.528\" style=\"stroke: #000000; stroke-width: 0.8\"/>\\n      </g>\\n     </g>\\n     <g id=\"text_6\">\\n      <!-- 2.5 -->\\n      <g transform=\"translate(261.472438 189.126437) scale(0.1 -0.1)\">\\n       <use xlink:href=\"#DejaVuSans-32\"/>\\n       <use xlink:href=\"#DejaVuSans-2e\" x=\"63.623047\"/>\\n       <use xlink:href=\"#DejaVuSans-35\" x=\"95.410156\"/>\\n      </g>\\n     </g>\\n    </g>\\n    <g id=\"xtick_7\">\\n     <g id=\"line2d_13\">\\n      <path d=\"M 302.688 307.584 \\nL 302.688 41.472 \\n\" clip-path=\"url(#p1a881f4f81)\" style=\"fill: none; stroke: #bfbfbf; stroke-width: 0.75; stroke-linecap: square\"/>\\n     </g>\\n     <g id=\"line2d_14\">\\n      <g>\\n       <use xlink:href=\"#md2d209edd6\" x=\"302.688\" y=\"174.528\" style=\"stroke: #000000; stroke-width: 0.8\"/>\\n      </g>\\n     </g>\\n     <g id=\"text_7\">\\n      <!-- 5.0 -->\\n      <g transform=\"translate(294.736437 189.126437) scale(0.1 -0.1)\">\\n       <use xlink:href=\"#DejaVuSans-35\"/>\\n       <use xlink:href=\"#DejaVuSans-2e\" x=\"63.623047\"/>\\n       <use xlink:href=\"#DejaVuSans-30\" x=\"95.410156\"/>\\n      </g>\\n     </g>\\n    </g>\\n    <g id=\"xtick_8\">\\n     <g id=\"line2d_15\">\\n      <path d=\"M 335.952 307.584 \\nL 335.952 41.472 \\n\" clip-path=\"url(#p1a881f4f81)\" style=\"fill: none; stroke: #bfbfbf; stroke-width: 0.75; stroke-linecap: square\"/>\\n     </g>\\n     <g id=\"line2d_16\">\\n      <g>\\n       <use xlink:href=\"#md2d209edd6\" x=\"335.952\" y=\"174.528\" style=\"stroke: #000000; stroke-width: 0.8\"/>\\n      </g>\\n     </g>\\n     <g id=\"text_8\">\\n      <!-- 7.5 -->\\n      <g transform=\"translate(328.000437 189.126437) scale(0.1 -0.1)\">\\n       <use xlink:href=\"#DejaVuSans-37\"/>\\n       <use xlink:href=\"#DejaVuSans-2e\" x=\"63.623047\"/>\\n       <use xlink:href=\"#DejaVuSans-35\" x=\"95.410156\"/>\\n      </g>\\n     </g>\\n    </g>\\n    <g id=\"xtick_9\">\\n     <g id=\"line2d_17\">\\n      <path d=\"M 369.216 307.584 \\nL 369.216 41.472 \\n\" clip-path=\"url(#p1a881f4f81)\" style=\"fill: none; stroke: #bfbfbf; stroke-width: 0.75; stroke-linecap: square\"/>\\n     </g>\\n     <g id=\"line2d_18\">\\n      <g>\\n       <use xlink:href=\"#md2d209edd6\" x=\"369.216\" y=\"174.528\" style=\"stroke: #000000; stroke-width: 0.8\"/>\\n      </g>\\n     </g>\\n     <g id=\"text_9\">\\n      <!-- 10.0 -->\\n      <g transform=\"translate(358.083188 189.126437) scale(0.1 -0.1)\">\\n       <use xlink:href=\"#DejaVuSans-31\"/>\\n       <use xlink:href=\"#DejaVuSans-30\" x=\"63.623047\"/>\\n       <use xlink:href=\"#DejaVuSans-2e\" x=\"127.246094\"/>\\n       <use xlink:href=\"#DejaVuSans-30\" x=\"159.033203\"/>\\n      </g>\\n     </g>\\n    </g>\\n    <g id=\"text_10\">\\n     <!-- $x$ -->\\n     <g transform=\"translate(233.16 202.804562) scale(0.1 -0.1)\">\\n      <defs>\\n       <path id=\"DejaVuSans-Oblique-78\" d=\"M 3841 3500 \\nL 2234 1784 \\nL 3219 0 \\nL 2559 0 \\nL 1819 1388 \\nL 531 0 \\nL -166 0 \\nL 1556 1844 \\nL 641 3500 \\nL 1300 3500 \\nL 1972 2234 \\nL 3144 3500 \\nL 3841 3500 \\nz\\n\" transform=\"scale(0.015625)\"/>\\n      </defs>\\n      <use xlink:href=\"#DejaVuSans-Oblique-78\" transform=\"translate(0 0.3125)\"/>\\n     </g>\\n    </g>\\n   </g>\\n   <g id=\"matplotlib.axis_2\">\\n    <g id=\"ytick_1\">\\n     <g id=\"line2d_19\">\\n      <path d=\"M 103.104 307.584 \\nL 369.216 307.584 \\n\" clip-path=\"url(#p1a881f4f81)\" style=\"fill: none; stroke: #bfbfbf; stroke-width: 0.75; stroke-linecap: square\"/>\\n     </g>\\n     <g id=\"line2d_20\">\\n      <defs>\\n       <path id=\"m0edf38b75e\" d=\"M 0 0 \\nL -3.5 0 \\n\" style=\"stroke: #000000; stroke-width: 0.8\"/>\\n      </defs>\\n      <g>\\n       <use xlink:href=\"#m0edf38b75e\" x=\"236.16\" y=\"307.584\" style=\"stroke: #000000; stroke-width: 0.8\"/>\\n      </g>\\n     </g>\\n     <g id=\"text_11\">\\n      <!-- −10.0 -->\\n      <g transform=\"translate(198.514688 311.383219) scale(0.1 -0.1)\">\\n       <use xlink:href=\"#DejaVuSans-2212\"/>\\n       <use xlink:href=\"#DejaVuSans-31\" x=\"83.789062\"/>\\n       <use xlink:href=\"#DejaVuSans-30\" x=\"147.412109\"/>\\n       <use xlink:href=\"#DejaVuSans-2e\" x=\"211.035156\"/>\\n       <use xlink:href=\"#DejaVuSans-30\" x=\"242.822266\"/>\\n      </g>\\n     </g>\\n    </g>\\n    <g id=\"ytick_2\">\\n     <g id=\"line2d_21\">\\n      <path d=\"M 103.104 274.32 \\nL 369.216 274.32 \\n\" clip-path=\"url(#p1a881f4f81)\" style=\"fill: none; stroke: #bfbfbf; stroke-width: 0.75; stroke-linecap: square\"/>\\n     </g>\\n     <g id=\"line2d_22\">\\n      <g>\\n       <use xlink:href=\"#m0edf38b75e\" x=\"236.16\" y=\"274.32\" style=\"stroke: #000000; stroke-width: 0.8\"/>\\n      </g>\\n     </g>\\n     <g id=\"text_12\">\\n      <!-- −7.5 -->\\n      <g transform=\"translate(204.877188 278.119219) scale(0.1 -0.1)\">\\n       <use xlink:href=\"#DejaVuSans-2212\"/>\\n       <use xlink:href=\"#DejaVuSans-37\" x=\"83.789062\"/>\\n       <use xlink:href=\"#DejaVuSans-2e\" x=\"147.412109\"/>\\n       <use xlink:href=\"#DejaVuSans-35\" x=\"179.199219\"/>\\n      </g>\\n     </g>\\n    </g>\\n    <g id=\"ytick_3\">\\n     <g id=\"line2d_23\">\\n      <path d=\"M 103.104 241.056 \\nL 369.216 241.056 \\n\" clip-path=\"url(#p1a881f4f81)\" style=\"fill: none; stroke: #bfbfbf; stroke-width: 0.75; stroke-linecap: square\"/>\\n     </g>\\n     <g id=\"line2d_24\">\\n      <g>\\n       <use xlink:href=\"#m0edf38b75e\" x=\"236.16\" y=\"241.056\" style=\"stroke: #000000; stroke-width: 0.8\"/>\\n      </g>\\n     </g>\\n     <g id=\"text_13\">\\n      <!-- −5.0 -->\\n      <g transform=\"translate(204.877188 244.855219) scale(0.1 -0.1)\">\\n       <use xlink:href=\"#DejaVuSans-2212\"/>\\n       <use xlink:href=\"#DejaVuSans-35\" x=\"83.789062\"/>\\n       <use xlink:href=\"#DejaVuSans-2e\" x=\"147.412109\"/>\\n       <use xlink:href=\"#DejaVuSans-30\" x=\"179.199219\"/>\\n      </g>\\n     </g>\\n    </g>\\n    <g id=\"ytick_4\">\\n     <g id=\"line2d_25\">\\n      <path d=\"M 103.104 207.792 \\nL 369.216 207.792 \\n\" clip-path=\"url(#p1a881f4f81)\" style=\"fill: none; stroke: #bfbfbf; stroke-width: 0.75; stroke-linecap: square\"/>\\n     </g>\\n     <g id=\"line2d_26\">\\n      <g>\\n       <use xlink:href=\"#m0edf38b75e\" x=\"236.16\" y=\"207.792\" style=\"stroke: #000000; stroke-width: 0.8\"/>\\n      </g>\\n     </g>\\n     <g id=\"text_14\">\\n      <!-- −2.5 -->\\n      <g transform=\"translate(204.877188 211.591219) scale(0.1 -0.1)\">\\n       <use xlink:href=\"#DejaVuSans-2212\"/>\\n       <use xlink:href=\"#DejaVuSans-32\" x=\"83.789062\"/>\\n       <use xlink:href=\"#DejaVuSans-2e\" x=\"147.412109\"/>\\n       <use xlink:href=\"#DejaVuSans-35\" x=\"179.199219\"/>\\n      </g>\\n     </g>\\n    </g>\\n    <g id=\"ytick_5\">\\n     <g id=\"line2d_27\">\\n      <path d=\"M 103.104 174.528 \\nL 369.216 174.528 \\n\" clip-path=\"url(#p1a881f4f81)\" style=\"fill: none; stroke: #bfbfbf; stroke-width: 0.75; stroke-linecap: square\"/>\\n     </g>\\n     <g id=\"line2d_28\">\\n      <g>\\n       <use xlink:href=\"#m0edf38b75e\" x=\"236.16\" y=\"174.528\" style=\"stroke: #000000; stroke-width: 0.8\"/>\\n      </g>\\n     </g>\\n     <g id=\"text_15\">\\n      <!-- 0.0 -->\\n      <g transform=\"translate(213.256875 178.327219) scale(0.1 -0.1)\">\\n       <use xlink:href=\"#DejaVuSans-30\"/>\\n       <use xlink:href=\"#DejaVuSans-2e\" x=\"63.623047\"/>\\n       <use xlink:href=\"#DejaVuSans-30\" x=\"95.410156\"/>\\n      </g>\\n     </g>\\n    </g>\\n    <g id=\"ytick_6\">\\n     <g id=\"line2d_29\">\\n      <path d=\"M 103.104 141.264 \\nL 369.216 141.264 \\n\" clip-path=\"url(#p1a881f4f81)\" style=\"fill: none; stroke: #bfbfbf; stroke-width: 0.75; stroke-linecap: square\"/>\\n     </g>\\n     <g id=\"line2d_30\">\\n      <g>\\n       <use xlink:href=\"#m0edf38b75e\" x=\"236.16\" y=\"141.264\" style=\"stroke: #000000; stroke-width: 0.8\"/>\\n      </g>\\n     </g>\\n     <g id=\"text_16\">\\n      <!-- 2.5 -->\\n      <g transform=\"translate(213.256875 145.063219) scale(0.1 -0.1)\">\\n       <use xlink:href=\"#DejaVuSans-32\"/>\\n       <use xlink:href=\"#DejaVuSans-2e\" x=\"63.623047\"/>\\n       <use xlink:href=\"#DejaVuSans-35\" x=\"95.410156\"/>\\n      </g>\\n     </g>\\n    </g>\\n    <g id=\"ytick_7\">\\n     <g id=\"line2d_31\">\\n      <path d=\"M 103.104 108 \\nL 369.216 108 \\n\" clip-path=\"url(#p1a881f4f81)\" style=\"fill: none; stroke: #bfbfbf; stroke-width: 0.75; stroke-linecap: square\"/>\\n     </g>\\n     <g id=\"line2d_32\">\\n      <g>\\n       <use xlink:href=\"#m0edf38b75e\" x=\"236.16\" y=\"108\" style=\"stroke: #000000; stroke-width: 0.8\"/>\\n      </g>\\n     </g>\\n     <g id=\"text_17\">\\n      <!-- 5.0 -->\\n      <g transform=\"translate(213.256875 111.799219) scale(0.1 -0.1)\">\\n       <use xlink:href=\"#DejaVuSans-35\"/>\\n       <use xlink:href=\"#DejaVuSans-2e\" x=\"63.623047\"/>\\n       <use xlink:href=\"#DejaVuSans-30\" x=\"95.410156\"/>\\n      </g>\\n     </g>\\n    </g>\\n    <g id=\"ytick_8\">\\n     <g id=\"line2d_33\">\\n      <path d=\"M 103.104 74.736 \\nL 369.216 74.736 \\n\" clip-path=\"url(#p1a881f4f81)\" style=\"fill: none; stroke: #bfbfbf; stroke-width: 0.75; stroke-linecap: square\"/>\\n     </g>\\n     <g id=\"line2d_34\">\\n      <g>\\n       <use xlink:href=\"#m0edf38b75e\" x=\"236.16\" y=\"74.736\" style=\"stroke: #000000; stroke-width: 0.8\"/>\\n      </g>\\n     </g>\\n     <g id=\"text_18\">\\n      <!-- 7.5 -->\\n      <g transform=\"translate(213.256875 78.535219) scale(0.1 -0.1)\">\\n       <use xlink:href=\"#DejaVuSans-37\"/>\\n       <use xlink:href=\"#DejaVuSans-2e\" x=\"63.623047\"/>\\n       <use xlink:href=\"#DejaVuSans-35\" x=\"95.410156\"/>\\n      </g>\\n     </g>\\n    </g>\\n    <g id=\"ytick_9\">\\n     <g id=\"line2d_35\">\\n      <path d=\"M 103.104 41.472 \\nL 369.216 41.472 \\n\" clip-path=\"url(#p1a881f4f81)\" style=\"fill: none; stroke: #bfbfbf; stroke-width: 0.75; stroke-linecap: square\"/>\\n     </g>\\n     <g id=\"line2d_36\">\\n      <g>\\n       <use xlink:href=\"#m0edf38b75e\" x=\"236.16\" y=\"41.472\" style=\"stroke: #000000; stroke-width: 0.8\"/>\\n      </g>\\n     </g>\\n     <g id=\"text_19\">\\n      <!-- 10.0 -->\\n      <g transform=\"translate(206.894375 45.271219) scale(0.1 -0.1)\">\\n       <use xlink:href=\"#DejaVuSans-31\"/>\\n       <use xlink:href=\"#DejaVuSans-30\" x=\"63.623047\"/>\\n       <use xlink:href=\"#DejaVuSans-2e\" x=\"127.246094\"/>\\n       <use xlink:href=\"#DejaVuSans-30\" x=\"159.033203\"/>\\n      </g>\\n     </g>\\n    </g>\\n    <g id=\"text_20\">\\n     <!-- $y$ -->\\n     <g transform=\"translate(192.414688 177.528) rotate(-90) scale(0.1 -0.1)\">\\n      <defs>\\n       <path id=\"DejaVuSans-Oblique-79\" d=\"M 1588 -325 \\nQ 1188 -997 936 -1164 \\nQ 684 -1331 294 -1331 \\nL -159 -1331 \\nL -63 -850 \\nL 269 -850 \\nQ 509 -850 678 -719 \\nQ 847 -588 1056 -206 \\nL 1234 128 \\nL 459 3500 \\nL 1069 3500 \\nL 1650 819 \\nL 3256 3500 \\nL 3859 3500 \\nL 1588 -325 \\nz\\n\" transform=\"scale(0.015625)\"/>\\n      </defs>\\n      <use xlink:href=\"#DejaVuSans-Oblique-79\" transform=\"translate(0 0.3125)\"/>\\n     </g>\\n    </g>\\n   </g>\\n   <g id=\"PathCollection_1\">\\n    <path d=\"M 199.872 186.722768 \\nL 197.184 186.003388 \\nL 194.496 185.103388 \\nL 191.61295 183.936 \\nL 189.12 182.723011 \\nL 186.432 181.230121 \\nL 182.477393 178.56 \\nL 181.056 177.481569 \\nL 178.368 175.208315 \\nL 175.68 172.6128 \\nL 172.992 169.64071 \\nL 170.304 166.2248 \\nL 167.616 162.270584 \\nL 164.670958 157.056 \\nL 162.198536 151.68 \\nL 160.240603 146.304 \\nL 159.411943 143.616 \\nL 158.096934 138.24 \\nL 157.142201 132.864 \\nL 156.563479 127.488 \\nL 156.34095 122.112 \\nL 156.460773 116.736 \\nL 156.926035 111.36 \\nL 157.772685 105.984 \\nL 158.979611 100.608 \\nL 159.727359 97.92 \\nL 161.571237 92.544 \\nL 162.658888 89.856 \\nL 165.231994 84.48 \\nL 167.616 80.357589 \\nL 170.304 76.368335 \\nL 172.992 72.969415 \\nL 175.68 70.0033 \\nL 178.368 67.405711 \\nL 181.056 65.124498 \\nL 183.964002 62.976 \\nL 186.432 61.395286 \\nL 189.12 59.881179 \\nL 191.808 58.595834 \\nL 194.496 57.496007 \\nL 197.184 56.610883 \\nL 199.872 55.899312 \\nL 202.56 55.361296 \\nL 206.442449 54.912 \\nL 207.936 54.810133 \\nL 210.624 54.793467 \\nL 213.312 54.944767 \\nL 216 55.274519 \\nL 218.688 55.777825 \\nL 221.376 56.454684 \\nL 224.838144 57.6 \\nL 226.752 58.36049 \\nL 230.714997 60.288 \\nL 232.128 61.073665 \\nL 235.129654 62.976 \\nL 238.693428 65.664 \\nL 241.739565 68.352 \\nL 244.388447 71.04 \\nL 246.725812 73.728 \\nL 248.814382 76.416 \\nL 250.944 79.501011 \\nL 253.867272 84.48 \\nL 256.44542 89.856 \\nL 258.502115 95.232 \\nL 259.366286 97.92 \\nL 260.768028 103.296 \\nL 261.80017 108.672 \\nL 262.439887 114.048 \\nL 262.733811 119.424 \\nL 262.681942 124.8 \\nL 262.28428 130.176 \\nL 261.532615 135.552 \\nL 260.385735 140.928 \\nL 258.867323 146.304 \\nL 256.887513 151.68 \\nL 255.719924 154.368 \\nL 253.632 158.558017 \\nL 251.371916 162.432 \\nL 249.576403 165.12 \\nL 247.592161 167.808 \\nL 245.375297 170.496 \\nL 242.86717 173.184 \\nL 239.987613 175.872 \\nL 236.624074 178.56 \\nL 234.816 179.842965 \\nL 232.128 181.544063 \\nL 229.44 182.999326 \\nL 226.752 184.256329 \\nL 224.064 185.297506 \\nL 221.376 186.162212 \\nL 218.688 186.841316 \\nL 216 187.332445 \\nL 213.312 187.654219 \\nL 210.624 187.806639 \\nL 207.936 187.789703 \\nL 205.248 187.603413 \\nL 202.56 187.247768 \\nL 199.872 186.722768 \\nL 199.872 186.722768 \\n\" clip-path=\"url(#p1a881f4f81)\" style=\"fill: none; stroke: #1f77b4; stroke-width: 1.5\"/>\\n   </g>\\n   <g id=\"PathCollection_2\">\\n    <path d=\"M 272.7504 41.472 \\nL 272.448 42.6816 \\nL 272.0784 44.16 \\nL 271.4064 46.848 \\nL 270.7344 49.536 \\nL 270.0624 52.224 \\nL 269.76 53.4336 \\nL 269.3904 54.912 \\nL 268.7184 57.6 \\nL 268.0464 60.288 \\nL 267.3744 62.976 \\nL 267.072 64.1856 \\nL 266.7024 65.664 \\nL 266.0304 68.352 \\nL 265.3584 71.04 \\nL 264.6864 73.728 \\nL 264.384 74.9376 \\nL 264.0144 76.416 \\nL 263.3424 79.104 \\nL 262.6704 81.792 \\nL 261.9984 84.48 \\nL 261.696 85.6896 \\nL 261.3264 87.168 \\nL 260.6544 89.856 \\nL 259.9824 92.544 \\nL 259.3104 95.232 \\nL 259.008 96.4416 \\nL 258.6384 97.92 \\nL 257.9664 100.608 \\nL 257.2944 103.296 \\nL 256.6224 105.984 \\nL 256.32 107.1936 \\nL 255.9504 108.672 \\nL 255.2784 111.36 \\nL 254.6064 114.048 \\nL 253.9344 116.736 \\nL 253.632 117.9456 \\nL 253.2624 119.424 \\nL 252.5904 122.112 \\nL 251.9184 124.8 \\nL 251.2464 127.488 \\nL 250.944 128.6976 \\nL 250.5744 130.176 \\nL 249.9024 132.864 \\nL 249.2304 135.552 \\nL 248.5584 138.24 \\nL 248.256 139.4496 \\nL 247.8864 140.928 \\nL 247.2144 143.616 \\nL 246.5424 146.304 \\nL 245.8704 148.992 \\nL 245.568 150.2016 \\nL 245.1984 151.68 \\nL 244.5264 154.368 \\nL 243.8544 157.056 \\nL 243.1824 159.744 \\nL 242.88 160.9536 \\nL 242.5104 162.432 \\nL 241.8384 165.12 \\nL 241.1664 167.808 \\nL 240.4944 170.496 \\nL 240.192 171.7056 \\nL 239.8224 173.184 \\nL 239.1504 175.872 \\nL 238.4784 178.56 \\nL 237.8064 181.248 \\nL 237.504 182.4576 \\nL 237.1344 183.936 \\nL 236.4624 186.624 \\nL 235.7904 189.312 \\nL 235.1184 192 \\nL 234.816 193.2096 \\nL 234.4464 194.688 \\nL 233.7744 197.376 \\nL 233.1024 200.064 \\nL 232.4304 202.752 \\nL 232.128 203.9616 \\nL 231.7584 205.44 \\nL 231.0864 208.128 \\nL 230.4144 210.816 \\nL 229.7424 213.504 \\nL 229.44 214.7136 \\nL 229.0704 216.192 \\nL 228.3984 218.88 \\nL 227.7264 221.568 \\nL 227.0544 224.256 \\nL 226.752 225.4656 \\nL 226.3824 226.944 \\nL 225.7104 229.632 \\nL 225.0384 232.32 \\nL 224.3664 235.008 \\nL 224.064 236.2176 \\nL 223.6944 237.696 \\nL 223.0224 240.384 \\nL 222.3504 243.072 \\nL 221.6784 245.76 \\nL 221.376 246.9696 \\nL 221.0064 248.448 \\nL 220.3344 251.136 \\nL 219.6624 253.824 \\nL 218.9904 256.512 \\nL 218.688 257.7216 \\nL 218.3184 259.2 \\nL 217.6464 261.888 \\nL 216.9744 264.576 \\nL 216.3024 267.264 \\nL 216 268.4736 \\nL 215.6304 269.952 \\nL 214.9584 272.64 \\nL 214.2864 275.328 \\nL 213.6144 278.016 \\nL 213.312 279.2256 \\nL 212.9424 280.704 \\nL 212.2704 283.392 \\nL 211.5984 286.08 \\nL 210.9264 288.768 \\nL 210.624 289.9776 \\nL 210.2544 291.456 \\nL 209.5824 294.144 \\nL 208.9104 296.832 \\nL 208.2384 299.52 \\nL 207.936 300.7296 \\nL 207.5664 302.208 \\nL 206.8944 304.896 \\nL 206.2224 307.584 \\n\" clip-path=\"url(#p1a881f4f81)\" style=\"fill: none; stroke: #ff7f0e; stroke-width: 1.5\"/>\\n   </g>\\n   <g id=\"line2d_37\">\\n    <defs>\\n     <path id=\"m3c0106453f\" d=\"M 0 3 \\nC 0.795609 3 1.55874 2.683901 2.12132 2.12132 \\nC 2.683901 1.55874 3 0.795609 3 0 \\nC 3 -0.795609 2.683901 -1.55874 2.12132 -2.12132 \\nC 1.55874 -2.683901 0.795609 -3 0 -3 \\nC -0.795609 -3 -1.55874 -2.683901 -2.12132 -2.12132 \\nC -2.683901 -1.55874 -3 -0.795609 -3 0 \\nC -3 0.795609 -2.683901 1.55874 -2.12132 2.12132 \\nC -1.55874 2.683901 -0.795609 3 0 3 \\nz\\n\" style=\"stroke: #2ca02c\"/>\\n    </defs>\\n    <g clip-path=\"url(#p1a881f4f81)\">\\n     <use xlink:href=\"#m3c0106453f\" x=\"238.922446\" y=\"176.783816\" style=\"fill: #2ca02c; stroke: #2ca02c\"/>\\n    </g>\\n   </g>\\n   <g id=\"line2d_38\">\\n    <defs>\\n     <path id=\"m1972d55954\" d=\"M 0 3 \\nC 0.795609 3 1.55874 2.683901 2.12132 2.12132 \\nC 2.683901 1.55874 3 0.795609 3 0 \\nC 3 -0.795609 2.683901 -1.55874 2.12132 -2.12132 \\nC 1.55874 -2.683901 0.795609 -3 0 -3 \\nC -0.795609 -3 -1.55874 -2.683901 -2.12132 -2.12132 \\nC -2.683901 -1.55874 -3 -0.795609 -3 0 \\nC -3 0.795609 -2.683901 1.55874 -2.12132 2.12132 \\nC -1.55874 2.683901 -0.795609 3 0 3 \\nz\\n\" style=\"stroke: #d62728\"/>\\n    </defs>\\n    <g clip-path=\"url(#p1a881f4f81)\">\\n     <use xlink:href=\"#m1972d55954\" x=\"258.967034\" y=\"96.605462\" style=\"fill: #d62728; stroke: #d62728\"/>\\n    </g>\\n   </g>\\n   <g id=\"patch_3\">\\n    <path d=\"M 236.16 307.584 \\nL 236.16 41.472 \\n\" style=\"fill: none; stroke: #000000; stroke-width: 0.8; stroke-linejoin: miter; stroke-linecap: square\"/>\\n   </g>\\n   <g id=\"patch_4\">\\n    <path d=\"M 103.104 174.528 \\nL 369.216 174.528 \\n\" style=\"fill: none; stroke: #000000; stroke-width: 0.8; stroke-linejoin: miter; stroke-linecap: square\"/>\\n   </g>\\n   <g id=\"legend_1\">\\n    <g id=\"patch_5\">\\n     <path d=\"M 110.104 302.584 \\nL 320.304 302.584 \\nQ 322.304 302.584 322.304 300.584 \\nL 322.304 241.329312 \\nQ 322.304 239.329312 320.304 239.329312 \\nL 110.104 239.329312 \\nQ 108.104 239.329312 108.104 241.329312 \\nL 108.104 300.584 \\nQ 108.104 302.584 110.104 302.584 \\nz\\n\" style=\"fill: #ffffff; opacity: 0.8; stroke: #cccccc; stroke-linejoin: miter\"/>\\n    </g>\\n    <g id=\"line2d_39\">\\n     <path d=\"M 112.104 248.929312 \\nL 122.104 248.929312 \\nL 132.104 248.929312 \\n\" style=\"fill: none; stroke: #1f77b4; stroke-width: 1.5; stroke-linecap: square\"/>\\n    </g>\\n    <g id=\"text_21\">\\n     <!-- $25 x^{2} + 100 x + 16 y^{2} - 128 y - 44 = 0$ -->\\n     <g transform=\"translate(140.104 252.429312) scale(0.1 -0.1)\">\\n      <defs>\\n       <path id=\"DejaVuSans-2b\" d=\"M 2944 4013 \\nL 2944 2272 \\nL 4684 2272 \\nL 4684 1741 \\nL 2944 1741 \\nL 2944 0 \\nL 2419 0 \\nL 2419 1741 \\nL 678 1741 \\nL 678 2272 \\nL 2419 2272 \\nL 2419 4013 \\nL 2944 4013 \\nz\\n\" transform=\"scale(0.015625)\"/>\\n       <path id=\"DejaVuSans-36\" d=\"M 2113 2584 \\nQ 1688 2584 1439 2293 \\nQ 1191 2003 1191 1497 \\nQ 1191 994 1439 701 \\nQ 1688 409 2113 409 \\nQ 2538 409 2786 701 \\nQ 3034 994 3034 1497 \\nQ 3034 2003 2786 2293 \\nQ 2538 2584 2113 2584 \\nz\\nM 3366 4563 \\nL 3366 3988 \\nQ 3128 4100 2886 4159 \\nQ 2644 4219 2406 4219 \\nQ 1781 4219 1451 3797 \\nQ 1122 3375 1075 2522 \\nQ 1259 2794 1537 2939 \\nQ 1816 3084 2150 3084 \\nQ 2853 3084 3261 2657 \\nQ 3669 2231 3669 1497 \\nQ 3669 778 3244 343 \\nQ 2819 -91 2113 -91 \\nQ 1303 -91 875 529 \\nQ 447 1150 447 2328 \\nQ 447 3434 972 4092 \\nQ 1497 4750 2381 4750 \\nQ 2619 4750 2861 4703 \\nQ 3103 4656 3366 4563 \\nz\\n\" transform=\"scale(0.015625)\"/>\\n       <path id=\"DejaVuSans-38\" d=\"M 2034 2216 \\nQ 1584 2216 1326 1975 \\nQ 1069 1734 1069 1313 \\nQ 1069 891 1326 650 \\nQ 1584 409 2034 409 \\nQ 2484 409 2743 651 \\nQ 3003 894 3003 1313 \\nQ 3003 1734 2745 1975 \\nQ 2488 2216 2034 2216 \\nz\\nM 1403 2484 \\nQ 997 2584 770 2862 \\nQ 544 3141 544 3541 \\nQ 544 4100 942 4425 \\nQ 1341 4750 2034 4750 \\nQ 2731 4750 3128 4425 \\nQ 3525 4100 3525 3541 \\nQ 3525 3141 3298 2862 \\nQ 3072 2584 2669 2484 \\nQ 3125 2378 3379 2068 \\nQ 3634 1759 3634 1313 \\nQ 3634 634 3220 271 \\nQ 2806 -91 2034 -91 \\nQ 1263 -91 848 271 \\nQ 434 634 434 1313 \\nQ 434 1759 690 2068 \\nQ 947 2378 1403 2484 \\nz\\nM 1172 3481 \\nQ 1172 3119 1398 2916 \\nQ 1625 2713 2034 2713 \\nQ 2441 2713 2670 2916 \\nQ 2900 3119 2900 3481 \\nQ 2900 3844 2670 4047 \\nQ 2441 4250 2034 4250 \\nQ 1625 4250 1398 4047 \\nQ 1172 3844 1172 3481 \\nz\\n\" transform=\"scale(0.015625)\"/>\\n       <path id=\"DejaVuSans-34\" d=\"M 2419 4116 \\nL 825 1625 \\nL 2419 1625 \\nL 2419 4116 \\nz\\nM 2253 4666 \\nL 3047 4666 \\nL 3047 1625 \\nL 3713 1625 \\nL 3713 1100 \\nL 3047 1100 \\nL 3047 0 \\nL 2419 0 \\nL 2419 1100 \\nL 313 1100 \\nL 313 1709 \\nL 2253 4666 \\nz\\n\" transform=\"scale(0.015625)\"/>\\n       <path id=\"DejaVuSans-3d\" d=\"M 678 2906 \\nL 4684 2906 \\nL 4684 2381 \\nL 678 2381 \\nL 678 2906 \\nz\\nM 678 1631 \\nL 4684 1631 \\nL 4684 1100 \\nL 678 1100 \\nL 678 1631 \\nz\\n\" transform=\"scale(0.015625)\"/>\\n      </defs>\\n      <use xlink:href=\"#DejaVuSans-32\" transform=\"translate(0 0.765625)\"/>\\n      <use xlink:href=\"#DejaVuSans-35\" transform=\"translate(63.623047 0.765625)\"/>\\n      <use xlink:href=\"#DejaVuSans-Oblique-78\" transform=\"translate(127.246094 0.765625)\"/>\\n      <use xlink:href=\"#DejaVuSans-32\" transform=\"translate(190.891927 39.046875) scale(0.7)\"/>\\n      <use xlink:href=\"#DejaVuSans-2b\" transform=\"translate(257.644857 0.765625)\"/>\\n      <use xlink:href=\"#DejaVuSans-31\" transform=\"translate(360.916341 0.765625)\"/>\\n      <use xlink:href=\"#DejaVuSans-30\" transform=\"translate(424.539388 0.765625)\"/>\\n      <use xlink:href=\"#DejaVuSans-30\" transform=\"translate(488.162435 0.765625)\"/>\\n      <use xlink:href=\"#DejaVuSans-Oblique-78\" transform=\"translate(551.785482 0.765625)\"/>\\n      <use xlink:href=\"#DejaVuSans-2b\" transform=\"translate(630.447591 0.765625)\"/>\\n      <use xlink:href=\"#DejaVuSans-31\" transform=\"translate(733.719076 0.765625)\"/>\\n      <use xlink:href=\"#DejaVuSans-36\" transform=\"translate(797.342122 0.765625)\"/>\\n      <use xlink:href=\"#DejaVuSans-Oblique-79\" transform=\"translate(860.965169 0.765625)\"/>\\n      <use xlink:href=\"#DejaVuSans-32\" transform=\"translate(924.611003 39.046875) scale(0.7)\"/>\\n      <use xlink:href=\"#DejaVuSans-2212\" transform=\"translate(991.363932 0.765625)\"/>\\n      <use xlink:href=\"#DejaVuSans-31\" transform=\"translate(1094.635417 0.765625)\"/>\\n      <use xlink:href=\"#DejaVuSans-32\" transform=\"translate(1158.258464 0.765625)\"/>\\n      <use xlink:href=\"#DejaVuSans-38\" transform=\"translate(1221.88151 0.765625)\"/>\\n      <use xlink:href=\"#DejaVuSans-Oblique-79\" transform=\"translate(1285.504557 0.765625)\"/>\\n      <use xlink:href=\"#DejaVuSans-2212\" transform=\"translate(1364.166667 0.765625)\"/>\\n      <use xlink:href=\"#DejaVuSans-34\" transform=\"translate(1467.438151 0.765625)\"/>\\n      <use xlink:href=\"#DejaVuSans-34\" transform=\"translate(1531.061198 0.765625)\"/>\\n      <use xlink:href=\"#DejaVuSans-3d\" transform=\"translate(1614.166667 0.765625)\"/>\\n      <use xlink:href=\"#DejaVuSans-30\" transform=\"translate(1717.438151 0.765625)\"/>\\n     </g>\\n    </g>\\n    <g id=\"line2d_40\">\\n     <path d=\"M 112.104 263.62775 \\nL 122.104 263.62775 \\nL 132.104 263.62775 \\n\" style=\"fill: none; stroke: #ff7f0e; stroke-width: 1.5; stroke-linecap: square\"/>\\n    </g>\\n    <g id=\"text_22\">\\n     <!-- $4 x - y - 1 = 0$ -->\\n     <g transform=\"translate(140.104 267.12775) scale(0.1 -0.1)\">\\n      <use xlink:href=\"#DejaVuSans-34\" transform=\"translate(0 0.78125)\"/>\\n      <use xlink:href=\"#DejaVuSans-Oblique-78\" transform=\"translate(63.623047 0.78125)\"/>\\n      <use xlink:href=\"#DejaVuSans-2212\" transform=\"translate(142.285156 0.78125)\"/>\\n      <use xlink:href=\"#DejaVuSans-Oblique-79\" transform=\"translate(245.556641 0.78125)\"/>\\n      <use xlink:href=\"#DejaVuSans-2212\" transform=\"translate(324.21875 0.78125)\"/>\\n      <use xlink:href=\"#DejaVuSans-31\" transform=\"translate(427.490234 0.78125)\"/>\\n      <use xlink:href=\"#DejaVuSans-3d\" transform=\"translate(510.595703 0.78125)\"/>\\n      <use xlink:href=\"#DejaVuSans-30\" transform=\"translate(613.867188 0.78125)\"/>\\n     </g>\\n    </g>\\n    <g id=\"line2d_41\">\\n     <g>\\n      <use xlink:href=\"#m3c0106453f\" x=\"122.104\" y=\"278.326187\" style=\"fill: #2ca02c; stroke: #2ca02c\"/>\\n     </g>\\n    </g>\\n    <g id=\"text_23\">\\n     <!-- A -->\\n     <g transform=\"translate(140.104 281.826187) scale(0.1 -0.1)\">\\n      <defs>\\n       <path id=\"DejaVuSans-41\" d=\"M 2188 4044 \\nL 1331 1722 \\nL 3047 1722 \\nL 2188 4044 \\nz\\nM 1831 4666 \\nL 2547 4666 \\nL 4325 0 \\nL 3669 0 \\nL 3244 1197 \\nL 1141 1197 \\nL 716 0 \\nL 50 0 \\nL 1831 4666 \\nz\\n\" transform=\"scale(0.015625)\"/>\\n      </defs>\\n      <use xlink:href=\"#DejaVuSans-41\"/>\\n     </g>\\n    </g>\\n    <g id=\"line2d_42\">\\n     <g>\\n      <use xlink:href=\"#m1972d55954\" x=\"122.104\" y=\"293.004312\" style=\"fill: #d62728; stroke: #d62728\"/>\\n     </g>\\n    </g>\\n    <g id=\"text_24\">\\n     <!-- B -->\\n     <g transform=\"translate(140.104 296.504312) scale(0.1 -0.1)\">\\n      <defs>\\n       <path id=\"DejaVuSans-42\" d=\"M 1259 2228 \\nL 1259 519 \\nL 2272 519 \\nQ 2781 519 3026 730 \\nQ 3272 941 3272 1375 \\nQ 3272 1813 3026 2020 \\nQ 2781 2228 2272 2228 \\nL 1259 2228 \\nz\\nM 1259 4147 \\nL 1259 2741 \\nL 2194 2741 \\nQ 2656 2741 2882 2914 \\nQ 3109 3088 3109 3444 \\nQ 3109 3797 2882 3972 \\nQ 2656 4147 2194 4147 \\nL 1259 4147 \\nz\\nM 628 4666 \\nL 2241 4666 \\nQ 2963 4666 3353 4366 \\nQ 3744 4066 3744 3513 \\nQ 3744 3084 3544 2831 \\nQ 3344 2578 2956 2516 \\nQ 3422 2416 3680 2098 \\nQ 3938 1781 3938 1306 \\nQ 3938 681 3513 340 \\nQ 3088 0 2303 0 \\nL 628 0 \\nL 628 4666 \\nz\\n\" transform=\"scale(0.015625)\"/>\\n      </defs>\\n      <use xlink:href=\"#DejaVuSans-42\"/>\\n     </g>\\n    </g>\\n   </g>\\n  </g>\\n </g>\\n <defs>\\n  <clipPath id=\"p1a881f4f81\">\\n   <rect x=\"103.104\" y=\"41.472\" width=\"266.112\" height=\"266.112\"/>\\n  </clipPath>\\n </defs>\\n</svg>\\n'}, 'answer': [{x: 270/281 - 80*sqrt(7)/281, y: 799/281 - 320*sqrt(7)/281}, {x: 80*sqrt(7)/281 + 270/281, y: 799/281 + 320*sqrt(7)/281}]}\n"
     ]
    },
    {
     "data": {
      "image/png": "[encoded data removed]",
      "text/plain": [
       "<Figure size 640x480 with 1 Axes>"
      ]
     },
     "metadata": {},
     "output_type": "display_data"
    }
   ],
   "source": [
    "def GenerateFindEllipseAndLineCrossPointsTask():\n",
    "    result = []\n",
    "    while len(result) != 2:\n",
    "        a, c = randint(*choice([(2,4),(-4,-2)])), randint(*choice([(2,4),(-4,-2)]))\n",
    "        if a == c:\n",
    "            c+=1\n",
    "\n",
    "        b, d = randint(*choice([(2,5),(-5,-2)])), randint(*choice([(2,5),(-5,-2)]))\n",
    "        if b == d:\n",
    "            d+=1\n",
    "            \n",
    "        A = d**2\n",
    "        B = -2 * a * (d**2)\n",
    "        C = b**2\n",
    "        D = -2 * c * (b**2)\n",
    "        Q = d**2 * a**2 + c**2 * b**2 - b**2 * d**2\n",
    "        \n",
    "        x, y = sp.symbols(\"x y\", real=True)\n",
    "    \n",
    "        circle = sp.Eq(A*x**2 + C*y**2 + B*x + D*y + Q, 0)\n",
    "\n",
    "        lx0, lx1, ly1 = randint(-5, 5), randint(-5, 5), 1\n",
    "        \n",
    "        line = sp.Eq(lx1*x - ly1*y - lx0, 0)\n",
    "\n",
    "        result = sp.solve([circle, line], [x, y], dict=True)\n",
    "\n",
    "    #print('координаты точки пересчения А: ', result[0][x], result[0][y])\n",
    "    #print('координаты точки пересчения B: ', result[1][x], result[1][y])\n",
    "\n",
    "    ranges = (x, -10, 10), (y, -10, 10)\n",
    "    \n",
    "    plot_base = spb.graphics(\n",
    "        spb.implicit_2d(circle, *ranges),\n",
    "        spb.implicit_2d(line, *ranges),\n",
    "        rendering_kw={\"marker\": \"ro\", \"markerfacecolor\": None},\n",
    "        backend=spb.MB,\n",
    "        axis_center=(0.0, 0.0),\n",
    "        #legend=False,\n",
    "        show=False,\n",
    "        aspect = \"equal\",\n",
    "    )\n",
    "    plot_anotation = spb.plot_list(\n",
    "        ([result[0][x]], [result[0][y]], \"A\"),\n",
    "        (result[1][x], result[1][y], \"B\"),\n",
    "        rendering_kw={\"marker\": \"o\", \"markerfacecolor\": None},\n",
    "        scatter=True, show=False\n",
    "    )\n",
    "    \n",
    "    plot = plot_base + plot_anotation\n",
    "    #plot.show()\n",
    "\n",
    "    buffer = io.StringIO()\n",
    "    plot.save(buffer, format = \"svg\")\n",
    "\n",
    "    task = f\"\"\n",
    "    answer = result\n",
    "\n",
    "    dic = {\n",
    "    \"task\": task,\n",
    "    \"data\": {'img': buffer.getvalue()}, \n",
    "    \"answer\": answer}\n",
    "    return dic\n",
    "\n",
    "print(GenerateFindEllipseAndLineCrossPointsTask())"
   ]
  },
  {
   "cell_type": "code",
   "execution_count": 3,
   "metadata": {},
   "outputs": [
    {
     "name": "stdout",
     "output_type": "stream",
     "text": [
      "{'task': '', 'data': {'img': '<?xml version=\"1.0\" encoding=\"utf-8\" standalone=\"no\"?>\\n<!DOCTYPE svg PUBLIC \"-//W3C//DTD SVG 1.1//EN\"\\n  \"http://www.w3.org/Graphics/SVG/1.1/DTD/svg11.dtd\">\\n<svg xmlns:xlink=\"http://www.w3.org/1999/xlink\" width=\"460.8pt\" height=\"345.6pt\" viewBox=\"0 0 460.8 345.6\" xmlns=\"http://www.w3.org/2000/svg\" version=\"1.1\">\\n <metadata>\\n  <rdf:RDF xmlns:dc=\"http://purl.org/dc/elements/1.1/\" xmlns:cc=\"http://creativecommons.org/ns#\" xmlns:rdf=\"http://www.w3.org/1999/02/22-rdf-syntax-ns#\">\\n   <cc:Work>\\n    <dc:type rdf:resource=\"http://purl.org/dc/dcmitype/StillImage\"/>\\n    <dc:date>2024-06-11T13:15:28.185364</dc:date>\\n    <dc:format>image/svg+xml</dc:format>\\n    <dc:creator>\\n     <cc:Agent>\\n      <dc:title>Matplotlib v3.6.0, https://matplotlib.org/</dc:title>\\n     </cc:Agent>\\n    </dc:creator>\\n   </cc:Work>\\n  </rdf:RDF>\\n </metadata>\\n <defs>\\n  <style type=\"text/css\">*{stroke-linejoin: round; stroke-linecap: butt}</style>\\n </defs>\\n <g id=\"figure_1\">\\n  <g id=\"patch_1\">\\n   <path d=\"M 0 345.6 \\nL 460.8 345.6 \\nL 460.8 0 \\nL 0 0 \\nz\\n\" style=\"fill: #ffffff\"/>\\n  </g>\\n  <g id=\"axes_1\">\\n   <g id=\"patch_2\">\\n    <path d=\"M 103.104 307.584 \\nL 369.216 307.584 \\nL 369.216 41.472 \\nL 103.104 41.472 \\nz\\n\" style=\"fill: #ffffff\"/>\\n   </g>\\n   <g id=\"matplotlib.axis_1\">\\n    <g id=\"xtick_1\">\\n     <g id=\"line2d_1\">\\n      <path d=\"M 103.104 307.584 \\nL 103.104 41.472 \\n\" clip-path=\"url(#pfc4e76b6d5)\" style=\"fill: none; stroke: #bfbfbf; stroke-width: 0.75; stroke-linecap: square\"/>\\n     </g>\\n     <g id=\"line2d_2\">\\n      <defs>\\n       <path id=\"mb6034aff60\" d=\"M 0 0 \\nL 0 3.5 \\n\" style=\"stroke: #000000; stroke-width: 0.8\"/>\\n      </defs>\\n      <g>\\n       <use xlink:href=\"#mb6034aff60\" x=\"103.104\" y=\"174.528\" style=\"stroke: #000000; stroke-width: 0.8\"/>\\n      </g>\\n     </g>\\n     <g id=\"text_1\">\\n      <!-- −20 -->\\n      <g transform=\"translate(92.551656 189.126437) scale(0.1 -0.1)\">\\n       <defs>\\n        <path id=\"DejaVuSans-2212\" d=\"M 678 2272 \\nL 4684 2272 \\nL 4684 1741 \\nL 678 1741 \\nL 678 2272 \\nz\\n\" transform=\"scale(0.015625)\"/>\\n        <path id=\"DejaVuSans-32\" d=\"M 1228 531 \\nL 3431 531 \\nL 3431 0 \\nL 469 0 \\nL 469 531 \\nQ 828 903 1448 1529 \\nQ 2069 2156 2228 2338 \\nQ 2531 2678 2651 2914 \\nQ 2772 3150 2772 3378 \\nQ 2772 3750 2511 3984 \\nQ 2250 4219 1831 4219 \\nQ 1534 4219 1204 4116 \\nQ 875 4013 500 3803 \\nL 500 4441 \\nQ 881 4594 1212 4672 \\nQ 1544 4750 1819 4750 \\nQ 2544 4750 2975 4387 \\nQ 3406 4025 3406 3419 \\nQ 3406 3131 3298 2873 \\nQ 3191 2616 2906 2266 \\nQ 2828 2175 2409 1742 \\nQ 1991 1309 1228 531 \\nz\\n\" transform=\"scale(0.015625)\"/>\\n        <path id=\"DejaVuSans-30\" d=\"M 2034 4250 \\nQ 1547 4250 1301 3770 \\nQ 1056 3291 1056 2328 \\nQ 1056 1369 1301 889 \\nQ 1547 409 2034 409 \\nQ 2525 409 2770 889 \\nQ 3016 1369 3016 2328 \\nQ 3016 3291 2770 3770 \\nQ 2525 4250 2034 4250 \\nz\\nM 2034 4750 \\nQ 2819 4750 3233 4129 \\nQ 3647 3509 3647 2328 \\nQ 3647 1150 3233 529 \\nQ 2819 -91 2034 -91 \\nQ 1250 -91 836 529 \\nQ 422 1150 422 2328 \\nQ 422 3509 836 4129 \\nQ 1250 4750 2034 4750 \\nz\\n\" transform=\"scale(0.015625)\"/>\\n       </defs>\\n       <use xlink:href=\"#DejaVuSans-2212\"/>\\n       <use xlink:href=\"#DejaVuSans-32\" x=\"83.789062\"/>\\n       <use xlink:href=\"#DejaVuSans-30\" x=\"147.412109\"/>\\n      </g>\\n     </g>\\n    </g>\\n    <g id=\"xtick_2\">\\n     <g id=\"line2d_3\">\\n      <path d=\"M 136.368 307.584 \\nL 136.368 41.472 \\n\" clip-path=\"url(#pfc4e76b6d5)\" style=\"fill: none; stroke: #bfbfbf; stroke-width: 0.75; stroke-linecap: square\"/>\\n     </g>\\n     <g id=\"line2d_4\">\\n      <g>\\n       <use xlink:href=\"#mb6034aff60\" x=\"136.368\" y=\"174.528\" style=\"stroke: #000000; stroke-width: 0.8\"/>\\n      </g>\\n     </g>\\n     <g id=\"text_2\">\\n      <!-- −15 -->\\n      <g transform=\"translate(125.815656 189.126437) scale(0.1 -0.1)\">\\n       <defs>\\n        <path id=\"DejaVuSans-31\" d=\"M 794 531 \\nL 1825 531 \\nL 1825 4091 \\nL 703 3866 \\nL 703 4441 \\nL 1819 4666 \\nL 2450 4666 \\nL 2450 531 \\nL 3481 531 \\nL 3481 0 \\nL 794 0 \\nL 794 531 \\nz\\n\" transform=\"scale(0.015625)\"/>\\n        <path id=\"DejaVuSans-35\" d=\"M 691 4666 \\nL 3169 4666 \\nL 3169 4134 \\nL 1269 4134 \\nL 1269 2991 \\nQ 1406 3038 1543 3061 \\nQ 1681 3084 1819 3084 \\nQ 2600 3084 3056 2656 \\nQ 3513 2228 3513 1497 \\nQ 3513 744 3044 326 \\nQ 2575 -91 1722 -91 \\nQ 1428 -91 1123 -41 \\nQ 819 9 494 109 \\nL 494 744 \\nQ 775 591 1075 516 \\nQ 1375 441 1709 441 \\nQ 2250 441 2565 725 \\nQ 2881 1009 2881 1497 \\nQ 2881 1984 2565 2268 \\nQ 2250 2553 1709 2553 \\nQ 1456 2553 1204 2497 \\nQ 953 2441 691 2322 \\nL 691 4666 \\nz\\n\" transform=\"scale(0.015625)\"/>\\n       </defs>\\n       <use xlink:href=\"#DejaVuSans-2212\"/>\\n       <use xlink:href=\"#DejaVuSans-31\" x=\"83.789062\"/>\\n       <use xlink:href=\"#DejaVuSans-35\" x=\"147.412109\"/>\\n      </g>\\n     </g>\\n    </g>\\n    <g id=\"xtick_3\">\\n     <g id=\"line2d_5\">\\n      <path d=\"M 169.632 307.584 \\nL 169.632 41.472 \\n\" clip-path=\"url(#pfc4e76b6d5)\" style=\"fill: none; stroke: #bfbfbf; stroke-width: 0.75; stroke-linecap: square\"/>\\n     </g>\\n     <g id=\"line2d_6\">\\n      <g>\\n       <use xlink:href=\"#mb6034aff60\" x=\"169.632\" y=\"174.528\" style=\"stroke: #000000; stroke-width: 0.8\"/>\\n      </g>\\n     </g>\\n     <g id=\"text_3\">\\n      <!-- −10 -->\\n      <g transform=\"translate(159.079656 189.126437) scale(0.1 -0.1)\">\\n       <use xlink:href=\"#DejaVuSans-2212\"/>\\n       <use xlink:href=\"#DejaVuSans-31\" x=\"83.789062\"/>\\n       <use xlink:href=\"#DejaVuSans-30\" x=\"147.412109\"/>\\n      </g>\\n     </g>\\n    </g>\\n    <g id=\"xtick_4\">\\n     <g id=\"line2d_7\">\\n      <path d=\"M 202.896 307.584 \\nL 202.896 41.472 \\n\" clip-path=\"url(#pfc4e76b6d5)\" style=\"fill: none; stroke: #bfbfbf; stroke-width: 0.75; stroke-linecap: square\"/>\\n     </g>\\n     <g id=\"line2d_8\">\\n      <g>\\n       <use xlink:href=\"#mb6034aff60\" x=\"202.896\" y=\"174.528\" style=\"stroke: #000000; stroke-width: 0.8\"/>\\n      </g>\\n     </g>\\n     <g id=\"text_4\">\\n      <!-- −5 -->\\n      <g transform=\"translate(195.524906 189.126437) scale(0.1 -0.1)\">\\n       <use xlink:href=\"#DejaVuSans-2212\"/>\\n       <use xlink:href=\"#DejaVuSans-35\" x=\"83.789062\"/>\\n      </g>\\n     </g>\\n    </g>\\n    <g id=\"xtick_5\">\\n     <g id=\"line2d_9\">\\n      <path d=\"M 236.16 307.584 \\nL 236.16 41.472 \\n\" clip-path=\"url(#pfc4e76b6d5)\" style=\"fill: none; stroke: #bfbfbf; stroke-width: 0.75; stroke-linecap: square\"/>\\n     </g>\\n     <g id=\"line2d_10\">\\n      <g>\\n       <use xlink:href=\"#mb6034aff60\" x=\"236.16\" y=\"174.528\" style=\"stroke: #000000; stroke-width: 0.8\"/>\\n      </g>\\n     </g>\\n     <g id=\"text_5\">\\n      <!-- 0 -->\\n      <g transform=\"translate(232.97875 189.126437) scale(0.1 -0.1)\">\\n       <use xlink:href=\"#DejaVuSans-30\"/>\\n      </g>\\n     </g>\\n    </g>\\n    <g id=\"xtick_6\">\\n     <g id=\"line2d_11\">\\n      <path d=\"M 269.424 307.584 \\nL 269.424 41.472 \\n\" clip-path=\"url(#pfc4e76b6d5)\" style=\"fill: none; stroke: #bfbfbf; stroke-width: 0.75; stroke-linecap: square\"/>\\n     </g>\\n     <g id=\"line2d_12\">\\n      <g>\\n       <use xlink:href=\"#mb6034aff60\" x=\"269.424\" y=\"174.528\" style=\"stroke: #000000; stroke-width: 0.8\"/>\\n      </g>\\n     </g>\\n     <g id=\"text_6\">\\n      <!-- 5 -->\\n      <g transform=\"translate(266.24275 189.126437) scale(0.1 -0.1)\">\\n       <use xlink:href=\"#DejaVuSans-35\"/>\\n      </g>\\n     </g>\\n    </g>\\n    <g id=\"xtick_7\">\\n     <g id=\"line2d_13\">\\n      <path d=\"M 302.688 307.584 \\nL 302.688 41.472 \\n\" clip-path=\"url(#pfc4e76b6d5)\" style=\"fill: none; stroke: #bfbfbf; stroke-width: 0.75; stroke-linecap: square\"/>\\n     </g>\\n     <g id=\"line2d_14\">\\n      <g>\\n       <use xlink:href=\"#mb6034aff60\" x=\"302.688\" y=\"174.528\" style=\"stroke: #000000; stroke-width: 0.8\"/>\\n      </g>\\n     </g>\\n     <g id=\"text_7\">\\n      <!-- 10 -->\\n      <g transform=\"translate(296.3255 189.126437) scale(0.1 -0.1)\">\\n       <use xlink:href=\"#DejaVuSans-31\"/>\\n       <use xlink:href=\"#DejaVuSans-30\" x=\"63.623047\"/>\\n      </g>\\n     </g>\\n    </g>\\n    <g id=\"xtick_8\">\\n     <g id=\"line2d_15\">\\n      <path d=\"M 335.952 307.584 \\nL 335.952 41.472 \\n\" clip-path=\"url(#pfc4e76b6d5)\" style=\"fill: none; stroke: #bfbfbf; stroke-width: 0.75; stroke-linecap: square\"/>\\n     </g>\\n     <g id=\"line2d_16\">\\n      <g>\\n       <use xlink:href=\"#mb6034aff60\" x=\"335.952\" y=\"174.528\" style=\"stroke: #000000; stroke-width: 0.8\"/>\\n      </g>\\n     </g>\\n     <g id=\"text_8\">\\n      <!-- 15 -->\\n      <g transform=\"translate(329.5895 189.126437) scale(0.1 -0.1)\">\\n       <use xlink:href=\"#DejaVuSans-31\"/>\\n       <use xlink:href=\"#DejaVuSans-35\" x=\"63.623047\"/>\\n      </g>\\n     </g>\\n    </g>\\n    <g id=\"xtick_9\">\\n     <g id=\"line2d_17\">\\n      <path d=\"M 369.216 307.584 \\nL 369.216 41.472 \\n\" clip-path=\"url(#pfc4e76b6d5)\" style=\"fill: none; stroke: #bfbfbf; stroke-width: 0.75; stroke-linecap: square\"/>\\n     </g>\\n     <g id=\"line2d_18\">\\n      <g>\\n       <use xlink:href=\"#mb6034aff60\" x=\"369.216\" y=\"174.528\" style=\"stroke: #000000; stroke-width: 0.8\"/>\\n      </g>\\n     </g>\\n     <g id=\"text_9\">\\n      <!-- 20 -->\\n      <g transform=\"translate(362.8535 189.126437) scale(0.1 -0.1)\">\\n       <use xlink:href=\"#DejaVuSans-32\"/>\\n       <use xlink:href=\"#DejaVuSans-30\" x=\"63.623047\"/>\\n      </g>\\n     </g>\\n    </g>\\n    <g id=\"text_10\">\\n     <!-- $x$ -->\\n     <g transform=\"translate(233.16 202.804562) scale(0.1 -0.1)\">\\n      <defs>\\n       <path id=\"DejaVuSans-Oblique-78\" d=\"M 3841 3500 \\nL 2234 1784 \\nL 3219 0 \\nL 2559 0 \\nL 1819 1388 \\nL 531 0 \\nL -166 0 \\nL 1556 1844 \\nL 641 3500 \\nL 1300 3500 \\nL 1972 2234 \\nL 3144 3500 \\nL 3841 3500 \\nz\\n\" transform=\"scale(0.015625)\"/>\\n      </defs>\\n      <use xlink:href=\"#DejaVuSans-Oblique-78\" transform=\"translate(0 0.3125)\"/>\\n     </g>\\n    </g>\\n   </g>\\n   <g id=\"matplotlib.axis_2\">\\n    <g id=\"ytick_1\">\\n     <g id=\"line2d_19\">\\n      <path d=\"M 103.104 307.584 \\nL 369.216 307.584 \\n\" clip-path=\"url(#pfc4e76b6d5)\" style=\"fill: none; stroke: #bfbfbf; stroke-width: 0.75; stroke-linecap: square\"/>\\n     </g>\\n     <g id=\"line2d_20\">\\n      <defs>\\n       <path id=\"m013b326735\" d=\"M 0 0 \\nL -3.5 0 \\n\" style=\"stroke: #000000; stroke-width: 0.8\"/>\\n      </defs>\\n      <g>\\n       <use xlink:href=\"#m013b326735\" x=\"236.16\" y=\"307.584\" style=\"stroke: #000000; stroke-width: 0.8\"/>\\n      </g>\\n     </g>\\n     <g id=\"text_11\">\\n      <!-- −20 -->\\n      <g transform=\"translate(208.055313 311.383219) scale(0.1 -0.1)\">\\n       <use xlink:href=\"#DejaVuSans-2212\"/>\\n       <use xlink:href=\"#DejaVuSans-32\" x=\"83.789062\"/>\\n       <use xlink:href=\"#DejaVuSans-30\" x=\"147.412109\"/>\\n      </g>\\n     </g>\\n    </g>\\n    <g id=\"ytick_2\">\\n     <g id=\"line2d_21\">\\n      <path d=\"M 103.104 274.32 \\nL 369.216 274.32 \\n\" clip-path=\"url(#pfc4e76b6d5)\" style=\"fill: none; stroke: #bfbfbf; stroke-width: 0.75; stroke-linecap: square\"/>\\n     </g>\\n     <g id=\"line2d_22\">\\n      <g>\\n       <use xlink:href=\"#m013b326735\" x=\"236.16\" y=\"274.32\" style=\"stroke: #000000; stroke-width: 0.8\"/>\\n      </g>\\n     </g>\\n     <g id=\"text_12\">\\n      <!-- −15 -->\\n      <g transform=\"translate(208.055313 278.119219) scale(0.1 -0.1)\">\\n       <use xlink:href=\"#DejaVuSans-2212\"/>\\n       <use xlink:href=\"#DejaVuSans-31\" x=\"83.789062\"/>\\n       <use xlink:href=\"#DejaVuSans-35\" x=\"147.412109\"/>\\n      </g>\\n     </g>\\n    </g>\\n    <g id=\"ytick_3\">\\n     <g id=\"line2d_23\">\\n      <path d=\"M 103.104 241.056 \\nL 369.216 241.056 \\n\" clip-path=\"url(#pfc4e76b6d5)\" style=\"fill: none; stroke: #bfbfbf; stroke-width: 0.75; stroke-linecap: square\"/>\\n     </g>\\n     <g id=\"line2d_24\">\\n      <g>\\n       <use xlink:href=\"#m013b326735\" x=\"236.16\" y=\"241.056\" style=\"stroke: #000000; stroke-width: 0.8\"/>\\n      </g>\\n     </g>\\n     <g id=\"text_13\">\\n      <!-- −10 -->\\n      <g transform=\"translate(208.055313 244.855219) scale(0.1 -0.1)\">\\n       <use xlink:href=\"#DejaVuSans-2212\"/>\\n       <use xlink:href=\"#DejaVuSans-31\" x=\"83.789062\"/>\\n       <use xlink:href=\"#DejaVuSans-30\" x=\"147.412109\"/>\\n      </g>\\n     </g>\\n    </g>\\n    <g id=\"ytick_4\">\\n     <g id=\"line2d_25\">\\n      <path d=\"M 103.104 207.792 \\nL 369.216 207.792 \\n\" clip-path=\"url(#pfc4e76b6d5)\" style=\"fill: none; stroke: #bfbfbf; stroke-width: 0.75; stroke-linecap: square\"/>\\n     </g>\\n     <g id=\"line2d_26\">\\n      <g>\\n       <use xlink:href=\"#m013b326735\" x=\"236.16\" y=\"207.792\" style=\"stroke: #000000; stroke-width: 0.8\"/>\\n      </g>\\n     </g>\\n     <g id=\"text_14\">\\n      <!-- −5 -->\\n      <g transform=\"translate(214.417813 211.591219) scale(0.1 -0.1)\">\\n       <use xlink:href=\"#DejaVuSans-2212\"/>\\n       <use xlink:href=\"#DejaVuSans-35\" x=\"83.789062\"/>\\n      </g>\\n     </g>\\n    </g>\\n    <g id=\"ytick_5\">\\n     <g id=\"line2d_27\">\\n      <path d=\"M 103.104 174.528 \\nL 369.216 174.528 \\n\" clip-path=\"url(#pfc4e76b6d5)\" style=\"fill: none; stroke: #bfbfbf; stroke-width: 0.75; stroke-linecap: square\"/>\\n     </g>\\n     <g id=\"line2d_28\">\\n      <g>\\n       <use xlink:href=\"#m013b326735\" x=\"236.16\" y=\"174.528\" style=\"stroke: #000000; stroke-width: 0.8\"/>\\n      </g>\\n     </g>\\n     <g id=\"text_15\">\\n      <!-- 0 -->\\n      <g transform=\"translate(222.7975 178.327219) scale(0.1 -0.1)\">\\n       <use xlink:href=\"#DejaVuSans-30\"/>\\n      </g>\\n     </g>\\n    </g>\\n    <g id=\"ytick_6\">\\n     <g id=\"line2d_29\">\\n      <path d=\"M 103.104 141.264 \\nL 369.216 141.264 \\n\" clip-path=\"url(#pfc4e76b6d5)\" style=\"fill: none; stroke: #bfbfbf; stroke-width: 0.75; stroke-linecap: square\"/>\\n     </g>\\n     <g id=\"line2d_30\">\\n      <g>\\n       <use xlink:href=\"#m013b326735\" x=\"236.16\" y=\"141.264\" style=\"stroke: #000000; stroke-width: 0.8\"/>\\n      </g>\\n     </g>\\n     <g id=\"text_16\">\\n      <!-- 5 -->\\n      <g transform=\"translate(222.7975 145.063219) scale(0.1 -0.1)\">\\n       <use xlink:href=\"#DejaVuSans-35\"/>\\n      </g>\\n     </g>\\n    </g>\\n    <g id=\"ytick_7\">\\n     <g id=\"line2d_31\">\\n      <path d=\"M 103.104 108 \\nL 369.216 108 \\n\" clip-path=\"url(#pfc4e76b6d5)\" style=\"fill: none; stroke: #bfbfbf; stroke-width: 0.75; stroke-linecap: square\"/>\\n     </g>\\n     <g id=\"line2d_32\">\\n      <g>\\n       <use xlink:href=\"#m013b326735\" x=\"236.16\" y=\"108\" style=\"stroke: #000000; stroke-width: 0.8\"/>\\n      </g>\\n     </g>\\n     <g id=\"text_17\">\\n      <!-- 10 -->\\n      <g transform=\"translate(216.435 111.799219) scale(0.1 -0.1)\">\\n       <use xlink:href=\"#DejaVuSans-31\"/>\\n       <use xlink:href=\"#DejaVuSans-30\" x=\"63.623047\"/>\\n      </g>\\n     </g>\\n    </g>\\n    <g id=\"ytick_8\">\\n     <g id=\"line2d_33\">\\n      <path d=\"M 103.104 74.736 \\nL 369.216 74.736 \\n\" clip-path=\"url(#pfc4e76b6d5)\" style=\"fill: none; stroke: #bfbfbf; stroke-width: 0.75; stroke-linecap: square\"/>\\n     </g>\\n     <g id=\"line2d_34\">\\n      <g>\\n       <use xlink:href=\"#m013b326735\" x=\"236.16\" y=\"74.736\" style=\"stroke: #000000; stroke-width: 0.8\"/>\\n      </g>\\n     </g>\\n     <g id=\"text_18\">\\n      <!-- 15 -->\\n      <g transform=\"translate(216.435 78.535219) scale(0.1 -0.1)\">\\n       <use xlink:href=\"#DejaVuSans-31\"/>\\n       <use xlink:href=\"#DejaVuSans-35\" x=\"63.623047\"/>\\n      </g>\\n     </g>\\n    </g>\\n    <g id=\"ytick_9\">\\n     <g id=\"line2d_35\">\\n      <path d=\"M 103.104 41.472 \\nL 369.216 41.472 \\n\" clip-path=\"url(#pfc4e76b6d5)\" style=\"fill: none; stroke: #bfbfbf; stroke-width: 0.75; stroke-linecap: square\"/>\\n     </g>\\n     <g id=\"line2d_36\">\\n      <g>\\n       <use xlink:href=\"#m013b326735\" x=\"236.16\" y=\"41.472\" style=\"stroke: #000000; stroke-width: 0.8\"/>\\n      </g>\\n     </g>\\n     <g id=\"text_19\">\\n      <!-- 20 -->\\n      <g transform=\"translate(216.435 45.271219) scale(0.1 -0.1)\">\\n       <use xlink:href=\"#DejaVuSans-32\"/>\\n       <use xlink:href=\"#DejaVuSans-30\" x=\"63.623047\"/>\\n      </g>\\n     </g>\\n    </g>\\n    <g id=\"text_20\">\\n     <!-- $y$ -->\\n     <g transform=\"translate(201.955313 177.528) rotate(-90) scale(0.1 -0.1)\">\\n      <defs>\\n       <path id=\"DejaVuSans-Oblique-79\" d=\"M 1588 -325 \\nQ 1188 -997 936 -1164 \\nQ 684 -1331 294 -1331 \\nL -159 -1331 \\nL -63 -850 \\nL 269 -850 \\nQ 509 -850 678 -719 \\nQ 847 -588 1056 -206 \\nL 1234 128 \\nL 459 3500 \\nL 1069 3500 \\nL 1650 819 \\nL 3256 3500 \\nL 3859 3500 \\nL 1588 -325 \\nz\\n\" transform=\"scale(0.015625)\"/>\\n      </defs>\\n      <use xlink:href=\"#DejaVuSans-Oblique-79\" transform=\"translate(0 0.3125)\"/>\\n     </g>\\n    </g>\\n   </g>\\n   <g id=\"PathCollection_1\">\\n    <path d=\"M 188.564095 307.584 \\nL 189.12 306.744626 \\nL 190.389833 304.896 \\nL 191.808 302.780546 \\nL 192.206645 302.208 \\nL 194.032086 299.52 \\nL 194.496 298.819169 \\nL 195.864229 296.832 \\nL 197.184 294.864198 \\nL 197.687235 294.144 \\nL 199.515474 291.456 \\nL 199.872 290.917078 \\nL 201.355813 288.768 \\nL 202.56 286.973473 \\nL 203.186927 286.08 \\nL 205.018477 283.392 \\nL 205.248 283.044809 \\nL 206.869517 280.704 \\nL 207.936 279.115675 \\nL 208.711483 278.016 \\nL 210.547007 275.328 \\nL 210.624 275.211437 \\nL 212.412365 272.64 \\nL 213.312 271.301174 \\nL 214.269235 269.952 \\nL 216 267.42411 \\nL 216.116109 267.264 \\nL 217.994705 264.576 \\nL 218.688 263.545206 \\nL 219.872711 261.888 \\nL 221.376 259.699591 \\nL 221.742217 259.2 \\nL 223.632437 256.512 \\nL 224.064 255.871107 \\nL 225.541648 253.824 \\nL 226.752 252.06948 \\nL 227.445879 251.136 \\nL 229.351326 248.448 \\nL 229.44 248.316518 \\nL 231.309051 245.76 \\nL 232.128 244.579523 \\nL 233.269783 243.072 \\nL 234.816 240.914335 \\nL 235.234435 240.384 \\nL 237.234597 237.696 \\nL 237.504 237.310706 \\nL 239.294993 235.008 \\nL 240.192 233.775577 \\nL 241.385532 232.32 \\nL 242.88 230.363156 \\nL 243.51932 229.632 \\nL 245.568 227.102715 \\nL 245.718346 226.944 \\nL 248.06212 224.256 \\nL 248.256 224.012618 \\nL 250.600838 221.568 \\nL 250.944 221.172871 \\nL 253.445908 218.88 \\nL 253.632 218.689567 \\nL 256.32 216.64418 \\nL 257.227004 216.192 \\nL 259.008 215.186883 \\nL 261.696 214.468309 \\nL 264.384 214.54815 \\nL 267.072 215.426408 \\nL 268.299378 216.192 \\nL 269.76 216.996833 \\nL 272.075148 218.88 \\nL 272.448 219.151607 \\nL 274.956072 221.568 \\nL 275.136 221.724959 \\nL 277.468528 224.256 \\nL 277.824 224.608401 \\nL 279.793731 226.944 \\nL 280.512 227.727955 \\nL 282.010802 229.632 \\nL 283.2 231.031443 \\nL 284.159789 232.32 \\nL 285.888 234.481004 \\nL 286.263138 235.008 \\nL 288.307856 237.696 \\nL 288.576 238.027236 \\nL 290.29496 240.384 \\nL 291.264 241.636998 \\nL 292.273816 243.072 \\nL 293.952 245.328401 \\nL 294.246471 245.76 \\nL 296.179165 248.448 \\nL 296.64 249.057781 \\nL 298.090699 251.136 \\nL 299.328 252.826356 \\nL 300.006461 253.824 \\nL 301.919198 256.512 \\nL 302.016 256.642267 \\nL 303.790792 259.2 \\nL 304.704 260.462512 \\nL 305.671049 261.888 \\nL 307.392 264.325593 \\nL 307.55845 264.576 \\nL 309.415074 267.264 \\nL 310.08 268.191762 \\nL 311.271862 269.952 \\nL 312.768 272.084292 \\nL 313.137502 272.64 \\nL 314.987359 275.328 \\nL 315.456 275.986703 \\nL 316.827935 278.016 \\nL 318.144 279.901005 \\nL 318.678061 280.704 \\nL 320.522434 283.392 \\nL 320.832 283.829726 \\nL 322.351416 286.08 \\nL 323.52 287.760632 \\nL 324.190125 288.768 \\nL 326.029964 291.456 \\nL 326.208 291.708999 \\nL 327.850419 294.144 \\nL 328.896 295.652893 \\nL 329.680506 296.832 \\nL 331.516532 299.52 \\nL 331.584 299.616279 \\nL 333.330571 302.208 \\nL 334.272 303.570549 \\nL 335.154003 304.896 \\nL 336.96 307.544723 \\nL 336.985828 307.584 \\n\" clip-path=\"url(#pfc4e76b6d5)\" style=\"fill: none; stroke: #1f77b4; stroke-width: 1.5\"/>\\n    <path d=\"M 363.908435 41.472 \\nL 358.464 49.566565 \\nL 315.456 112.988482 \\nL 310.994646 119.424 \\nL 307.279397 124.8 \\nL 293.952 143.63533 \\nL 285.888 154.481203 \\nL 280.512 161.249172 \\nL 274.518998 167.808 \\nL 272.448 169.835051 \\nL 271.55489 170.496 \\nL 269.76 171.981977 \\nL 267.072 173.530634 \\nL 264.384 174.426634 \\nL 261.696 174.508089 \\nL 259.008 173.774998 \\nL 256.32 172.340909 \\nL 253.632 170.28424 \\nL 250.944 167.78415 \\nL 248.256 164.957073 \\nL 242.88 158.614239 \\nL 229.44 140.6592 \\nL 210.624 113.763739 \\nL 162.24 42.37987 \\nL 161.639278 41.472 \\nL 161.639278 41.472 \\n\" clip-path=\"url(#pfc4e76b6d5)\" style=\"fill: none; stroke: #1f77b4; stroke-width: 1.5\"/>\\n   </g>\\n   <g id=\"PathCollection_2\">\\n    <path d=\"M 315.9936 307.584 \\nL 182.9376 41.472 \\nL 182.9376 41.472 \\n\" clip-path=\"url(#pfc4e76b6d5)\" style=\"fill: none; stroke: #ff7f0e; stroke-width: 1.5\"/>\\n   </g>\\n   <g id=\"line2d_37\">\\n    <defs>\\n     <path id=\"m9135757ff7\" d=\"M 0 3 \\nC 0.795609 3 1.55874 2.683901 2.12132 2.12132 \\nC 2.683901 1.55874 3 0.795609 3 0 \\nC 3 -0.795609 2.683901 -1.55874 2.12132 -2.12132 \\nC 1.55874 -2.683901 0.795609 -3 0 -3 \\nC -0.795609 -3 -1.55874 -2.683901 -2.12132 -2.12132 \\nC -2.683901 -1.55874 -3 -0.795609 -3 0 \\nC -3 0.795609 -2.683901 1.55874 -2.12132 2.12132 \\nC -1.55874 2.683901 -0.795609 3 0 3 \\nz\\n\" style=\"stroke: #2ca02c\"/>\\n    </defs>\\n    <g clip-path=\"url(#pfc4e76b6d5)\">\\n     <use xlink:href=\"#m9135757ff7\" x=\"239.039177\" y=\"153.675154\" style=\"fill: #2ca02c; stroke: #2ca02c\"/>\\n    </g>\\n   </g>\\n   <g id=\"line2d_38\">\\n    <defs>\\n     <path id=\"m498bf2c2d9\" d=\"M 0 3 \\nC 0.795609 3 1.55874 2.683901 2.12132 2.12132 \\nC 2.683901 1.55874 3 0.795609 3 0 \\nC 3 -0.795609 2.683901 -1.55874 2.12132 -2.12132 \\nC 1.55874 -2.683901 0.795609 -3 0 -3 \\nC -0.795609 -3 -1.55874 -2.683901 -2.12132 -2.12132 \\nC -2.683901 -1.55874 -3 -0.795609 -3 0 \\nC -3 0.795609 -2.683901 1.55874 -2.12132 2.12132 \\nC -1.55874 2.683901 -0.795609 3 0 3 \\nz\\n\" style=\"stroke: #d62728\"/>\\n    </defs>\\n    <g clip-path=\"url(#pfc4e76b6d5)\">\\n     <use xlink:href=\"#m498bf2c2d9\" x=\"271.296823\" y=\"218.190446\" style=\"fill: #d62728; stroke: #d62728\"/>\\n    </g>\\n   </g>\\n   <g id=\"patch_3\">\\n    <path d=\"M 236.16 307.584 \\nL 236.16 41.472 \\n\" style=\"fill: none; stroke: #000000; stroke-width: 0.8; stroke-linejoin: miter; stroke-linecap: square\"/>\\n   </g>\\n   <g id=\"patch_4\">\\n    <path d=\"M 103.104 174.528 \\nL 369.216 174.528 \\n\" style=\"fill: none; stroke: #000000; stroke-width: 0.8; stroke-linejoin: miter; stroke-linecap: square\"/>\\n   </g>\\n   <g id=\"legend_1\">\\n    <g id=\"patch_5\">\\n     <path d=\"M 164.816 109.726688 \\nL 362.216 109.726688 \\nQ 364.216 109.726688 364.216 107.726688 \\nL 364.216 48.472 \\nQ 364.216 46.472 362.216 46.472 \\nL 164.816 46.472 \\nQ 162.816 46.472 162.816 48.472 \\nL 162.816 107.726688 \\nQ 162.816 109.726688 164.816 109.726688 \\nz\\n\" style=\"fill: #ffffff; opacity: 0.8; stroke: #cccccc; stroke-linejoin: miter\"/>\\n    </g>\\n    <g id=\"line2d_39\">\\n     <path d=\"M 166.816 56.072 \\nL 176.816 56.072 \\nL 186.816 56.072 \\n\" style=\"fill: none; stroke: #1f77b4; stroke-width: 1.5; stroke-linecap: square\"/>\\n    </g>\\n    <g id=\"text_21\">\\n     <!-- $9 x^{2} - 72 x - 4 y^{2} - 24 y + 180 = 36$ -->\\n     <g transform=\"translate(194.816 59.572) scale(0.1 -0.1)\">\\n      <defs>\\n       <path id=\"DejaVuSans-39\" d=\"M 703 97 \\nL 703 672 \\nQ 941 559 1184 500 \\nQ 1428 441 1663 441 \\nQ 2288 441 2617 861 \\nQ 2947 1281 2994 2138 \\nQ 2813 1869 2534 1725 \\nQ 2256 1581 1919 1581 \\nQ 1219 1581 811 2004 \\nQ 403 2428 403 3163 \\nQ 403 3881 828 4315 \\nQ 1253 4750 1959 4750 \\nQ 2769 4750 3195 4129 \\nQ 3622 3509 3622 2328 \\nQ 3622 1225 3098 567 \\nQ 2575 -91 1691 -91 \\nQ 1453 -91 1209 -44 \\nQ 966 3 703 97 \\nz\\nM 1959 2075 \\nQ 2384 2075 2632 2365 \\nQ 2881 2656 2881 3163 \\nQ 2881 3666 2632 3958 \\nQ 2384 4250 1959 4250 \\nQ 1534 4250 1286 3958 \\nQ 1038 3666 1038 3163 \\nQ 1038 2656 1286 2365 \\nQ 1534 2075 1959 2075 \\nz\\n\" transform=\"scale(0.015625)\"/>\\n       <path id=\"DejaVuSans-37\" d=\"M 525 4666 \\nL 3525 4666 \\nL 3525 4397 \\nL 1831 0 \\nL 1172 0 \\nL 2766 4134 \\nL 525 4134 \\nL 525 4666 \\nz\\n\" transform=\"scale(0.015625)\"/>\\n       <path id=\"DejaVuSans-34\" d=\"M 2419 4116 \\nL 825 1625 \\nL 2419 1625 \\nL 2419 4116 \\nz\\nM 2253 4666 \\nL 3047 4666 \\nL 3047 1625 \\nL 3713 1625 \\nL 3713 1100 \\nL 3047 1100 \\nL 3047 0 \\nL 2419 0 \\nL 2419 1100 \\nL 313 1100 \\nL 313 1709 \\nL 2253 4666 \\nz\\n\" transform=\"scale(0.015625)\"/>\\n       <path id=\"DejaVuSans-2b\" d=\"M 2944 4013 \\nL 2944 2272 \\nL 4684 2272 \\nL 4684 1741 \\nL 2944 1741 \\nL 2944 0 \\nL 2419 0 \\nL 2419 1741 \\nL 678 1741 \\nL 678 2272 \\nL 2419 2272 \\nL 2419 4013 \\nL 2944 4013 \\nz\\n\" transform=\"scale(0.015625)\"/>\\n       <path id=\"DejaVuSans-38\" d=\"M 2034 2216 \\nQ 1584 2216 1326 1975 \\nQ 1069 1734 1069 1313 \\nQ 1069 891 1326 650 \\nQ 1584 409 2034 409 \\nQ 2484 409 2743 651 \\nQ 3003 894 3003 1313 \\nQ 3003 1734 2745 1975 \\nQ 2488 2216 2034 2216 \\nz\\nM 1403 2484 \\nQ 997 2584 770 2862 \\nQ 544 3141 544 3541 \\nQ 544 4100 942 4425 \\nQ 1341 4750 2034 4750 \\nQ 2731 4750 3128 4425 \\nQ 3525 4100 3525 3541 \\nQ 3525 3141 3298 2862 \\nQ 3072 2584 2669 2484 \\nQ 3125 2378 3379 2068 \\nQ 3634 1759 3634 1313 \\nQ 3634 634 3220 271 \\nQ 2806 -91 2034 -91 \\nQ 1263 -91 848 271 \\nQ 434 634 434 1313 \\nQ 434 1759 690 2068 \\nQ 947 2378 1403 2484 \\nz\\nM 1172 3481 \\nQ 1172 3119 1398 2916 \\nQ 1625 2713 2034 2713 \\nQ 2441 2713 2670 2916 \\nQ 2900 3119 2900 3481 \\nQ 2900 3844 2670 4047 \\nQ 2441 4250 2034 4250 \\nQ 1625 4250 1398 4047 \\nQ 1172 3844 1172 3481 \\nz\\n\" transform=\"scale(0.015625)\"/>\\n       <path id=\"DejaVuSans-3d\" d=\"M 678 2906 \\nL 4684 2906 \\nL 4684 2381 \\nL 678 2381 \\nL 678 2906 \\nz\\nM 678 1631 \\nL 4684 1631 \\nL 4684 1100 \\nL 678 1100 \\nL 678 1631 \\nz\\n\" transform=\"scale(0.015625)\"/>\\n       <path id=\"DejaVuSans-33\" d=\"M 2597 2516 \\nQ 3050 2419 3304 2112 \\nQ 3559 1806 3559 1356 \\nQ 3559 666 3084 287 \\nQ 2609 -91 1734 -91 \\nQ 1441 -91 1130 -33 \\nQ 819 25 488 141 \\nL 488 750 \\nQ 750 597 1062 519 \\nQ 1375 441 1716 441 \\nQ 2309 441 2620 675 \\nQ 2931 909 2931 1356 \\nQ 2931 1769 2642 2001 \\nQ 2353 2234 1838 2234 \\nL 1294 2234 \\nL 1294 2753 \\nL 1863 2753 \\nQ 2328 2753 2575 2939 \\nQ 2822 3125 2822 3475 \\nQ 2822 3834 2567 4026 \\nQ 2313 4219 1838 4219 \\nQ 1578 4219 1281 4162 \\nQ 984 4106 628 3988 \\nL 628 4550 \\nQ 988 4650 1302 4700 \\nQ 1616 4750 1894 4750 \\nQ 2613 4750 3031 4423 \\nQ 3450 4097 3450 3541 \\nQ 3450 3153 3228 2886 \\nQ 3006 2619 2597 2516 \\nz\\n\" transform=\"scale(0.015625)\"/>\\n       <path id=\"DejaVuSans-36\" d=\"M 2113 2584 \\nQ 1688 2584 1439 2293 \\nQ 1191 2003 1191 1497 \\nQ 1191 994 1439 701 \\nQ 1688 409 2113 409 \\nQ 2538 409 2786 701 \\nQ 3034 994 3034 1497 \\nQ 3034 2003 2786 2293 \\nQ 2538 2584 2113 2584 \\nz\\nM 3366 4563 \\nL 3366 3988 \\nQ 3128 4100 2886 4159 \\nQ 2644 4219 2406 4219 \\nQ 1781 4219 1451 3797 \\nQ 1122 3375 1075 2522 \\nQ 1259 2794 1537 2939 \\nQ 1816 3084 2150 3084 \\nQ 2853 3084 3261 2657 \\nQ 3669 2231 3669 1497 \\nQ 3669 778 3244 343 \\nQ 2819 -91 2113 -91 \\nQ 1303 -91 875 529 \\nQ 447 1150 447 2328 \\nQ 447 3434 972 4092 \\nQ 1497 4750 2381 4750 \\nQ 2619 4750 2861 4703 \\nQ 3103 4656 3366 4563 \\nz\\n\" transform=\"scale(0.015625)\"/>\\n      </defs>\\n      <use xlink:href=\"#DejaVuSans-39\" transform=\"translate(0 0.765625)\"/>\\n      <use xlink:href=\"#DejaVuSans-Oblique-78\" transform=\"translate(63.623047 0.765625)\"/>\\n      <use xlink:href=\"#DejaVuSans-32\" transform=\"translate(127.26888 39.046875) scale(0.7)\"/>\\n      <use xlink:href=\"#DejaVuSans-2212\" transform=\"translate(194.02181 0.765625)\"/>\\n      <use xlink:href=\"#DejaVuSans-37\" transform=\"translate(297.293294 0.765625)\"/>\\n      <use xlink:href=\"#DejaVuSans-32\" transform=\"translate(360.916341 0.765625)\"/>\\n      <use xlink:href=\"#DejaVuSans-Oblique-78\" transform=\"translate(424.539388 0.765625)\"/>\\n      <use xlink:href=\"#DejaVuSans-2212\" transform=\"translate(503.201497 0.765625)\"/>\\n      <use xlink:href=\"#DejaVuSans-34\" transform=\"translate(606.472982 0.765625)\"/>\\n      <use xlink:href=\"#DejaVuSans-Oblique-79\" transform=\"translate(670.096029 0.765625)\"/>\\n      <use xlink:href=\"#DejaVuSans-32\" transform=\"translate(733.741862 39.046875) scale(0.7)\"/>\\n      <use xlink:href=\"#DejaVuSans-2212\" transform=\"translate(800.494792 0.765625)\"/>\\n      <use xlink:href=\"#DejaVuSans-32\" transform=\"translate(903.766276 0.765625)\"/>\\n      <use xlink:href=\"#DejaVuSans-34\" transform=\"translate(967.389323 0.765625)\"/>\\n      <use xlink:href=\"#DejaVuSans-Oblique-79\" transform=\"translate(1031.01237 0.765625)\"/>\\n      <use xlink:href=\"#DejaVuSans-2b\" transform=\"translate(1109.674479 0.765625)\"/>\\n      <use xlink:href=\"#DejaVuSans-31\" transform=\"translate(1212.945964 0.765625)\"/>\\n      <use xlink:href=\"#DejaVuSans-38\" transform=\"translate(1276.56901 0.765625)\"/>\\n      <use xlink:href=\"#DejaVuSans-30\" transform=\"translate(1340.192057 0.765625)\"/>\\n      <use xlink:href=\"#DejaVuSans-3d\" transform=\"translate(1423.297526 0.765625)\"/>\\n      <use xlink:href=\"#DejaVuSans-33\" transform=\"translate(1526.56901 0.765625)\"/>\\n      <use xlink:href=\"#DejaVuSans-36\" transform=\"translate(1590.192057 0.765625)\"/>\\n     </g>\\n    </g>\\n    <g id=\"line2d_40\">\\n     <path d=\"M 166.816 70.770438 \\nL 176.816 70.770438 \\nL 186.816 70.770438 \\n\" style=\"fill: none; stroke: #ff7f0e; stroke-width: 1.5; stroke-linecap: square\"/>\\n    </g>\\n    <g id=\"text_22\">\\n     <!-- $- 2 x - y + 4 = 0$ -->\\n     <g transform=\"translate(194.816 74.270438) scale(0.1 -0.1)\">\\n      <use xlink:href=\"#DejaVuSans-2212\" transform=\"translate(0 0.78125)\"/>\\n      <use xlink:href=\"#DejaVuSans-32\" transform=\"translate(83.789062 0.78125)\"/>\\n      <use xlink:href=\"#DejaVuSans-Oblique-78\" transform=\"translate(147.412109 0.78125)\"/>\\n      <use xlink:href=\"#DejaVuSans-2212\" transform=\"translate(226.074219 0.78125)\"/>\\n      <use xlink:href=\"#DejaVuSans-Oblique-79\" transform=\"translate(329.345703 0.78125)\"/>\\n      <use xlink:href=\"#DejaVuSans-2b\" transform=\"translate(408.007812 0.78125)\"/>\\n      <use xlink:href=\"#DejaVuSans-34\" transform=\"translate(511.279297 0.78125)\"/>\\n      <use xlink:href=\"#DejaVuSans-3d\" transform=\"translate(594.384766 0.78125)\"/>\\n      <use xlink:href=\"#DejaVuSans-30\" transform=\"translate(697.65625 0.78125)\"/>\\n     </g>\\n    </g>\\n    <g id=\"line2d_41\">\\n     <g>\\n      <use xlink:href=\"#m9135757ff7\" x=\"176.816\" y=\"85.468875\" style=\"fill: #2ca02c; stroke: #2ca02c\"/>\\n     </g>\\n    </g>\\n    <g id=\"text_23\">\\n     <!-- A -->\\n     <g transform=\"translate(194.816 88.968875) scale(0.1 -0.1)\">\\n      <defs>\\n       <path id=\"DejaVuSans-41\" d=\"M 2188 4044 \\nL 1331 1722 \\nL 3047 1722 \\nL 2188 4044 \\nz\\nM 1831 4666 \\nL 2547 4666 \\nL 4325 0 \\nL 3669 0 \\nL 3244 1197 \\nL 1141 1197 \\nL 716 0 \\nL 50 0 \\nL 1831 4666 \\nz\\n\" transform=\"scale(0.015625)\"/>\\n      </defs>\\n      <use xlink:href=\"#DejaVuSans-41\"/>\\n     </g>\\n    </g>\\n    <g id=\"line2d_42\">\\n     <g>\\n      <use xlink:href=\"#m498bf2c2d9\" x=\"176.816\" y=\"100.147\" style=\"fill: #d62728; stroke: #d62728\"/>\\n     </g>\\n    </g>\\n    <g id=\"text_24\">\\n     <!-- B -->\\n     <g transform=\"translate(194.816 103.647) scale(0.1 -0.1)\">\\n      <defs>\\n       <path id=\"DejaVuSans-42\" d=\"M 1259 2228 \\nL 1259 519 \\nL 2272 519 \\nQ 2781 519 3026 730 \\nQ 3272 941 3272 1375 \\nQ 3272 1813 3026 2020 \\nQ 2781 2228 2272 2228 \\nL 1259 2228 \\nz\\nM 1259 4147 \\nL 1259 2741 \\nL 2194 2741 \\nQ 2656 2741 2882 2914 \\nQ 3109 3088 3109 3444 \\nQ 3109 3797 2882 3972 \\nQ 2656 4147 2194 4147 \\nL 1259 4147 \\nz\\nM 628 4666 \\nL 2241 4666 \\nQ 2963 4666 3353 4366 \\nQ 3744 4066 3744 3513 \\nQ 3744 3084 3544 2831 \\nQ 3344 2578 2956 2516 \\nQ 3422 2416 3680 2098 \\nQ 3938 1781 3938 1306 \\nQ 3938 681 3513 340 \\nQ 3088 0 2303 0 \\nL 628 0 \\nL 628 4666 \\nz\\n\" transform=\"scale(0.015625)\"/>\\n      </defs>\\n      <use xlink:href=\"#DejaVuSans-42\"/>\\n     </g>\\n    </g>\\n   </g>\\n  </g>\\n </g>\\n <defs>\\n  <clipPath id=\"pfc4e76b6d5\">\\n   <rect x=\"103.104\" y=\"41.472\" width=\"266.112\" height=\"266.112\"/>\\n  </clipPath>\\n </defs>\\n</svg>\\n'}, 'answer': [{x: 20/7 - 12*sqrt(2)/7, y: -12/7 + 24*sqrt(2)/7}, {x: 12*sqrt(2)/7 + 20/7, y: -24*sqrt(2)/7 - 12/7}]}\n"
     ]
    },
    {
     "data": {
      "image/png": "[encoded data removed]",
      "text/plain": [
       "<Figure size 640x480 with 1 Axes>"
      ]
     },
     "metadata": {},
     "output_type": "display_data"
    }
   ],
   "source": [
    "def GenerateFindHiperbolaAndLineCrossPointsTask():\n",
    "    result = []\n",
    "    while len(result) != 2:\n",
    "        a, b = randint(*choice([(2,4),(-4,-2)])), randint(*choice([(2,4),(-4,-2)]))\n",
    "        x0, y0 = randint(*choice([(2,5),(-5,-2)])), randint(*choice([(2,5),(-5,-2)]))\n",
    "        x, y = sp.symbols(\"x y\", real=True)\n",
    "\n",
    "        hiperbola = sp.Eq(b**2*x**2 - 2*x*x0*b**2 + x0**2*b**2 - a**2*y**2 - 2*y*y0*a**2 + a**2*y0**2, a**2*b**2)\n",
    "        lx0, lx1, ly1 = randint(-5, 5), randint(-5, 5), 1\n",
    "        \n",
    "        line = sp.Eq(lx1*x - ly1*y - lx0, 0)\n",
    "\n",
    "        result = sp.solve([hiperbola, line], [x, y], dict=True)\n",
    "\n",
    "    #print('координаты точки пересчения А: ', result[0][x], result[0][y])\n",
    "    #print('координаты точки пересчения B: ', result[1][x], result[1][y])\n",
    "\n",
    "    ranges = (x, -20, 20), (y, -20, 20)\n",
    "    \n",
    "    plot_base = spb.graphics(\n",
    "        spb.implicit_2d(hiperbola, *ranges),\n",
    "        spb.implicit_2d(line, *ranges),\n",
    "        rendering_kw={\"marker\": \"ro\", \"markerfacecolor\": None},\n",
    "        backend=spb.MB,\n",
    "        axis_center=(0.0, 0.0),\n",
    "        #legend=False,\n",
    "        show=False,\n",
    "        aspect = \"equal\",\n",
    "    )\n",
    "    plot_anotation = spb.plot_list(\n",
    "        ([result[0][x]], [result[0][y]], \"A\"),\n",
    "        (result[1][x], result[1][y], \"B\"),\n",
    "        rendering_kw={\"marker\": \"o\", \"markerfacecolor\": None},\n",
    "        scatter=True, show=False\n",
    "    )\n",
    "    \n",
    "    plot = plot_base + plot_anotation\n",
    "    #plot.show()\n",
    "\n",
    "    buffer = io.StringIO()\n",
    "    plot.save(buffer, format = \"svg\")\n",
    "\n",
    "    task = f\"\"\n",
    "    answer = result\n",
    "\n",
    "    dic = {\n",
    "    \"task\": task,\n",
    "    \"data\": {'img': buffer.getvalue()}, \n",
    "    \"answer\": answer}\n",
    "    return dic\n",
    "\n",
    "print(GenerateFindHiperbolaAndLineCrossPointsTask())"
   ]
  },
  {
   "cell_type": "code",
   "execution_count": 5,
   "metadata": {},
   "outputs": [
    {
     "name": "stdout",
     "output_type": "stream",
     "text": [
      "{'task': '', 'data': {'img': '<?xml version=\"1.0\" encoding=\"utf-8\" standalone=\"no\"?>\\n<!DOCTYPE svg PUBLIC \"-//W3C//DTD SVG 1.1//EN\"\\n  \"http://www.w3.org/Graphics/SVG/1.1/DTD/svg11.dtd\">\\n<svg xmlns:xlink=\"http://www.w3.org/1999/xlink\" width=\"460.8pt\" height=\"345.6pt\" viewBox=\"0 0 460.8 345.6\" xmlns=\"http://www.w3.org/2000/svg\" version=\"1.1\">\\n <metadata>\\n  <rdf:RDF xmlns:dc=\"http://purl.org/dc/elements/1.1/\" xmlns:cc=\"http://creativecommons.org/ns#\" xmlns:rdf=\"http://www.w3.org/1999/02/22-rdf-syntax-ns#\">\\n   <cc:Work>\\n    <dc:type rdf:resource=\"http://purl.org/dc/dcmitype/StillImage\"/>\\n    <dc:date>2024-06-06T14:18:21.234772</dc:date>\\n    <dc:format>image/svg+xml</dc:format>\\n    <dc:creator>\\n     <cc:Agent>\\n      <dc:title>Matplotlib v3.6.0, https://matplotlib.org/</dc:title>\\n     </cc:Agent>\\n    </dc:creator>\\n   </cc:Work>\\n  </rdf:RDF>\\n </metadata>\\n <defs>\\n  <style type=\"text/css\">*{stroke-linejoin: round; stroke-linecap: butt}</style>\\n </defs>\\n <g id=\"figure_1\">\\n  <g id=\"patch_1\">\\n   <path d=\"M 0 345.6 \\nL 460.8 345.6 \\nL 460.8 0 \\nL 0 0 \\nz\\n\" style=\"fill: #ffffff\"/>\\n  </g>\\n  <g id=\"axes_1\">\\n   <g id=\"patch_2\">\\n    <path d=\"M 112.096252 307.584 \\nL 360.223748 307.584 \\nL 360.223748 41.472 \\nL 112.096252 41.472 \\nz\\n\" style=\"fill: #ffffff\"/>\\n   </g>\\n   <g id=\"matplotlib.axis_1\">\\n    <g id=\"xtick_1\">\\n     <g id=\"line2d_1\">\\n      <path d=\"M 112.096252 307.584 \\nL 112.096252 41.472 \\n\" clip-path=\"url(#p0d54cf30a5)\" style=\"fill: none; stroke: #bfbfbf; stroke-width: 0.75; stroke-linecap: square\"/>\\n     </g>\\n     <g id=\"line2d_2\">\\n      <defs>\\n       <path id=\"m7f903b4e96\" d=\"M 0 0 \\nL 0 3.5 \\n\" style=\"stroke: #000000; stroke-width: 0.8\"/>\\n      </defs>\\n      <g>\\n       <use xlink:href=\"#m7f903b4e96\" x=\"112.096252\" y=\"165.535748\" style=\"stroke: #000000; stroke-width: 0.8\"/>\\n      </g>\\n     </g>\\n     <g id=\"text_1\">\\n      <!-- −20 -->\\n      <g transform=\"translate(101.543908 180.134185) scale(0.1 -0.1)\">\\n       <defs>\\n        <path id=\"DejaVuSans-2212\" d=\"M 678 2272 \\nL 4684 2272 \\nL 4684 1741 \\nL 678 1741 \\nL 678 2272 \\nz\\n\" transform=\"scale(0.015625)\"/>\\n        <path id=\"DejaVuSans-32\" d=\"M 1228 531 \\nL 3431 531 \\nL 3431 0 \\nL 469 0 \\nL 469 531 \\nQ 828 903 1448 1529 \\nQ 2069 2156 2228 2338 \\nQ 2531 2678 2651 2914 \\nQ 2772 3150 2772 3378 \\nQ 2772 3750 2511 3984 \\nQ 2250 4219 1831 4219 \\nQ 1534 4219 1204 4116 \\nQ 875 4013 500 3803 \\nL 500 4441 \\nQ 881 4594 1212 4672 \\nQ 1544 4750 1819 4750 \\nQ 2544 4750 2975 4387 \\nQ 3406 4025 3406 3419 \\nQ 3406 3131 3298 2873 \\nQ 3191 2616 2906 2266 \\nQ 2828 2175 2409 1742 \\nQ 1991 1309 1228 531 \\nz\\n\" transform=\"scale(0.015625)\"/>\\n        <path id=\"DejaVuSans-30\" d=\"M 2034 4250 \\nQ 1547 4250 1301 3770 \\nQ 1056 3291 1056 2328 \\nQ 1056 1369 1301 889 \\nQ 1547 409 2034 409 \\nQ 2525 409 2770 889 \\nQ 3016 1369 3016 2328 \\nQ 3016 3291 2770 3770 \\nQ 2525 4250 2034 4250 \\nz\\nM 2034 4750 \\nQ 2819 4750 3233 4129 \\nQ 3647 3509 3647 2328 \\nQ 3647 1150 3233 529 \\nQ 2819 -91 2034 -91 \\nQ 1250 -91 836 529 \\nQ 422 1150 422 2328 \\nQ 422 3509 836 4129 \\nQ 1250 4750 2034 4750 \\nz\\n\" transform=\"scale(0.015625)\"/>\\n       </defs>\\n       <use xlink:href=\"#DejaVuSans-2212\"/>\\n       <use xlink:href=\"#DejaVuSans-32\" x=\"83.789062\"/>\\n       <use xlink:href=\"#DejaVuSans-30\" x=\"147.412109\"/>\\n      </g>\\n     </g>\\n    </g>\\n    <g id=\"xtick_2\">\\n     <g id=\"line2d_3\">\\n      <path d=\"M 143.112189 307.584 \\nL 143.112189 41.472 \\n\" clip-path=\"url(#p0d54cf30a5)\" style=\"fill: none; stroke: #bfbfbf; stroke-width: 0.75; stroke-linecap: square\"/>\\n     </g>\\n     <g id=\"line2d_4\">\\n      <g>\\n       <use xlink:href=\"#m7f903b4e96\" x=\"143.112189\" y=\"165.535748\" style=\"stroke: #000000; stroke-width: 0.8\"/>\\n      </g>\\n     </g>\\n     <g id=\"text_2\">\\n      <!-- −15 -->\\n      <g transform=\"translate(132.559845 180.134185) scale(0.1 -0.1)\">\\n       <defs>\\n        <path id=\"DejaVuSans-31\" d=\"M 794 531 \\nL 1825 531 \\nL 1825 4091 \\nL 703 3866 \\nL 703 4441 \\nL 1819 4666 \\nL 2450 4666 \\nL 2450 531 \\nL 3481 531 \\nL 3481 0 \\nL 794 0 \\nL 794 531 \\nz\\n\" transform=\"scale(0.015625)\"/>\\n        <path id=\"DejaVuSans-35\" d=\"M 691 4666 \\nL 3169 4666 \\nL 3169 4134 \\nL 1269 4134 \\nL 1269 2991 \\nQ 1406 3038 1543 3061 \\nQ 1681 3084 1819 3084 \\nQ 2600 3084 3056 2656 \\nQ 3513 2228 3513 1497 \\nQ 3513 744 3044 326 \\nQ 2575 -91 1722 -91 \\nQ 1428 -91 1123 -41 \\nQ 819 9 494 109 \\nL 494 744 \\nQ 775 591 1075 516 \\nQ 1375 441 1709 441 \\nQ 2250 441 2565 725 \\nQ 2881 1009 2881 1497 \\nQ 2881 1984 2565 2268 \\nQ 2250 2553 1709 2553 \\nQ 1456 2553 1204 2497 \\nQ 953 2441 691 2322 \\nL 691 4666 \\nz\\n\" transform=\"scale(0.015625)\"/>\\n       </defs>\\n       <use xlink:href=\"#DejaVuSans-2212\"/>\\n       <use xlink:href=\"#DejaVuSans-31\" x=\"83.789062\"/>\\n       <use xlink:href=\"#DejaVuSans-35\" x=\"147.412109\"/>\\n      </g>\\n     </g>\\n    </g>\\n    <g id=\"xtick_3\">\\n     <g id=\"line2d_5\">\\n      <path d=\"M 174.128126 307.584 \\nL 174.128126 41.472 \\n\" clip-path=\"url(#p0d54cf30a5)\" style=\"fill: none; stroke: #bfbfbf; stroke-width: 0.75; stroke-linecap: square\"/>\\n     </g>\\n     <g id=\"line2d_6\">\\n      <g>\\n       <use xlink:href=\"#m7f903b4e96\" x=\"174.128126\" y=\"165.535748\" style=\"stroke: #000000; stroke-width: 0.8\"/>\\n      </g>\\n     </g>\\n     <g id=\"text_3\">\\n      <!-- −10 -->\\n      <g transform=\"translate(163.575782 180.134185) scale(0.1 -0.1)\">\\n       <use xlink:href=\"#DejaVuSans-2212\"/>\\n       <use xlink:href=\"#DejaVuSans-31\" x=\"83.789062\"/>\\n       <use xlink:href=\"#DejaVuSans-30\" x=\"147.412109\"/>\\n      </g>\\n     </g>\\n    </g>\\n    <g id=\"xtick_4\">\\n     <g id=\"line2d_7\">\\n      <path d=\"M 205.144063 307.584 \\nL 205.144063 41.472 \\n\" clip-path=\"url(#p0d54cf30a5)\" style=\"fill: none; stroke: #bfbfbf; stroke-width: 0.75; stroke-linecap: square\"/>\\n     </g>\\n     <g id=\"line2d_8\">\\n      <g>\\n       <use xlink:href=\"#m7f903b4e96\" x=\"205.144063\" y=\"165.535748\" style=\"stroke: #000000; stroke-width: 0.8\"/>\\n      </g>\\n     </g>\\n     <g id=\"text_4\">\\n      <!-- −5 -->\\n      <g transform=\"translate(197.772969 180.134185) scale(0.1 -0.1)\">\\n       <use xlink:href=\"#DejaVuSans-2212\"/>\\n       <use xlink:href=\"#DejaVuSans-35\" x=\"83.789062\"/>\\n      </g>\\n     </g>\\n    </g>\\n    <g id=\"xtick_5\">\\n     <g id=\"line2d_9\">\\n      <path d=\"M 236.16 307.584 \\nL 236.16 41.472 \\n\" clip-path=\"url(#p0d54cf30a5)\" style=\"fill: none; stroke: #bfbfbf; stroke-width: 0.75; stroke-linecap: square\"/>\\n     </g>\\n     <g id=\"line2d_10\">\\n      <g>\\n       <use xlink:href=\"#m7f903b4e96\" x=\"236.16\" y=\"165.535748\" style=\"stroke: #000000; stroke-width: 0.8\"/>\\n      </g>\\n     </g>\\n     <g id=\"text_5\">\\n      <!-- 0 -->\\n      <g transform=\"translate(232.97875 180.134185) scale(0.1 -0.1)\">\\n       <use xlink:href=\"#DejaVuSans-30\"/>\\n      </g>\\n     </g>\\n    </g>\\n    <g id=\"xtick_6\">\\n     <g id=\"line2d_11\">\\n      <path d=\"M 267.175937 307.584 \\nL 267.175937 41.472 \\n\" clip-path=\"url(#p0d54cf30a5)\" style=\"fill: none; stroke: #bfbfbf; stroke-width: 0.75; stroke-linecap: square\"/>\\n     </g>\\n     <g id=\"line2d_12\">\\n      <g>\\n       <use xlink:href=\"#m7f903b4e96\" x=\"267.175937\" y=\"165.535748\" style=\"stroke: #000000; stroke-width: 0.8\"/>\\n      </g>\\n     </g>\\n     <g id=\"text_6\">\\n      <!-- 5 -->\\n      <g transform=\"translate(263.994687 180.134185) scale(0.1 -0.1)\">\\n       <use xlink:href=\"#DejaVuSans-35\"/>\\n      </g>\\n     </g>\\n    </g>\\n    <g id=\"xtick_7\">\\n     <g id=\"line2d_13\">\\n      <path d=\"M 298.191874 307.584 \\nL 298.191874 41.472 \\n\" clip-path=\"url(#p0d54cf30a5)\" style=\"fill: none; stroke: #bfbfbf; stroke-width: 0.75; stroke-linecap: square\"/>\\n     </g>\\n     <g id=\"line2d_14\">\\n      <g>\\n       <use xlink:href=\"#m7f903b4e96\" x=\"298.191874\" y=\"165.535748\" style=\"stroke: #000000; stroke-width: 0.8\"/>\\n      </g>\\n     </g>\\n     <g id=\"text_7\">\\n      <!-- 10 -->\\n      <g transform=\"translate(291.829374 180.134185) scale(0.1 -0.1)\">\\n       <use xlink:href=\"#DejaVuSans-31\"/>\\n       <use xlink:href=\"#DejaVuSans-30\" x=\"63.623047\"/>\\n      </g>\\n     </g>\\n    </g>\\n    <g id=\"xtick_8\">\\n     <g id=\"line2d_15\">\\n      <path d=\"M 329.207811 307.584 \\nL 329.207811 41.472 \\n\" clip-path=\"url(#p0d54cf30a5)\" style=\"fill: none; stroke: #bfbfbf; stroke-width: 0.75; stroke-linecap: square\"/>\\n     </g>\\n     <g id=\"line2d_16\">\\n      <g>\\n       <use xlink:href=\"#m7f903b4e96\" x=\"329.207811\" y=\"165.535748\" style=\"stroke: #000000; stroke-width: 0.8\"/>\\n      </g>\\n     </g>\\n     <g id=\"text_8\">\\n      <!-- 15 -->\\n      <g transform=\"translate(322.845311 180.134185) scale(0.1 -0.1)\">\\n       <use xlink:href=\"#DejaVuSans-31\"/>\\n       <use xlink:href=\"#DejaVuSans-35\" x=\"63.623047\"/>\\n      </g>\\n     </g>\\n    </g>\\n    <g id=\"xtick_9\">\\n     <g id=\"line2d_17\">\\n      <path d=\"M 360.223748 307.584 \\nL 360.223748 41.472 \\n\" clip-path=\"url(#p0d54cf30a5)\" style=\"fill: none; stroke: #bfbfbf; stroke-width: 0.75; stroke-linecap: square\"/>\\n     </g>\\n     <g id=\"line2d_18\">\\n      <g>\\n       <use xlink:href=\"#m7f903b4e96\" x=\"360.223748\" y=\"165.535748\" style=\"stroke: #000000; stroke-width: 0.8\"/>\\n      </g>\\n     </g>\\n     <g id=\"text_9\">\\n      <!-- 20 -->\\n      <g transform=\"translate(353.861248 180.134185) scale(0.1 -0.1)\">\\n       <use xlink:href=\"#DejaVuSans-32\"/>\\n       <use xlink:href=\"#DejaVuSans-30\" x=\"63.623047\"/>\\n      </g>\\n     </g>\\n    </g>\\n    <g id=\"text_10\">\\n     <!-- $x$ -->\\n     <g transform=\"translate(233.16 193.81231) scale(0.1 -0.1)\">\\n      <defs>\\n       <path id=\"DejaVuSans-Oblique-78\" d=\"M 3841 3500 \\nL 2234 1784 \\nL 3219 0 \\nL 2559 0 \\nL 1819 1388 \\nL 531 0 \\nL -166 0 \\nL 1556 1844 \\nL 641 3500 \\nL 1300 3500 \\nL 1972 2234 \\nL 3144 3500 \\nL 3841 3500 \\nz\\n\" transform=\"scale(0.015625)\"/>\\n      </defs>\\n      <use xlink:href=\"#DejaVuSans-Oblique-78\" transform=\"translate(0 0.3125)\"/>\\n     </g>\\n    </g>\\n   </g>\\n   <g id=\"matplotlib.axis_2\">\\n    <g id=\"ytick_1\">\\n     <g id=\"line2d_19\">\\n      <path d=\"M 112.096252 289.599496 \\nL 360.223748 289.599496 \\n\" clip-path=\"url(#p0d54cf30a5)\" style=\"fill: none; stroke: #bfbfbf; stroke-width: 0.75; stroke-linecap: square\"/>\\n     </g>\\n     <g id=\"line2d_20\">\\n      <defs>\\n       <path id=\"m9a471f24cf\" d=\"M 0 0 \\nL -3.5 0 \\n\" style=\"stroke: #000000; stroke-width: 0.8\"/>\\n      </defs>\\n      <g>\\n       <use xlink:href=\"#m9a471f24cf\" x=\"236.16\" y=\"289.599496\" style=\"stroke: #000000; stroke-width: 0.8\"/>\\n      </g>\\n     </g>\\n     <g id=\"text_11\">\\n      <!-- −20 -->\\n      <g transform=\"translate(208.055313 293.398715) scale(0.1 -0.1)\">\\n       <use xlink:href=\"#DejaVuSans-2212\"/>\\n       <use xlink:href=\"#DejaVuSans-32\" x=\"83.789062\"/>\\n       <use xlink:href=\"#DejaVuSans-30\" x=\"147.412109\"/>\\n      </g>\\n     </g>\\n    </g>\\n    <g id=\"ytick_2\">\\n     <g id=\"line2d_21\">\\n      <path d=\"M 112.096252 258.583559 \\nL 360.223748 258.583559 \\n\" clip-path=\"url(#p0d54cf30a5)\" style=\"fill: none; stroke: #bfbfbf; stroke-width: 0.75; stroke-linecap: square\"/>\\n     </g>\\n     <g id=\"line2d_22\">\\n      <g>\\n       <use xlink:href=\"#m9a471f24cf\" x=\"236.16\" y=\"258.583559\" style=\"stroke: #000000; stroke-width: 0.8\"/>\\n      </g>\\n     </g>\\n     <g id=\"text_12\">\\n      <!-- −15 -->\\n      <g transform=\"translate(208.055313 262.382778) scale(0.1 -0.1)\">\\n       <use xlink:href=\"#DejaVuSans-2212\"/>\\n       <use xlink:href=\"#DejaVuSans-31\" x=\"83.789062\"/>\\n       <use xlink:href=\"#DejaVuSans-35\" x=\"147.412109\"/>\\n      </g>\\n     </g>\\n    </g>\\n    <g id=\"ytick_3\">\\n     <g id=\"line2d_23\">\\n      <path d=\"M 112.096252 227.567622 \\nL 360.223748 227.567622 \\n\" clip-path=\"url(#p0d54cf30a5)\" style=\"fill: none; stroke: #bfbfbf; stroke-width: 0.75; stroke-linecap: square\"/>\\n     </g>\\n     <g id=\"line2d_24\">\\n      <g>\\n       <use xlink:href=\"#m9a471f24cf\" x=\"236.16\" y=\"227.567622\" style=\"stroke: #000000; stroke-width: 0.8\"/>\\n      </g>\\n     </g>\\n     <g id=\"text_13\">\\n      <!-- −10 -->\\n      <g transform=\"translate(208.055313 231.366841) scale(0.1 -0.1)\">\\n       <use xlink:href=\"#DejaVuSans-2212\"/>\\n       <use xlink:href=\"#DejaVuSans-31\" x=\"83.789062\"/>\\n       <use xlink:href=\"#DejaVuSans-30\" x=\"147.412109\"/>\\n      </g>\\n     </g>\\n    </g>\\n    <g id=\"ytick_4\">\\n     <g id=\"line2d_25\">\\n      <path d=\"M 112.096252 196.551685 \\nL 360.223748 196.551685 \\n\" clip-path=\"url(#p0d54cf30a5)\" style=\"fill: none; stroke: #bfbfbf; stroke-width: 0.75; stroke-linecap: square\"/>\\n     </g>\\n     <g id=\"line2d_26\">\\n      <g>\\n       <use xlink:href=\"#m9a471f24cf\" x=\"236.16\" y=\"196.551685\" style=\"stroke: #000000; stroke-width: 0.8\"/>\\n      </g>\\n     </g>\\n     <g id=\"text_14\">\\n      <!-- −5 -->\\n      <g transform=\"translate(214.417813 200.350904) scale(0.1 -0.1)\">\\n       <use xlink:href=\"#DejaVuSans-2212\"/>\\n       <use xlink:href=\"#DejaVuSans-35\" x=\"83.789062\"/>\\n      </g>\\n     </g>\\n    </g>\\n    <g id=\"ytick_5\">\\n     <g id=\"line2d_27\">\\n      <path d=\"M 112.096252 165.535748 \\nL 360.223748 165.535748 \\n\" clip-path=\"url(#p0d54cf30a5)\" style=\"fill: none; stroke: #bfbfbf; stroke-width: 0.75; stroke-linecap: square\"/>\\n     </g>\\n     <g id=\"line2d_28\">\\n      <g>\\n       <use xlink:href=\"#m9a471f24cf\" x=\"236.16\" y=\"165.535748\" style=\"stroke: #000000; stroke-width: 0.8\"/>\\n      </g>\\n     </g>\\n     <g id=\"text_15\">\\n      <!-- 0 -->\\n      <g transform=\"translate(222.7975 169.334967) scale(0.1 -0.1)\">\\n       <use xlink:href=\"#DejaVuSans-30\"/>\\n      </g>\\n     </g>\\n    </g>\\n    <g id=\"ytick_6\">\\n     <g id=\"line2d_29\">\\n      <path d=\"M 112.096252 134.519811 \\nL 360.223748 134.519811 \\n\" clip-path=\"url(#p0d54cf30a5)\" style=\"fill: none; stroke: #bfbfbf; stroke-width: 0.75; stroke-linecap: square\"/>\\n     </g>\\n     <g id=\"line2d_30\">\\n      <g>\\n       <use xlink:href=\"#m9a471f24cf\" x=\"236.16\" y=\"134.519811\" style=\"stroke: #000000; stroke-width: 0.8\"/>\\n      </g>\\n     </g>\\n     <g id=\"text_16\">\\n      <!-- 5 -->\\n      <g transform=\"translate(222.7975 138.31903) scale(0.1 -0.1)\">\\n       <use xlink:href=\"#DejaVuSans-35\"/>\\n      </g>\\n     </g>\\n    </g>\\n    <g id=\"ytick_7\">\\n     <g id=\"line2d_31\">\\n      <path d=\"M 112.096252 103.503874 \\nL 360.223748 103.503874 \\n\" clip-path=\"url(#p0d54cf30a5)\" style=\"fill: none; stroke: #bfbfbf; stroke-width: 0.75; stroke-linecap: square\"/>\\n     </g>\\n     <g id=\"line2d_32\">\\n      <g>\\n       <use xlink:href=\"#m9a471f24cf\" x=\"236.16\" y=\"103.503874\" style=\"stroke: #000000; stroke-width: 0.8\"/>\\n      </g>\\n     </g>\\n     <g id=\"text_17\">\\n      <!-- 10 -->\\n      <g transform=\"translate(216.435 107.303093) scale(0.1 -0.1)\">\\n       <use xlink:href=\"#DejaVuSans-31\"/>\\n       <use xlink:href=\"#DejaVuSans-30\" x=\"63.623047\"/>\\n      </g>\\n     </g>\\n    </g>\\n    <g id=\"ytick_8\">\\n     <g id=\"line2d_33\">\\n      <path d=\"M 112.096252 72.487937 \\nL 360.223748 72.487937 \\n\" clip-path=\"url(#p0d54cf30a5)\" style=\"fill: none; stroke: #bfbfbf; stroke-width: 0.75; stroke-linecap: square\"/>\\n     </g>\\n     <g id=\"line2d_34\">\\n      <g>\\n       <use xlink:href=\"#m9a471f24cf\" x=\"236.16\" y=\"72.487937\" style=\"stroke: #000000; stroke-width: 0.8\"/>\\n      </g>\\n     </g>\\n     <g id=\"text_18\">\\n      <!-- 15 -->\\n      <g transform=\"translate(216.435 76.287156) scale(0.1 -0.1)\">\\n       <use xlink:href=\"#DejaVuSans-31\"/>\\n       <use xlink:href=\"#DejaVuSans-35\" x=\"63.623047\"/>\\n      </g>\\n     </g>\\n    </g>\\n    <g id=\"ytick_9\">\\n     <g id=\"line2d_35\">\\n      <path d=\"M 112.096252 41.472 \\nL 360.223748 41.472 \\n\" clip-path=\"url(#p0d54cf30a5)\" style=\"fill: none; stroke: #bfbfbf; stroke-width: 0.75; stroke-linecap: square\"/>\\n     </g>\\n     <g id=\"line2d_36\">\\n      <g>\\n       <use xlink:href=\"#m9a471f24cf\" x=\"236.16\" y=\"41.472\" style=\"stroke: #000000; stroke-width: 0.8\"/>\\n      </g>\\n     </g>\\n     <g id=\"text_19\">\\n      <!-- 20 -->\\n      <g transform=\"translate(216.435 45.271219) scale(0.1 -0.1)\">\\n       <use xlink:href=\"#DejaVuSans-32\"/>\\n       <use xlink:href=\"#DejaVuSans-30\" x=\"63.623047\"/>\\n      </g>\\n     </g>\\n    </g>\\n    <g id=\"text_20\">\\n     <!-- $y$ -->\\n     <g transform=\"translate(201.955313 177.528) rotate(-90) scale(0.1 -0.1)\">\\n      <defs>\\n       <path id=\"DejaVuSans-Oblique-79\" d=\"M 1588 -325 \\nQ 1188 -997 936 -1164 \\nQ 684 -1331 294 -1331 \\nL -159 -1331 \\nL -63 -850 \\nL 269 -850 \\nQ 509 -850 678 -719 \\nQ 847 -588 1056 -206 \\nL 1234 128 \\nL 459 3500 \\nL 1069 3500 \\nL 1650 819 \\nL 3256 3500 \\nL 3859 3500 \\nL 1588 -325 \\nz\\n\" transform=\"scale(0.015625)\"/>\\n      </defs>\\n      <use xlink:href=\"#DejaVuSans-Oblique-79\" transform=\"translate(0 0.3125)\"/>\\n     </g>\\n    </g>\\n   </g>\\n   <g id=\"PathCollection_1\">\\n    <path d=\"M 204.043995 289.599496 \\nL 205.96345 274.561466 \\nL 208.364961 257.017098 \\nL 210.996141 239.472729 \\nL 213.051313 226.941037 \\nL 215.803242 211.903007 \\nL 217.84909 201.877654 \\nL 220.159165 191.852301 \\nL 222.892002 181.826947 \\nL 225.372164 174.307932 \\nL 227.387816 169.217902 \\nL 230.043422 164.282579 \\nL 232.400492 161.30648 \\nL 234.906831 159.724196 \\nL 237.413169 159.724196 \\nL 239.919508 161.30648 \\nL 242.425846 164.471049 \\nL 244.962816 169.295256 \\nL 247.839982 176.814271 \\nL 250.175815 184.333286 \\nL 252.769464 194.358639 \\nL 255.524248 206.890331 \\nL 257.94534 219.422022 \\nL 260.926855 236.966391 \\nL 263.594126 254.510759 \\nL 266.025713 272.055128 \\nL 268.276005 289.599496 \\nL 268.276005 289.599496 \\n\" clip-path=\"url(#p0d54cf30a5)\" style=\"fill: none; stroke: #1f77b4; stroke-width: 1.5\"/>\\n   </g>\\n   <g id=\"PathCollection_2\">\\n    <path d=\"M 287.853228 41.472 \\nL 205.144063 289.599496 \\nL 205.144063 289.599496 \\n\" clip-path=\"url(#p0d54cf30a5)\" style=\"fill: none; stroke: #ff7f0e; stroke-width: 1.5\"/>\\n   </g>\\n   <g id=\"line2d_37\">\\n    <defs>\\n     <path id=\"m322bde291e\" d=\"M 0 3 \\nC 0.795609 3 1.55874 2.683901 2.12132 2.12132 \\nC 2.683901 1.55874 3 0.795609 3 0 \\nC 3 -0.795609 2.683901 -1.55874 2.12132 -2.12132 \\nC 1.55874 -2.683901 0.795609 -3 0 -3 \\nC -0.795609 -3 -1.55874 -2.683901 -2.12132 -2.12132 \\nC -2.683901 -1.55874 -3 -0.795609 -3 0 \\nC -3 0.795609 -2.683901 1.55874 -2.12132 2.12132 \\nC -1.55874 2.683901 -0.795609 3 0 3 \\nz\\n\" style=\"stroke: #2ca02c\"/>\\n    </defs>\\n    <g clip-path=\"url(#p0d54cf30a5)\">\\n     <use xlink:href=\"#m322bde291e\" x=\"245.126532\" y=\"169.652089\" style=\"fill: #2ca02c; stroke: #2ca02c\"/>\\n    </g>\\n   </g>\\n   <g id=\"line2d_38\">\\n    <defs>\\n     <path id=\"md3652794dd\" d=\"M 0 3 \\nC 0.795609 3 1.55874 2.683901 2.12132 2.12132 \\nC 2.683901 1.55874 3 0.795609 3 0 \\nC 3 -0.795609 2.683901 -1.55874 2.12132 -2.12132 \\nC 1.55874 -2.683901 0.795609 -3 0 -3 \\nC -0.795609 -3 -1.55874 -2.683901 -2.12132 -2.12132 \\nC -2.683901 -1.55874 -3 -0.795609 -3 0 \\nC -3 0.795609 -2.683901 1.55874 -2.12132 2.12132 \\nC -1.55874 2.683901 -0.795609 3 0 3 \\nz\\n\" style=\"stroke: #d62728\"/>\\n    </defs>\\n    <g clip-path=\"url(#p0d54cf30a5)\">\\n     <use xlink:href=\"#md3652794dd\" x=\"203.373228\" y=\"294.912\" style=\"fill: #d62728; stroke: #d62728\"/>\\n    </g>\\n   </g>\\n   <g id=\"patch_3\">\\n    <path d=\"M 236.16 307.584 \\nL 236.16 41.472 \\n\" style=\"fill: none; stroke: #000000; stroke-width: 0.8; stroke-linejoin: miter; stroke-linecap: square\"/>\\n   </g>\\n   <g id=\"patch_4\">\\n    <path d=\"M 112.096252 165.535748 \\nL 360.223748 165.535748 \\n\" style=\"fill: none; stroke: #000000; stroke-width: 0.8; stroke-linejoin: miter; stroke-linecap: square\"/>\\n   </g>\\n   <g id=\"legend_1\">\\n    <g id=\"patch_5\">\\n     <path d=\"M 222.823748 109.726688 \\nL 353.223748 109.726688 \\nQ 355.223748 109.726688 355.223748 107.726688 \\nL 355.223748 48.472 \\nQ 355.223748 46.472 353.223748 46.472 \\nL 222.823748 46.472 \\nQ 220.823748 46.472 220.823748 48.472 \\nL 220.823748 107.726688 \\nQ 220.823748 109.726688 222.823748 109.726688 \\nz\\n\" style=\"fill: #ffffff; opacity: 0.8; stroke: #cccccc; stroke-linejoin: miter\"/>\\n    </g>\\n    <g id=\"line2d_39\">\\n     <path d=\"M 224.823748 56.072 \\nL 234.823748 56.072 \\nL 244.823748 56.072 \\n\" style=\"fill: none; stroke: #1f77b4; stroke-width: 1.5; stroke-linecap: square\"/>\\n    </g>\\n    <g id=\"text_21\">\\n     <!-- $25 x^{2} + 32 y - 31 = 0$ -->\\n     <g transform=\"translate(252.823748 59.572) scale(0.1 -0.1)\">\\n      <defs>\\n       <path id=\"DejaVuSans-2b\" d=\"M 2944 4013 \\nL 2944 2272 \\nL 4684 2272 \\nL 4684 1741 \\nL 2944 1741 \\nL 2944 0 \\nL 2419 0 \\nL 2419 1741 \\nL 678 1741 \\nL 678 2272 \\nL 2419 2272 \\nL 2419 4013 \\nL 2944 4013 \\nz\\n\" transform=\"scale(0.015625)\"/>\\n       <path id=\"DejaVuSans-33\" d=\"M 2597 2516 \\nQ 3050 2419 3304 2112 \\nQ 3559 1806 3559 1356 \\nQ 3559 666 3084 287 \\nQ 2609 -91 1734 -91 \\nQ 1441 -91 1130 -33 \\nQ 819 25 488 141 \\nL 488 750 \\nQ 750 597 1062 519 \\nQ 1375 441 1716 441 \\nQ 2309 441 2620 675 \\nQ 2931 909 2931 1356 \\nQ 2931 1769 2642 2001 \\nQ 2353 2234 1838 2234 \\nL 1294 2234 \\nL 1294 2753 \\nL 1863 2753 \\nQ 2328 2753 2575 2939 \\nQ 2822 3125 2822 3475 \\nQ 2822 3834 2567 4026 \\nQ 2313 4219 1838 4219 \\nQ 1578 4219 1281 4162 \\nQ 984 4106 628 3988 \\nL 628 4550 \\nQ 988 4650 1302 4700 \\nQ 1616 4750 1894 4750 \\nQ 2613 4750 3031 4423 \\nQ 3450 4097 3450 3541 \\nQ 3450 3153 3228 2886 \\nQ 3006 2619 2597 2516 \\nz\\n\" transform=\"scale(0.015625)\"/>\\n       <path id=\"DejaVuSans-3d\" d=\"M 678 2906 \\nL 4684 2906 \\nL 4684 2381 \\nL 678 2381 \\nL 678 2906 \\nz\\nM 678 1631 \\nL 4684 1631 \\nL 4684 1100 \\nL 678 1100 \\nL 678 1631 \\nz\\n\" transform=\"scale(0.015625)\"/>\\n      </defs>\\n      <use xlink:href=\"#DejaVuSans-32\" transform=\"translate(0 0.765625)\"/>\\n      <use xlink:href=\"#DejaVuSans-35\" transform=\"translate(63.623047 0.765625)\"/>\\n      <use xlink:href=\"#DejaVuSans-Oblique-78\" transform=\"translate(127.246094 0.765625)\"/>\\n      <use xlink:href=\"#DejaVuSans-32\" transform=\"translate(190.891927 39.046875) scale(0.7)\"/>\\n      <use xlink:href=\"#DejaVuSans-2b\" transform=\"translate(257.644857 0.765625)\"/>\\n      <use xlink:href=\"#DejaVuSans-33\" transform=\"translate(360.916341 0.765625)\"/>\\n      <use xlink:href=\"#DejaVuSans-32\" transform=\"translate(424.539388 0.765625)\"/>\\n      <use xlink:href=\"#DejaVuSans-Oblique-79\" transform=\"translate(488.162435 0.765625)\"/>\\n      <use xlink:href=\"#DejaVuSans-2212\" transform=\"translate(566.824544 0.765625)\"/>\\n      <use xlink:href=\"#DejaVuSans-33\" transform=\"translate(670.096029 0.765625)\"/>\\n      <use xlink:href=\"#DejaVuSans-31\" transform=\"translate(733.719076 0.765625)\"/>\\n      <use xlink:href=\"#DejaVuSans-3d\" transform=\"translate(816.824544 0.765625)\"/>\\n      <use xlink:href=\"#DejaVuSans-30\" transform=\"translate(920.096029 0.765625)\"/>\\n     </g>\\n    </g>\\n    <g id=\"line2d_40\">\\n     <path d=\"M 224.823748 70.770438 \\nL 234.823748 70.770438 \\nL 244.823748 70.770438 \\n\" style=\"fill: none; stroke: #ff7f0e; stroke-width: 1.5; stroke-linecap: square\"/>\\n    </g>\\n    <g id=\"text_22\">\\n     <!-- $3 x - y - 5 = 0$ -->\\n     <g transform=\"translate(252.823748 74.270438) scale(0.1 -0.1)\">\\n      <use xlink:href=\"#DejaVuSans-33\" transform=\"translate(0 0.78125)\"/>\\n      <use xlink:href=\"#DejaVuSans-Oblique-78\" transform=\"translate(63.623047 0.78125)\"/>\\n      <use xlink:href=\"#DejaVuSans-2212\" transform=\"translate(142.285156 0.78125)\"/>\\n      <use xlink:href=\"#DejaVuSans-Oblique-79\" transform=\"translate(245.556641 0.78125)\"/>\\n      <use xlink:href=\"#DejaVuSans-2212\" transform=\"translate(324.21875 0.78125)\"/>\\n      <use xlink:href=\"#DejaVuSans-35\" transform=\"translate(427.490234 0.78125)\"/>\\n      <use xlink:href=\"#DejaVuSans-3d\" transform=\"translate(510.595703 0.78125)\"/>\\n      <use xlink:href=\"#DejaVuSans-30\" transform=\"translate(613.867188 0.78125)\"/>\\n     </g>\\n    </g>\\n    <g id=\"line2d_41\">\\n     <g>\\n      <use xlink:href=\"#m322bde291e\" x=\"234.823748\" y=\"85.468875\" style=\"fill: #2ca02c; stroke: #2ca02c\"/>\\n     </g>\\n    </g>\\n    <g id=\"text_23\">\\n     <!-- A -->\\n     <g transform=\"translate(252.823748 88.968875) scale(0.1 -0.1)\">\\n      <defs>\\n       <path id=\"DejaVuSans-41\" d=\"M 2188 4044 \\nL 1331 1722 \\nL 3047 1722 \\nL 2188 4044 \\nz\\nM 1831 4666 \\nL 2547 4666 \\nL 4325 0 \\nL 3669 0 \\nL 3244 1197 \\nL 1141 1197 \\nL 716 0 \\nL 50 0 \\nL 1831 4666 \\nz\\n\" transform=\"scale(0.015625)\"/>\\n      </defs>\\n      <use xlink:href=\"#DejaVuSans-41\"/>\\n     </g>\\n    </g>\\n    <g id=\"line2d_42\">\\n     <g>\\n      <use xlink:href=\"#md3652794dd\" x=\"234.823748\" y=\"100.147\" style=\"fill: #d62728; stroke: #d62728\"/>\\n     </g>\\n    </g>\\n    <g id=\"text_24\">\\n     <!-- B -->\\n     <g transform=\"translate(252.823748 103.647) scale(0.1 -0.1)\">\\n      <defs>\\n       <path id=\"DejaVuSans-42\" d=\"M 1259 2228 \\nL 1259 519 \\nL 2272 519 \\nQ 2781 519 3026 730 \\nQ 3272 941 3272 1375 \\nQ 3272 1813 3026 2020 \\nQ 2781 2228 2272 2228 \\nL 1259 2228 \\nz\\nM 1259 4147 \\nL 1259 2741 \\nL 2194 2741 \\nQ 2656 2741 2882 2914 \\nQ 3109 3088 3109 3444 \\nQ 3109 3797 2882 3972 \\nQ 2656 4147 2194 4147 \\nL 1259 4147 \\nz\\nM 628 4666 \\nL 2241 4666 \\nQ 2963 4666 3353 4366 \\nQ 3744 4066 3744 3513 \\nQ 3744 3084 3544 2831 \\nQ 3344 2578 2956 2516 \\nQ 3422 2416 3680 2098 \\nQ 3938 1781 3938 1306 \\nQ 3938 681 3513 340 \\nQ 3088 0 2303 0 \\nL 628 0 \\nL 628 4666 \\nz\\n\" transform=\"scale(0.015625)\"/>\\n      </defs>\\n      <use xlink:href=\"#DejaVuSans-42\"/>\\n     </g>\\n    </g>\\n   </g>\\n  </g>\\n </g>\\n <defs>\\n  <clipPath id=\"p0d54cf30a5\">\\n   <rect x=\"112.096252\" y=\"41.472\" width=\"248.127496\" height=\"266.112\"/>\\n  </clipPath>\\n </defs>\\n</svg>\\n'}, 'answer': [{x: -48/25 + sqrt(7079)/25, y: -269/25 + 3*sqrt(7079)/25}, {x: -sqrt(7079)/25 - 48/25, y: -269/25 - 3*sqrt(7079)/25}]}\n"
     ]
    },
    {
     "data": {
      "image/png": "[encoded data removed]",
      "text/plain": [
       "<Figure size 640x480 with 1 Axes>"
      ]
     },
     "metadata": {},
     "output_type": "display_data"
    }
   ],
   "source": [
    "def GenerateFindParabolaAndLineCrossPointsTask():\n",
    "    result = []\n",
    "    while len(result) != 2:\n",
    "        a, c = randint(*choice([(2,4),(-4,-2)])), randint(*choice([(2,4),(-4,-2)]))\n",
    "        if a == c:\n",
    "            c+=1\n",
    "\n",
    "        b, d = randint(*choice([(2,5),(-5,-2)])), randint(*choice([(2,5),(-5,-2)]))\n",
    "        if b == d:\n",
    "            d+=1\n",
    "            \n",
    "        A = d**2\n",
    "        B = -2 * a * (d**2)\n",
    "        C = b**2\n",
    "        D = -2 * c * (b**2)\n",
    "        Q = d**2 * a**2 + c**2 * b**2 - b**2 * d**2\n",
    "        \n",
    "        x, y = sp.symbols(\"x y\", real=True)\n",
    "\n",
    "        circle = sp.Eq(A*x**2 + C*y**2 + B*x + D*y + Q, 0)\n",
    "        parabola = sp.Eq(A*x**2 + 0*y**2 + 2*C*y + Q, 0)\n",
    "        lx0, lx1, ly1 = randint(-5, 5), randint(-5, 5), 1\n",
    "        \n",
    "        line = sp.Eq(lx1*x - ly1*y - lx0, 0)\n",
    "\n",
    "        result = sp.solve([parabola, line], [x, y], dict=True)\n",
    "\n",
    "    #print('координаты точки пересчения А: ', result[0][x], result[0][y])\n",
    "    #print('координаты точки пересчения B: ', result[1][x], result[1][y])\n",
    "\n",
    "    ranges = (x, -20, 20), (y, -20, 20)\n",
    "    \n",
    "    plot_base = spb.graphics(\n",
    "        spb.implicit_2d(parabola, *ranges),\n",
    "        spb.implicit_2d(line, *ranges),\n",
    "        rendering_kw={\"marker\": \"ro\", \"markerfacecolor\": None},\n",
    "        backend=spb.MB,\n",
    "        axis_center=(0.0, 0.0),\n",
    "        #legend=False,\n",
    "        show=False,\n",
    "        aspect = \"equal\",\n",
    "    )\n",
    "    plot_anotation = spb.plot_list(\n",
    "        ([result[0][x]], [result[0][y]], \"A\"),\n",
    "        (result[1][x], result[1][y], \"B\"),\n",
    "        rendering_kw={\"marker\": \"o\", \"markerfacecolor\": None},\n",
    "        scatter=True, show=False\n",
    "    )\n",
    "    \n",
    "    plot = plot_base + plot_anotation\n",
    "    #plot.show()\n",
    "\n",
    "    buffer = io.StringIO()\n",
    "    plot.save(buffer, format = \"svg\")\n",
    "\n",
    "    task = f\"\"\n",
    "    answer = result\n",
    "\n",
    "    dic = {\n",
    "    \"task\": task,\n",
    "    \"data\": {'img': buffer.getvalue()}, \n",
    "    \"answer\": answer}\n",
    "    return dic\n",
    "\n",
    "print(GenerateFindParabolaAndLineCrossPointsTask())"
   ]
  }
 ],
 "metadata": {
  "kernelspec": {
   "display_name": "Python 3",
   "language": "python",
   "name": "python3"
  },
  "language_info": {
   "codemirror_mode": {
    "name": "ipython",
    "version": 3
   },
   "file_extension": ".py",
   "mimetype": "text/x-python",
   "name": "python",
   "nbconvert_exporter": "python",
   "pygments_lexer": "ipython3",
   "version": "3.10.7"
  }
 },
 "nbformat": 4,
 "nbformat_minor": 2
}
